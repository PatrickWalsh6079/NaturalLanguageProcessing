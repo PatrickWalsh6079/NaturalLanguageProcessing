{
 "cells": [
  {
   "cell_type": "code",
   "execution_count": null,
   "id": "44715399-5250-4f9f-bff0-f74d3872790c",
   "metadata": {
    "tags": []
   },
   "outputs": [],
   "source": [
    "%pip install pandas\n",
    "%pip install scikit-learn==1.2.1\n",
    "%pip install boto3\n",
    "%pip install sagemaker"
   ]
  },
  {
   "cell_type": "code",
   "execution_count": null,
   "id": "70973fe3-3edb-463d-ab2b-00ba0e971c56",
   "metadata": {
    "tags": []
   },
   "outputs": [],
   "source": [
    "import warnings\n",
    "\n",
    "# Suppress future warnings\n",
    "warnings.simplefilter(action='ignore', category=FutureWarning)"
   ]
  },
  {
   "cell_type": "markdown",
   "id": "237347a3-085e-40df-9901-481111a12243",
   "metadata": {},
   "source": [
    "# Load Dataset"
   ]
  },
  {
   "cell_type": "code",
   "execution_count": null,
   "id": "e0ace53d-16ba-4c71-a5a1-2c609bd41554",
   "metadata": {
    "tags": []
   },
   "outputs": [],
   "source": [
    "import pandas as pd\n",
    "import boto3\n",
    "from urllib.parse import urlparse\n",
    "from io import StringIO\n",
    "\n",
    "# Initialize S3 client\n",
    "s3 = boto3.client('s3')\n",
    "\n",
    "# S3 URI\n",
    "s3_uri = 's3://pathto/file.csv'\n",
    "\n",
    "# Parse the S3 URI\n",
    "parsed_uri = urlparse(s3_uri)\n",
    "bucket_name = parsed_uri.netloc\n",
    "csv_file_key = parsed_uri.path.lstrip('/')\n",
    "\n",
    "# Read the CSV file from S3\n",
    "response = s3.get_object(Bucket=bucket_name, Key=csv_file_key)\n",
    "csv_content = response['Body'].read().decode('utf-8')\n",
    "\n",
    "# Convert CSV content to a pandas DataFrame\n",
    "df = pd.read_csv(StringIO(csv_content))\n",
    "df.columns = [\"true_label\", \"text\"]\n",
    "\n",
    "# Now you have your DataFrame ready\n",
    "print(len(df))\n",
    "print(df.head())"
   ]
  },
  {
   "cell_type": "code",
   "execution_count": null,
   "id": "48e19a59-53f3-4e5c-ba69-5fdf88e8e035",
   "metadata": {
    "tags": []
   },
   "outputs": [],
   "source": [
    "# Strip leading and trailing whitespace from the 'text' column\n",
    "df['text'] = df['text'].str.strip()\n",
    "\n",
    "# Drop rows with empty strings in the 'text' column\n",
    "df = df[df['text'] != ''].reset_index(drop=True)\n",
    "\n",
    "# Drop rows with empty strings in the 'true_label' column\n",
    "df = df[df['true_label'] != '\"\"'].reset_index(drop=True)\n",
    "\n",
    "# Drop rows where column is NaN\n",
    "df = df.dropna(subset=['true_label', 'text'], how='any').reset_index(drop=True)\n",
    "\n",
    "print(len(df))\n",
    "print(df.head())"
   ]
  },
  {
   "cell_type": "code",
   "execution_count": null,
   "id": "221579ae-bd45-493d-8779-792bab7ab52f",
   "metadata": {
    "tags": []
   },
   "outputs": [],
   "source": [
    "print('Unique labels:')\n",
    "print(len(df['true_label'].unique()))\n",
    "print(df['true_label'].unique())"
   ]
  },
  {
   "cell_type": "code",
   "execution_count": null,
   "id": "d3e2d784-0e8c-4706-aa85-823f2df75a1d",
   "metadata": {
    "tags": []
   },
   "outputs": [],
   "source": [
    "print(df['true_label'].value_counts())"
   ]
  },
  {
   "cell_type": "markdown",
   "id": "1316a4e5-e350-4643-af51-1423c43fd63e",
   "metadata": {},
   "source": [
    "# Vectorize DF"
   ]
  },
  {
   "cell_type": "code",
   "execution_count": null,
   "id": "f0a8d1f2-2916-4f3e-bf1b-4b45392859f7",
   "metadata": {
    "tags": []
   },
   "outputs": [],
   "source": [
    "from sklearn.feature_extraction.text import CountVectorizer, TfidfVectorizer\n",
    "\n",
    "# create vectorizer object\n",
    "vectorizer = CountVectorizer(input='content', stop_words='english')\n",
    "# vectorizer = TfidfVectorizer(input='content', stop_words='english')"
   ]
  },
  {
   "cell_type": "code",
   "execution_count": null,
   "id": "37510651-7152-4a1c-8163-e33437991ad7",
   "metadata": {
    "tags": []
   },
   "outputs": [],
   "source": [
    "# create document term matrix using TFIDF object\n",
    "dtm = vectorizer.fit_transform(df['text'])\n",
    "# vectorize df\n",
    "df_vect = pd.DataFrame(dtm.toarray(), columns=vectorizer.get_feature_names_out())\n",
    "\n",
    "df_vect.insert(0, 'LABEL', df['true_label'])\n",
    "\n",
    "# Rename df\n",
    "df = df_vect\n",
    "print(df.head())"
   ]
  },
  {
   "cell_type": "markdown",
   "id": "68b9f3d6-bc8a-4754-98a4-96c3519752e7",
   "metadata": {},
   "source": [
    "# Clean Vectorized Dataset"
   ]
  },
  {
   "cell_type": "code",
   "execution_count": null,
   "id": "28c2c28e-3fe8-41d5-8413-f3fce6a5acbc",
   "metadata": {
    "tags": []
   },
   "outputs": [],
   "source": [
    "# Import NLTK\n",
    "import nltk\n",
    "\n",
    "# Download the NLTK words corpus\n",
    "nltk.download('words')\n",
    "\n",
    "# Load English words into a set\n",
    "english_words = set(nltk.corpus.words.words())\n",
    "\n",
    "# Function to check if a string contains any numeric characters\n",
    "def contains_numbers(s):\n",
    "    return any(char.isdigit() for char in s)\n",
    "\n",
    "# Drop columns that contain numbers, are more than 15 characters long, contain underscores,\n",
    "# are less than 3 characters long, or don't contain dictionary words\n",
    "columns_to_drop = []\n",
    "for column in df.columns:\n",
    "    if (contains_numbers(column) or \n",
    "        len(column) > 15 or \n",
    "        '_' in column or \n",
    "        len(column) < 3 or \n",
    "        column.lower() not in english_words):\n",
    "        columns_to_drop.append(column)\n",
    "\n",
    "df = df.drop(columns=columns_to_drop)\n",
    "\n",
    "print(df.head())"
   ]
  },
  {
   "cell_type": "markdown",
   "id": "1f23c34e-b288-4e23-93af-3e6e209a6cdd",
   "metadata": {},
   "source": [
    "# Split into Training/Testing Sets"
   ]
  },
  {
   "cell_type": "code",
   "execution_count": null,
   "id": "0d124940-f112-4911-9fce-075141abeb59",
   "metadata": {
    "tags": []
   },
   "outputs": [],
   "source": [
    "from sklearn.model_selection import train_test_split\n",
    "\n",
    "TrainSet, TestSet = train_test_split(df, test_size=0.3)"
   ]
  },
  {
   "cell_type": "code",
   "execution_count": null,
   "id": "d11a9ce4-1b31-4aac-9936-a63b24e1ba38",
   "metadata": {
    "tags": []
   },
   "outputs": [],
   "source": [
    "# split testing labels from testing data\n",
    "TestLabels = TestSet['LABEL']\n",
    "TestSet = TestSet.drop([\"LABEL\"], axis=1)  # remove the entire column\n",
    "\n",
    "# split training labels from training data\n",
    "TrainLabels = TrainSet['LABEL']\n",
    "TrainSet = TrainSet.drop([\"LABEL\"], axis=1)  # remove the entire column"
   ]
  },
  {
   "cell_type": "code",
   "execution_count": null,
   "id": "f15c6d2a-2ef5-421d-84bb-bed16e95c0a9",
   "metadata": {
    "tags": []
   },
   "outputs": [],
   "source": [
    "print('Training set size:')\n",
    "print(len(TrainSet))\n",
    "print('Testing set size:')\n",
    "print(len(TestSet))\n",
    "print('Total dataset set size:')\n",
    "print(len(TrainSet + TestSet))"
   ]
  },
  {
   "cell_type": "markdown",
   "id": "1d5f39ec-da2d-4caf-9bc3-a64878b3f1e0",
   "metadata": {},
   "source": [
    "# Train Naive Bayes Model"
   ]
  },
  {
   "cell_type": "code",
   "execution_count": null,
   "id": "f0fcaa89-c1f5-43c0-b9fc-4f27cb37f2a7",
   "metadata": {
    "tags": []
   },
   "outputs": [],
   "source": [
    "from sklearn.naive_bayes import MultinomialNB\n",
    "import numpy as np\n",
    "\n",
    "NBModel = MultinomialNB()\n",
    "\n",
    "TrainedNB = NBModel.fit(TrainSet, TrainLabels)\n",
    "PredictionNB = NBModel.predict(TestSet)\n",
    "print(PredictionNB)\n",
    "print(np.round(NBModel.predict_proba(TestSet),2))"
   ]
  },
  {
   "cell_type": "code",
   "execution_count": null,
   "id": "ae96341c-c53e-4942-8ce1-b0db9ced30a8",
   "metadata": {
    "tags": []
   },
   "outputs": [],
   "source": [
    "from sklearn import metrics\n",
    "\n",
    "# Print a classification report\n",
    "print(metrics.classification_report(TestLabels, PredictionNB))"
   ]
  },
  {
   "cell_type": "code",
   "execution_count": null,
   "id": "be3b5361-161c-487d-97eb-2beeaeb6f901",
   "metadata": {
    "tags": []
   },
   "outputs": [],
   "source": [
    "from sklearn.metrics import confusion_matrix, ConfusionMatrixDisplay\n",
    "from sklearn.metrics import accuracy_score\n",
    "import matplotlib.pyplot as plt\n",
    "\n",
    "cnf_matrix = confusion_matrix(TestLabels, PredictionNB, labels=TrainedNB.classes_)\n",
    "print(\"\\nThe Model (Multinomial Naive Bayes) confusion matrix is:\")\n",
    "# print(cnf_matrix)\n",
    "disp = ConfusionMatrixDisplay(confusion_matrix=cnf_matrix,\n",
    "                              display_labels=TrainedNB.classes_)\n",
    "\n",
    "# Plot the confusion matrix\n",
    "fig, ax = plt.subplots()\n",
    "disp.plot(ax=ax)\n",
    "\n",
    "# Rotate the x-axis tick labels\n",
    "plt.xticks(rotation=90)\n",
    "\n",
    "plt.show()"
   ]
  },
  {
   "cell_type": "code",
   "execution_count": null,
   "id": "f2f03683-cd1e-4e37-98cf-9ed0673255e0",
   "metadata": {
    "tags": []
   },
   "outputs": [],
   "source": [
    "# Get the feature log probabilities for each class (label)\n",
    "feature_log_probs = NBModel.feature_log_prob_\n",
    "\n",
    "# Get the feature names\n",
    "feature_names = TrainSet.columns\n",
    "\n",
    "# Create a dictionary to store the feature importance scores for each class\n",
    "feature_importance = {}\n",
    "\n",
    "# Iterate over each class\n",
    "for i, label in enumerate(NBModel.classes_):\n",
    "    # Get the feature log probabilities for the current class\n",
    "    class_feature_log_probs = feature_log_probs[i]\n",
    "    \n",
    "    # Create a dictionary to store the feature importance scores for the current class\n",
    "    class_feature_importance = {}\n",
    "    \n",
    "    # Iterate over each feature and its corresponding log probability\n",
    "    for feature_name, log_prob in zip(feature_names, class_feature_log_probs):\n",
    "        # Store the feature importance score (log probability) in the dictionary\n",
    "        class_feature_importance[feature_name] = log_prob\n",
    "    \n",
    "    # Store the feature importance scores for the current class in the overall dictionary\n",
    "    feature_importance[label] = class_feature_importance\n",
    "\n",
    "# Sort the feature importance scores for each class by their values (log probabilities)\n",
    "for label, class_feature_importance in feature_importance.items():\n",
    "    # Sort the dictionary by values (log probabilities) in descending order\n",
    "    sorted_feature_importance = sorted(class_feature_importance.items(), key=lambda x: x[1], reverse=True)\n",
    "    \n",
    "    # Print the top N most significant words for the current class\n",
    "    print(f\"Top 10 most significant words for class '{label}':\")\n",
    "    for feature_name, log_prob in sorted_feature_importance[:10]:\n",
    "        print(f\"{feature_name}: {log_prob}\")\n",
    "    print(\"\\n\")"
   ]
  },
  {
   "cell_type": "markdown",
   "id": "fc53538e-74d7-42c8-bb48-269af87e888d",
   "metadata": {},
   "source": [
    "# Train Random Forest Model"
   ]
  },
  {
   "cell_type": "code",
   "execution_count": null,
   "id": "c0a06a91-24c2-45fb-ba51-413783f9d09f",
   "metadata": {
    "tags": []
   },
   "outputs": [],
   "source": [
    "from sklearn.ensemble import RandomForestClassifier\n",
    "\n",
    "RF = RandomForestClassifier()\n",
    "trainedRF = RF.fit(TrainSet, TrainLabels)\n",
    "RF_pred = RF.predict(TestSet)"
   ]
  },
  {
   "cell_type": "code",
   "execution_count": null,
   "id": "484dda33-e02c-4ada-8f69-302d92cc2e47",
   "metadata": {
    "tags": []
   },
   "outputs": [],
   "source": [
    "# Print a classification report\n",
    "print(metrics.classification_report(TestLabels, RF_pred))"
   ]
  },
  {
   "cell_type": "code",
   "execution_count": null,
   "id": "6d9f0b64-9818-4878-9bf8-10459a1b409b",
   "metadata": {
    "tags": []
   },
   "outputs": [],
   "source": [
    "bn_matrix_RF_text = confusion_matrix(TestLabels, RF_pred)\n",
    "print(\"\\nThe confusion matrix (Random Forest) is:\")\n",
    "# print(bn_matrix_RF_text)\n",
    "disp = ConfusionMatrixDisplay(confusion_matrix=bn_matrix_RF_text,\n",
    "                              display_labels=trainedRF.classes_)\n",
    "\n",
    "# Plot the confusion matrix\n",
    "fig, ax = plt.subplots()\n",
    "disp.plot(ax=ax)\n",
    "\n",
    "# Rotate the x-axis tick labels\n",
    "plt.xticks(rotation=90)\n",
    "\n",
    "plt.show()"
   ]
  },
  {
   "cell_type": "code",
   "execution_count": null,
   "id": "2ba78c3b-9a47-43be-9953-b307bc89d7b6",
   "metadata": {
    "tags": []
   },
   "outputs": [],
   "source": [
    "# Get feature importances from the trained Random Forest model\n",
    "feature_importances = trainedRF.feature_importances_\n",
    "\n",
    "# Create a dictionary to store the feature importance scores for each feature\n",
    "feature_importance_rf = {}\n",
    "\n",
    "# Iterate over each feature and its corresponding importance score\n",
    "for feature_name, importance_score in zip(TrainSet.columns, feature_importances):\n",
    "    # Store the feature importance score in the dictionary\n",
    "    feature_importance_rf[feature_name] = importance_score\n",
    "\n",
    "# Sort the feature importance scores by their values in descending order\n",
    "sorted_feature_importance_rf = sorted(feature_importance_rf.items(), key=lambda x: x[1], reverse=True)\n",
    "\n",
    "# Print the top N most significant words\n",
    "print(\"Top 20 most significant words for Random Forest:\")\n",
    "for feature_name, importance_score in sorted_feature_importance_rf[:20]:\n",
    "    print(f\"{feature_name}: {importance_score}\")"
   ]
  },
  {
   "cell_type": "markdown",
   "id": "11900f99-f852-4e60-b94e-452882c42478",
   "metadata": {},
   "source": [
    "# Train Support Vector Machine (SVM)"
   ]
  },
  {
   "cell_type": "code",
   "execution_count": null,
   "id": "4a6acb58-fedc-4d7f-a6dc-bcad3aaa0de9",
   "metadata": {
    "tags": []
   },
   "outputs": [],
   "source": [
    "from sklearn.preprocessing import MinMaxScaler\n",
    "\n",
    "# scale training and testing sets for use by SVMs\n",
    "scaling = MinMaxScaler(feature_range=(-1,1)).fit(TrainSet)\n",
    "TrainSetScaled = scaling.transform(TrainSet)\n",
    "TestSetScaled = scaling.transform(TestSet)"
   ]
  },
  {
   "cell_type": "code",
   "execution_count": null,
   "id": "56437aea-0b73-4fae-a5d4-6485e3c5b00e",
   "metadata": {
    "tags": []
   },
   "outputs": [],
   "source": [
    "TestSetScaled"
   ]
  },
  {
   "cell_type": "code",
   "execution_count": null,
   "id": "1d43e97b-dd02-432a-9060-90c4b2e2080c",
   "metadata": {
    "tags": []
   },
   "outputs": [],
   "source": [
    "from sklearn.svm import LinearSVC\n",
    "import time\n",
    "from tqdm import tqdm\n",
    "\n",
    "\n",
    "# Initialize LinearSVC model\n",
    "SVM_Model = LinearSVC(C=10, \n",
    "                       max_iter=10000,\n",
    "                       dual=True,\n",
    "                       verbose=True)\n",
    "\n",
    "# Start the timer\n",
    "start_time = time.time()\n",
    "\n",
    "# Fit the model with progress bar\n",
    "with tqdm(total=len(TrainSetScaled)) as pbar:\n",
    "    trainedSVM = SVM_Model.fit(TrainSetScaled, TrainLabels)\n",
    "    pbar.update(len(TrainSetScaled))\n",
    "\n",
    "# Predict with the trained model\n",
    "with tqdm(total=len(TestSetScaled)) as pbar:\n",
    "    predSVM = SVM_Model.predict(TestSetScaled)\n",
    "    pbar.update(len(TestSetScaled))\n",
    "\n",
    "# Print the predictions\n",
    "print(predSVM)\n",
    "\n",
    "# Calculate the time taken\n",
    "end_time = time.time()\n",
    "elapsed_time = end_time - start_time\n",
    "\n",
    "# Convert elapsed time to minutes and seconds\n",
    "minutes = int(elapsed_time // 60)\n",
    "seconds = int(elapsed_time % 60)\n",
    "\n",
    "# Print the time taken\n",
    "print(f\"Time taken: {minutes} minutes and {seconds} seconds\")"
   ]
  },
  {
   "cell_type": "code",
   "execution_count": null,
   "id": "06ebbc4c-5a7c-4961-b66f-78cced3dd599",
   "metadata": {
    "tags": []
   },
   "outputs": [],
   "source": [
    "# Print a classification report\n",
    "print(metrics.classification_report(TestLabels, predSVM))"
   ]
  },
  {
   "cell_type": "code",
   "execution_count": null,
   "id": "3df17556-af55-454f-bb72-528fb6d5b506",
   "metadata": {
    "tags": []
   },
   "outputs": [],
   "source": [
    "cnf_matrix = confusion_matrix(TestLabels, predSVM, labels=trainedSVM.classes_)\n",
    "print(\"\\nThe Model (SVM with Linear SVC) confusion matrix is:\")\n",
    "# print(cnf_matrix2)\n",
    "disp = ConfusionMatrixDisplay(confusion_matrix=cnf_matrix,\n",
    "                              display_labels=trainedSVM.classes_)\n",
    "\n",
    "# Plot the confusion matrix\n",
    "fig, ax = plt.subplots()\n",
    "disp.plot(ax=ax)\n",
    "\n",
    "# Rotate the x-axis tick labels\n",
    "plt.xticks(rotation=90)\n",
    "\n",
    "plt.show()"
   ]
  },
  {
   "cell_type": "markdown",
   "id": "c6c4b9b0-dd02-4473-afa0-f4af0dc567cf",
   "metadata": {},
   "source": [
    "# Save and Deploy Model"
   ]
  },
  {
   "cell_type": "code",
   "execution_count": null,
   "id": "0eb2f6ae-b758-456e-ad6c-df6ba518d282",
   "metadata": {
    "tags": []
   },
   "outputs": [],
   "source": [
    "import joblib\n",
    "import tarfile\n",
    "\n",
    "# Save the trained models\n",
    "# joblib.dump(multi_label_classifierNB, 'NB_model.joblib')\n",
    "joblib.dump(multi_label_classifierRF, 'RF_model.joblib')\n",
    "\n",
    "with tarfile.open('RF_model.tar.gz', 'w:gz') as tar:\n",
    "    tar.add('RF_model.joblib')\n",
    "\n",
    "# Upload the models to an S3 bucket\n",
    "s3 = boto3.client('s3')\n",
    "bucket_name = 'mybucket'\n",
    "# s3.upload_file('NB_model.joblib', bucket_name, 'model_endpoints/NB_model.joblib')\n",
    "s3.upload_file('RF_model.tar.gz', bucket_name, 'model_endpoints/RF_model.tar.gz')\n",
    "\n",
    "print('Files uploaded to S3!')"
   ]
  },
  {
   "cell_type": "code",
   "execution_count": null,
   "id": "e1f5a91b-baf5-4167-bed4-23fa8578870a",
   "metadata": {
    "tags": []
   },
   "outputs": [],
   "source": [
    "# TEST MODEL OUT LOCALLY \n",
    "import pandas as pd\n",
    "\n",
    "# Load the model\n",
    "model_path = 'RF_model.joblib'\n",
    "model = joblib.load(model_path)\n",
    "\n",
    "# Perform inference\n",
    "predictions = model.predict(X_test)\n",
    "print(predictions[0])\n",
    "\n",
    "original_labels = mlb.inverse_transform(y_test)\n",
    "print(original_labels[0])"
   ]
  },
  {
   "cell_type": "code",
   "execution_count": null,
   "id": "2649ade5-c822-4538-ad39-24be7ac30269",
   "metadata": {
    "tags": []
   },
   "outputs": [],
   "source": [
    "import boto3\n",
    "import sagemaker\n",
    "from datetime import datetime\n",
    "from sagemaker.compute_resource_requirements.resource_requirements import ResourceRequirements\n",
    "from sagemaker.predictor import Predictor\n",
    "from sagemaker.enums import EndpointType\n",
    "from sagemaker.model import Model\n",
    "from sagemaker.session import Session\n",
    "\n",
    "# Create a SageMaker session\n",
    "# sagemaker_session = sagemaker.Session()\n",
    "\n",
    "# Create a variable w/ the model S3 URL\n",
    "\n",
    "# The name of your S3 bucket:\n",
    "s3_bucket = \"mybucket\"\n",
    "# The directory within your S3 bucket your model is stored in:\n",
    "bucket_prefix = \"model_endpoints\"\n",
    "# The file name of your model artifact:\n",
    "model_filename = \"RF_model.tar.gz\"\n",
    "# Relative S3 path:\n",
    "model_s3_key = f\"{bucket_prefix}/\" + model_filename\n",
    "# Combine bucket name, model file name, and relate S3 path to create S3 model URL:\n",
    "model_url = f\"s3://{s3_bucket}/{model_s3_key}\"\n",
    "print('model_url:')\n",
    "print(model_url)"
   ]
  },
  {
   "cell_type": "markdown",
   "id": "15f610f6-0c40-40e2-80ef-503dc5cc3578",
   "metadata": {},
   "source": [
    "# Alternate Method"
   ]
  },
  {
   "cell_type": "code",
   "execution_count": null,
   "id": "422429b6-1861-41fa-b04d-b7cb6fd044cc",
   "metadata": {
    "tags": []
   },
   "outputs": [],
   "source": [
    "client = boto3.client(service_name=\"sagemaker\")\n",
    "region = sess.boto_region_name\n",
    "\n",
    "# retrieve sklearn image\n",
    "image_uri = sagemaker.image_uris.retrieve(\n",
    "    framework=\"sklearn\",\n",
    "    region=region,\n",
    "    version=\"0.23-1\",\n",
    "    py_version=\"py3\",\n",
    "    instance_type=\"ml.m5.xlarge\",\n",
    ")\n",
    "\n",
    "#Step 1: Model Creation\n",
    "now = datetime.now()\n",
    "dt_string = now.strftime(\"%d-%m-%Y-%H-%M-%S\")\n",
    "model_name = \"RF-model-v1-\"+dt_string\n",
    "role = sagemaker.get_execution_role()\n",
    "\n",
    "print(\"Model name: \" + model_name)\n",
    "create_model_response = client.create_model(\n",
    "    ModelName=model_name,\n",
    "    Containers=[\n",
    "        {\n",
    "            \"Image\": image_uri,\n",
    "            \"ModelDataUrl\": model_url,\n",
    "        }\n",
    "    ],\n",
    "    ExecutionRoleArn=role,\n",
    ")\n",
    "print(\"Model Arn: \" + create_model_response[\"ModelArn\"])\n",
    "print(region)"
   ]
  },
  {
   "cell_type": "code",
   "execution_count": null,
   "id": "a010f6ab-c15b-49dc-ba2a-090553b77c9c",
   "metadata": {
    "tags": []
   },
   "outputs": [],
   "source": [
    "from time import gmtime, strftime\n",
    "\n",
    "#Step 2: EPC Creation - Serverless\n",
    "# sklearn_epc_name = \"sklearn-epc\" + strftime(\"%Y-%m-%d-%H-%M-%S\", gmtime())\n",
    "# response = client.create_endpoint_config(\n",
    "#    EndpointConfigName=sklearn_epc_name,\n",
    "#    ProductionVariants=[\n",
    "#         {\n",
    "#             \"ModelName\": model_name,\n",
    "#             \"VariantName\": \"sklearnvariant\",\n",
    "#             \"ServerlessConfig\": {\n",
    "#                 \"MemorySizeInMB\": 2048,\n",
    "#                 \"MaxConcurrency\": 20\n",
    "#             }\n",
    "#         } \n",
    "#     ]\n",
    "# )\n",
    "# Step 2: EPC Creation - Synchronous\n",
    "sklearn_epc_name = \"sklearn-epc\" + strftime(\"%Y-%m-%d-%H-%M-%S\", gmtime())\n",
    "endpoint_config_response = client.create_endpoint_config(\n",
    "    EndpointConfigName=sklearn_epc_name,\n",
    "    ProductionVariants=[\n",
    "        {\n",
    "            \"VariantName\": \"sklearnvariant\",\n",
    "            \"ModelName\": model_name,\n",
    "            \"InstanceType\": \"ml.m5.xlarge\",\n",
    "            \"InitialInstanceCount\": 1\n",
    "        },\n",
    "    ],\n",
    ")\n",
    "print(\"Endpoint Configuration Arn: \" + endpoint_config_response[\"EndpointConfigArn\"])"
   ]
  },
  {
   "cell_type": "code",
   "execution_count": null,
   "id": "46de59d2-3a2c-4fa0-a942-ec866f7ab28c",
   "metadata": {
    "tags": []
   },
   "outputs": [],
   "source": [
    "#Step 3: EP Creation\n",
    "endpoint_name = \"sklearn-local-ep\" + strftime(\"%Y-%m-%d-%H-%M-%S\", gmtime())\n",
    "create_endpoint_response = client.create_endpoint(\n",
    "    EndpointName=endpoint_name,\n",
    "    EndpointConfigName=sklearn_epc_name,\n",
    ")\n",
    "print(\"Endpoint Arn: \" + create_endpoint_response[\"EndpointArn\"])"
   ]
  },
  {
   "cell_type": "markdown",
   "id": "05f90469-d5b0-45b1-a899-4f74d2c0e222",
   "metadata": {},
   "source": [
    "# End of Alternate Method"
   ]
  },
  {
   "cell_type": "code",
   "execution_count": null,
   "id": "1a0a5afb-a5e5-45c4-a461-e84842b12b5e",
   "metadata": {
    "tags": []
   },
   "outputs": [],
   "source": [
    "resources = ResourceRequirements(\n",
    "    requests = {\n",
    "        \"num_cpus\": 2,  # Number of CPU cores required:\n",
    "        \"num_accelerators\": 1, # Number of accelerators required\n",
    "        \"memory\": 8192,  # Minimum memory required in Mb (required)\n",
    "        \"copies\": 1,\n",
    "    },\n",
    "    limits = {\"num_cpus\": 4,  # Maximum number of CPU cores allowed\n",
    "    \"num_accelerators\": 1,  # Maximum number of accelerators allowed\n",
    "    \"memory\": 16384,  # Maximum memory allowed in Mb}\n",
    "             }\n",
    ")\n",
    "\n",
    "now = datetime.now()\n",
    "dt_string = now.strftime(\"%d-%m-%Y-%H-%M-%S\")\n",
    "model_name = \"RF-model-v1-\"+dt_string\n",
    "\n",
    "# build your model with Model class\n",
    "role = sagemaker.get_execution_role()\n",
    "print('Role:')\n",
    "print(role)"
   ]
  },
  {
   "cell_type": "code",
   "execution_count": null,
   "id": "84b95ae0-2523-4e19-9ce2-14bcc2618274",
   "metadata": {
    "tags": []
   },
   "outputs": [],
   "source": [
    "print(image_uri)"
   ]
  },
  {
   "cell_type": "code",
   "execution_count": null,
   "id": "4c580840-8863-4ee9-a7ab-b68d08d02255",
   "metadata": {
    "tags": []
   },
   "outputs": [],
   "source": [
    "from sagemaker import image_uris\n",
    "\n",
    "sess = sagemaker.Session()\n",
    "region = sess.boto_region_name\n",
    "\n",
    "image_uri = image_uris.retrieve(framework='sklearn',\n",
    "                                region=region,\n",
    "                                version='1.2-1',\n",
    "                                image_scope='inference')\n",
    "\n",
    "# build your model with Model class\n",
    "model = Model(\n",
    "    name = model_name,\n",
    "    image_uri = image_uri,\n",
    "    model_data = model_url,\n",
    "    role = role,\n",
    "    resources = resources,\n",
    "    predictor_cls = Predictor,\n",
    ")\n",
    "\n",
    "print('model_name:')\n",
    "print(model_name)"
   ]
  },
  {
   "cell_type": "code",
   "execution_count": null,
   "id": "466e2fdb-d916-45f7-8de0-b3af815e4805",
   "metadata": {
    "tags": []
   },
   "outputs": [],
   "source": [
    "predictor = model.deploy(\n",
    "    initial_instance_count = 1,\n",
    "    instance_type = \"ml.m5.xlarge\", # ml.p4d.24xlarge\n",
    "    endpoint_type = EndpointType.INFERENCE_COMPONENT_BASED,  # MODEL_BASED INFERENCE_COMPONENT_BASED\n",
    "    resources = resources,\n",
    ")"
   ]
  },
  {
   "cell_type": "code",
   "execution_count": null,
   "id": "f7e540c3-16a4-498a-9857-1805a2b59272",
   "metadata": {},
   "outputs": [],
   "source": [
    "result = predictor.predict(data)  # Send inference request"
   ]
  },
  {
   "cell_type": "code",
   "execution_count": null,
   "id": "4c9a613b-ed45-480f-9508-4446549c8743",
   "metadata": {
    "tags": []
   },
   "outputs": [],
   "source": [
    "predictor.delete_endpoint()"
   ]
  },
  {
   "cell_type": "code",
   "execution_count": null,
   "id": "bec8bd5b-bcdc-44b7-912a-d99959c3409c",
   "metadata": {},
   "outputs": [],
   "source": []
  }
 ],
 "metadata": {
  "availableInstances": [
   {
    "_defaultOrder": 0,
    "_isFastLaunch": true,
    "category": "General purpose",
    "gpuNum": 0,
    "hideHardwareSpecs": false,
    "memoryGiB": 4,
    "name": "ml.t3.medium",
    "vcpuNum": 2
   },
   {
    "_defaultOrder": 1,
    "_isFastLaunch": false,
    "category": "General purpose",
    "gpuNum": 0,
    "hideHardwareSpecs": false,
    "memoryGiB": 8,
    "name": "ml.t3.large",
    "vcpuNum": 2
   },
   {
    "_defaultOrder": 2,
    "_isFastLaunch": false,
    "category": "General purpose",
    "gpuNum": 0,
    "hideHardwareSpecs": false,
    "memoryGiB": 16,
    "name": "ml.t3.xlarge",
    "vcpuNum": 4
   },
   {
    "_defaultOrder": 3,
    "_isFastLaunch": false,
    "category": "General purpose",
    "gpuNum": 0,
    "hideHardwareSpecs": false,
    "memoryGiB": 32,
    "name": "ml.t3.2xlarge",
    "vcpuNum": 8
   },
   {
    "_defaultOrder": 4,
    "_isFastLaunch": true,
    "category": "General purpose",
    "gpuNum": 0,
    "hideHardwareSpecs": false,
    "memoryGiB": 8,
    "name": "ml.m5.large",
    "vcpuNum": 2
   },
   {
    "_defaultOrder": 5,
    "_isFastLaunch": false,
    "category": "General purpose",
    "gpuNum": 0,
    "hideHardwareSpecs": false,
    "memoryGiB": 16,
    "name": "ml.m5.xlarge",
    "vcpuNum": 4
   },
   {
    "_defaultOrder": 6,
    "_isFastLaunch": false,
    "category": "General purpose",
    "gpuNum": 0,
    "hideHardwareSpecs": false,
    "memoryGiB": 32,
    "name": "ml.m5.2xlarge",
    "vcpuNum": 8
   },
   {
    "_defaultOrder": 7,
    "_isFastLaunch": false,
    "category": "General purpose",
    "gpuNum": 0,
    "hideHardwareSpecs": false,
    "memoryGiB": 64,
    "name": "ml.m5.4xlarge",
    "vcpuNum": 16
   },
   {
    "_defaultOrder": 8,
    "_isFastLaunch": false,
    "category": "General purpose",
    "gpuNum": 0,
    "hideHardwareSpecs": false,
    "memoryGiB": 128,
    "name": "ml.m5.8xlarge",
    "vcpuNum": 32
   },
   {
    "_defaultOrder": 9,
    "_isFastLaunch": false,
    "category": "General purpose",
    "gpuNum": 0,
    "hideHardwareSpecs": false,
    "memoryGiB": 192,
    "name": "ml.m5.12xlarge",
    "vcpuNum": 48
   },
   {
    "_defaultOrder": 10,
    "_isFastLaunch": false,
    "category": "General purpose",
    "gpuNum": 0,
    "hideHardwareSpecs": false,
    "memoryGiB": 256,
    "name": "ml.m5.16xlarge",
    "vcpuNum": 64
   },
   {
    "_defaultOrder": 11,
    "_isFastLaunch": false,
    "category": "General purpose",
    "gpuNum": 0,
    "hideHardwareSpecs": false,
    "memoryGiB": 384,
    "name": "ml.m5.24xlarge",
    "vcpuNum": 96
   },
   {
    "_defaultOrder": 12,
    "_isFastLaunch": false,
    "category": "General purpose",
    "gpuNum": 0,
    "hideHardwareSpecs": false,
    "memoryGiB": 8,
    "name": "ml.m5d.large",
    "vcpuNum": 2
   },
   {
    "_defaultOrder": 13,
    "_isFastLaunch": false,
    "category": "General purpose",
    "gpuNum": 0,
    "hideHardwareSpecs": false,
    "memoryGiB": 16,
    "name": "ml.m5d.xlarge",
    "vcpuNum": 4
   },
   {
    "_defaultOrder": 14,
    "_isFastLaunch": false,
    "category": "General purpose",
    "gpuNum": 0,
    "hideHardwareSpecs": false,
    "memoryGiB": 32,
    "name": "ml.m5d.2xlarge",
    "vcpuNum": 8
   },
   {
    "_defaultOrder": 15,
    "_isFastLaunch": false,
    "category": "General purpose",
    "gpuNum": 0,
    "hideHardwareSpecs": false,
    "memoryGiB": 64,
    "name": "ml.m5d.4xlarge",
    "vcpuNum": 16
   },
   {
    "_defaultOrder": 16,
    "_isFastLaunch": false,
    "category": "General purpose",
    "gpuNum": 0,
    "hideHardwareSpecs": false,
    "memoryGiB": 128,
    "name": "ml.m5d.8xlarge",
    "vcpuNum": 32
   },
   {
    "_defaultOrder": 17,
    "_isFastLaunch": false,
    "category": "General purpose",
    "gpuNum": 0,
    "hideHardwareSpecs": false,
    "memoryGiB": 192,
    "name": "ml.m5d.12xlarge",
    "vcpuNum": 48
   },
   {
    "_defaultOrder": 18,
    "_isFastLaunch": false,
    "category": "General purpose",
    "gpuNum": 0,
    "hideHardwareSpecs": false,
    "memoryGiB": 256,
    "name": "ml.m5d.16xlarge",
    "vcpuNum": 64
   },
   {
    "_defaultOrder": 19,
    "_isFastLaunch": false,
    "category": "General purpose",
    "gpuNum": 0,
    "hideHardwareSpecs": false,
    "memoryGiB": 384,
    "name": "ml.m5d.24xlarge",
    "vcpuNum": 96
   },
   {
    "_defaultOrder": 20,
    "_isFastLaunch": false,
    "category": "General purpose",
    "gpuNum": 0,
    "hideHardwareSpecs": true,
    "memoryGiB": 0,
    "name": "ml.geospatial.interactive",
    "supportedImageNames": [
     "sagemaker-geospatial-v1-0"
    ],
    "vcpuNum": 0
   },
   {
    "_defaultOrder": 21,
    "_isFastLaunch": true,
    "category": "Compute optimized",
    "gpuNum": 0,
    "hideHardwareSpecs": false,
    "memoryGiB": 4,
    "name": "ml.c5.large",
    "vcpuNum": 2
   },
   {
    "_defaultOrder": 22,
    "_isFastLaunch": false,
    "category": "Compute optimized",
    "gpuNum": 0,
    "hideHardwareSpecs": false,
    "memoryGiB": 8,
    "name": "ml.c5.xlarge",
    "vcpuNum": 4
   },
   {
    "_defaultOrder": 23,
    "_isFastLaunch": false,
    "category": "Compute optimized",
    "gpuNum": 0,
    "hideHardwareSpecs": false,
    "memoryGiB": 16,
    "name": "ml.c5.2xlarge",
    "vcpuNum": 8
   },
   {
    "_defaultOrder": 24,
    "_isFastLaunch": false,
    "category": "Compute optimized",
    "gpuNum": 0,
    "hideHardwareSpecs": false,
    "memoryGiB": 32,
    "name": "ml.c5.4xlarge",
    "vcpuNum": 16
   },
   {
    "_defaultOrder": 25,
    "_isFastLaunch": false,
    "category": "Compute optimized",
    "gpuNum": 0,
    "hideHardwareSpecs": false,
    "memoryGiB": 72,
    "name": "ml.c5.9xlarge",
    "vcpuNum": 36
   },
   {
    "_defaultOrder": 26,
    "_isFastLaunch": false,
    "category": "Compute optimized",
    "gpuNum": 0,
    "hideHardwareSpecs": false,
    "memoryGiB": 96,
    "name": "ml.c5.12xlarge",
    "vcpuNum": 48
   },
   {
    "_defaultOrder": 27,
    "_isFastLaunch": false,
    "category": "Compute optimized",
    "gpuNum": 0,
    "hideHardwareSpecs": false,
    "memoryGiB": 144,
    "name": "ml.c5.18xlarge",
    "vcpuNum": 72
   },
   {
    "_defaultOrder": 28,
    "_isFastLaunch": false,
    "category": "Compute optimized",
    "gpuNum": 0,
    "hideHardwareSpecs": false,
    "memoryGiB": 192,
    "name": "ml.c5.24xlarge",
    "vcpuNum": 96
   },
   {
    "_defaultOrder": 29,
    "_isFastLaunch": true,
    "category": "Accelerated computing",
    "gpuNum": 1,
    "hideHardwareSpecs": false,
    "memoryGiB": 16,
    "name": "ml.g4dn.xlarge",
    "vcpuNum": 4
   },
   {
    "_defaultOrder": 30,
    "_isFastLaunch": false,
    "category": "Accelerated computing",
    "gpuNum": 1,
    "hideHardwareSpecs": false,
    "memoryGiB": 32,
    "name": "ml.g4dn.2xlarge",
    "vcpuNum": 8
   },
   {
    "_defaultOrder": 31,
    "_isFastLaunch": false,
    "category": "Accelerated computing",
    "gpuNum": 1,
    "hideHardwareSpecs": false,
    "memoryGiB": 64,
    "name": "ml.g4dn.4xlarge",
    "vcpuNum": 16
   },
   {
    "_defaultOrder": 32,
    "_isFastLaunch": false,
    "category": "Accelerated computing",
    "gpuNum": 1,
    "hideHardwareSpecs": false,
    "memoryGiB": 128,
    "name": "ml.g4dn.8xlarge",
    "vcpuNum": 32
   },
   {
    "_defaultOrder": 33,
    "_isFastLaunch": false,
    "category": "Accelerated computing",
    "gpuNum": 4,
    "hideHardwareSpecs": false,
    "memoryGiB": 192,
    "name": "ml.g4dn.12xlarge",
    "vcpuNum": 48
   },
   {
    "_defaultOrder": 34,
    "_isFastLaunch": false,
    "category": "Accelerated computing",
    "gpuNum": 1,
    "hideHardwareSpecs": false,
    "memoryGiB": 256,
    "name": "ml.g4dn.16xlarge",
    "vcpuNum": 64
   },
   {
    "_defaultOrder": 35,
    "_isFastLaunch": false,
    "category": "Accelerated computing",
    "gpuNum": 1,
    "hideHardwareSpecs": false,
    "memoryGiB": 61,
    "name": "ml.p3.2xlarge",
    "vcpuNum": 8
   },
   {
    "_defaultOrder": 36,
    "_isFastLaunch": false,
    "category": "Accelerated computing",
    "gpuNum": 4,
    "hideHardwareSpecs": false,
    "memoryGiB": 244,
    "name": "ml.p3.8xlarge",
    "vcpuNum": 32
   },
   {
    "_defaultOrder": 37,
    "_isFastLaunch": false,
    "category": "Accelerated computing",
    "gpuNum": 8,
    "hideHardwareSpecs": false,
    "memoryGiB": 488,
    "name": "ml.p3.16xlarge",
    "vcpuNum": 64
   },
   {
    "_defaultOrder": 38,
    "_isFastLaunch": false,
    "category": "Accelerated computing",
    "gpuNum": 8,
    "hideHardwareSpecs": false,
    "memoryGiB": 768,
    "name": "ml.p3dn.24xlarge",
    "vcpuNum": 96
   },
   {
    "_defaultOrder": 39,
    "_isFastLaunch": false,
    "category": "Memory Optimized",
    "gpuNum": 0,
    "hideHardwareSpecs": false,
    "memoryGiB": 16,
    "name": "ml.r5.large",
    "vcpuNum": 2
   },
   {
    "_defaultOrder": 40,
    "_isFastLaunch": false,
    "category": "Memory Optimized",
    "gpuNum": 0,
    "hideHardwareSpecs": false,
    "memoryGiB": 32,
    "name": "ml.r5.xlarge",
    "vcpuNum": 4
   },
   {
    "_defaultOrder": 41,
    "_isFastLaunch": false,
    "category": "Memory Optimized",
    "gpuNum": 0,
    "hideHardwareSpecs": false,
    "memoryGiB": 64,
    "name": "ml.r5.2xlarge",
    "vcpuNum": 8
   },
   {
    "_defaultOrder": 42,
    "_isFastLaunch": false,
    "category": "Memory Optimized",
    "gpuNum": 0,
    "hideHardwareSpecs": false,
    "memoryGiB": 128,
    "name": "ml.r5.4xlarge",
    "vcpuNum": 16
   },
   {
    "_defaultOrder": 43,
    "_isFastLaunch": false,
    "category": "Memory Optimized",
    "gpuNum": 0,
    "hideHardwareSpecs": false,
    "memoryGiB": 256,
    "name": "ml.r5.8xlarge",
    "vcpuNum": 32
   },
   {
    "_defaultOrder": 44,
    "_isFastLaunch": false,
    "category": "Memory Optimized",
    "gpuNum": 0,
    "hideHardwareSpecs": false,
    "memoryGiB": 384,
    "name": "ml.r5.12xlarge",
    "vcpuNum": 48
   },
   {
    "_defaultOrder": 45,
    "_isFastLaunch": false,
    "category": "Memory Optimized",
    "gpuNum": 0,
    "hideHardwareSpecs": false,
    "memoryGiB": 512,
    "name": "ml.r5.16xlarge",
    "vcpuNum": 64
   },
   {
    "_defaultOrder": 46,
    "_isFastLaunch": false,
    "category": "Memory Optimized",
    "gpuNum": 0,
    "hideHardwareSpecs": false,
    "memoryGiB": 768,
    "name": "ml.r5.24xlarge",
    "vcpuNum": 96
   },
   {
    "_defaultOrder": 47,
    "_isFastLaunch": false,
    "category": "Accelerated computing",
    "gpuNum": 1,
    "hideHardwareSpecs": false,
    "memoryGiB": 16,
    "name": "ml.g5.xlarge",
    "vcpuNum": 4
   },
   {
    "_defaultOrder": 48,
    "_isFastLaunch": false,
    "category": "Accelerated computing",
    "gpuNum": 1,
    "hideHardwareSpecs": false,
    "memoryGiB": 32,
    "name": "ml.g5.2xlarge",
    "vcpuNum": 8
   },
   {
    "_defaultOrder": 49,
    "_isFastLaunch": false,
    "category": "Accelerated computing",
    "gpuNum": 1,
    "hideHardwareSpecs": false,
    "memoryGiB": 64,
    "name": "ml.g5.4xlarge",
    "vcpuNum": 16
   },
   {
    "_defaultOrder": 50,
    "_isFastLaunch": false,
    "category": "Accelerated computing",
    "gpuNum": 1,
    "hideHardwareSpecs": false,
    "memoryGiB": 128,
    "name": "ml.g5.8xlarge",
    "vcpuNum": 32
   },
   {
    "_defaultOrder": 51,
    "_isFastLaunch": false,
    "category": "Accelerated computing",
    "gpuNum": 1,
    "hideHardwareSpecs": false,
    "memoryGiB": 256,
    "name": "ml.g5.16xlarge",
    "vcpuNum": 64
   },
   {
    "_defaultOrder": 52,
    "_isFastLaunch": false,
    "category": "Accelerated computing",
    "gpuNum": 4,
    "hideHardwareSpecs": false,
    "memoryGiB": 192,
    "name": "ml.g5.12xlarge",
    "vcpuNum": 48
   },
   {
    "_defaultOrder": 53,
    "_isFastLaunch": false,
    "category": "Accelerated computing",
    "gpuNum": 4,
    "hideHardwareSpecs": false,
    "memoryGiB": 384,
    "name": "ml.g5.24xlarge",
    "vcpuNum": 96
   },
   {
    "_defaultOrder": 54,
    "_isFastLaunch": false,
    "category": "Accelerated computing",
    "gpuNum": 8,
    "hideHardwareSpecs": false,
    "memoryGiB": 768,
    "name": "ml.g5.48xlarge",
    "vcpuNum": 192
   },
   {
    "_defaultOrder": 55,
    "_isFastLaunch": false,
    "category": "Accelerated computing",
    "gpuNum": 8,
    "hideHardwareSpecs": false,
    "memoryGiB": 1152,
    "name": "ml.p4d.24xlarge",
    "vcpuNum": 96
   },
   {
    "_defaultOrder": 56,
    "_isFastLaunch": false,
    "category": "Accelerated computing",
    "gpuNum": 8,
    "hideHardwareSpecs": false,
    "memoryGiB": 1152,
    "name": "ml.p4de.24xlarge",
    "vcpuNum": 96
   },
   {
    "_defaultOrder": 57,
    "_isFastLaunch": false,
    "category": "Accelerated computing",
    "gpuNum": 0,
    "hideHardwareSpecs": false,
    "memoryGiB": 32,
    "name": "ml.trn1.2xlarge",
    "vcpuNum": 8
   },
   {
    "_defaultOrder": 58,
    "_isFastLaunch": false,
    "category": "Accelerated computing",
    "gpuNum": 0,
    "hideHardwareSpecs": false,
    "memoryGiB": 512,
    "name": "ml.trn1.32xlarge",
    "vcpuNum": 128
   },
   {
    "_defaultOrder": 59,
    "_isFastLaunch": false,
    "category": "Accelerated computing",
    "gpuNum": 0,
    "hideHardwareSpecs": false,
    "memoryGiB": 512,
    "name": "ml.trn1n.32xlarge",
    "vcpuNum": 128
   }
  ],
  "instance_type": "ml.t3.medium",
  "kernelspec": {
   "display_name": "Python 3 (Data Science 3.0)",
   "language": "python",
   "name": "python3__SAGEMAKER_INTERNAL__arn:aws-us-gov:sagemaker:us-gov-west-1:107173498710:image/sagemaker-data-science-310-v1"
  },
  "language_info": {
   "codemirror_mode": {
    "name": "ipython",
    "version": 3
   },
   "file_extension": ".py",
   "mimetype": "text/x-python",
   "name": "python",
   "nbconvert_exporter": "python",
   "pygments_lexer": "ipython3",
   "version": "3.10.6"
  }
 },
 "nbformat": 4,
 "nbformat_minor": 5
}
