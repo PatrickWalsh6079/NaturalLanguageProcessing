{
 "cells": [
  {
   "cell_type": "code",
   "execution_count": 1,
   "id": "bdbed131",
   "metadata": {},
   "outputs": [],
   "source": [
    "import nltk\n",
    "\n",
    "with open('desert.txt') as f:\n",
    "    desert_text = f.read()"
   ]
  },
  {
   "cell_type": "code",
   "execution_count": 2,
   "id": "84bb33ea",
   "metadata": {},
   "outputs": [
    {
     "name": "stdout",
     "output_type": "stream",
     "text": [
      "1364\n",
      "['Three', 'Calgarians', 'have', 'found', 'a', 'rather', 'unusual', 'way', 'of', 'leaving', 'snow', 'and', 'ice', 'behind', '.', 'They', 'set', 'off', 'this', 'week', 'on', 'foot', 'and', 'by', 'camel', 'on', 'a', 'grueling', 'trek', 'across', 'the', 'burning', 'Arabian', 'desert', '.', 'When', 'they', 'were', 'still', 'in', 'Canada', ',', 'planning', 'their', 'trip', ',', 'they', 'expected', 'they', 'would', 'feel', 'lonely', '.', 'But', 'after', 'two', 'days', 'into', 'the', '1,200', 'kilometre', 'journey', ',', 'the', 'caravan', 'has', 'won', 'celebrity', 'status', 'among', 'the', 'native', 'Bedouin', 'people', 'and', 'government', 'officials', 'of', 'Oman', '.', 'Some', 'have', 'excitedly', 'tagged', 'along', ',', 'says', 'expedition', 'leader', 'Jamie', 'Clarke', '.', 'Mr.', 'Clarke', 'is', 'making', 'the', 'trek', 'with', 'his']\n"
     ]
    }
   ],
   "source": [
    "desert_tokens = nltk.word_tokenize(desert_text)\n",
    "\n",
    "print(len(desert_tokens))\n",
    "print(desert_tokens[:100])"
   ]
  },
  {
   "cell_type": "markdown",
   "id": "7b70f240",
   "metadata": {},
   "source": [
    "# Porter stemmer"
   ]
  },
  {
   "cell_type": "code",
   "execution_count": 3,
   "id": "c92a8d1e",
   "metadata": {},
   "outputs": [
    {
     "name": "stdout",
     "output_type": "stream",
     "text": [
      "['three', 'calgarian', 'have', 'found', 'a', 'rather', 'unusu', 'way', 'of', 'leav', 'snow', 'and', 'ice', 'behind', '.', 'they', 'set', 'off', 'thi', 'week', 'on', 'foot', 'and', 'by', 'camel', 'on', 'a', 'gruel', 'trek', 'across', 'the', 'burn', 'arabian', 'desert', '.', 'when', 'they', 'were', 'still', 'in', 'canada', ',', 'plan', 'their', 'trip', ',', 'they', 'expect', 'they', 'would', 'feel', 'lone', '.', 'but', 'after', 'two', 'day', 'into', 'the', '1,200', 'kilometr', 'journey', ',', 'the', 'caravan', 'ha', 'won', 'celebr', 'statu', 'among', 'the', 'nativ', 'bedouin', 'peopl', 'and', 'govern', 'offici', 'of', 'oman', '.', 'some', 'have', 'excitedli', 'tag', 'along', ',', 'say', 'expedit', 'leader', 'jami', 'clark', '.', 'mr.', 'clark', 'is', 'make', 'the', 'trek', 'with', 'hi']\n"
     ]
    }
   ],
   "source": [
    "porter = nltk.PorterStemmer()\n",
    "\n",
    "stemmed_p = [porter.stem(t) for t in desert_tokens]\n",
    "print(stemmed_p[:100])"
   ]
  },
  {
   "cell_type": "markdown",
   "id": "b9a5a1cd",
   "metadata": {},
   "source": [
    "# Lancaster stemmer"
   ]
  },
  {
   "cell_type": "code",
   "execution_count": 4,
   "id": "2ec1d422",
   "metadata": {},
   "outputs": [
    {
     "name": "stdout",
     "output_type": "stream",
     "text": [
      "['three', 'calg', 'hav', 'found', 'a', 'rath', 'unus', 'way', 'of', 'leav', 'snow', 'and', 'ic', 'behind', '.', 'they', 'set', 'off', 'thi', 'week', 'on', 'foot', 'and', 'by', 'camel', 'on', 'a', 'gruel', 'trek', 'across', 'the', 'burn', 'arab', 'desert', '.', 'when', 'they', 'wer', 'stil', 'in', 'canad', ',', 'plan', 'their', 'trip', ',', 'they', 'expect', 'they', 'would', 'feel', 'lon', '.', 'but', 'aft', 'two', 'day', 'into', 'the', '1,200', 'kilomet', 'journey', ',', 'the', 'carav', 'has', 'won', 'celebr', 'stat', 'among', 'the', 'nat', 'bedouin', 'peopl', 'and', 'govern', 'off', 'of', 'om', '.', 'som', 'hav', 'excit', 'tag', 'along', ',', 'say', 'expedit', 'lead', 'jamy', 'clark', '.', 'mr.', 'clark', 'is', 'mak', 'the', 'trek', 'with', 'his']\n"
     ]
    }
   ],
   "source": [
    "lancaster = nltk.LancasterStemmer()\n",
    "\n",
    "stemmed_l = [lancaster.stem(t) for t in desert_tokens]\n",
    "print(stemmed_l[:100])"
   ]
  },
  {
   "cell_type": "code",
   "execution_count": 6,
   "id": "808a46d6",
   "metadata": {},
   "outputs": [
    {
     "data": {
      "text/plain": [
       "'calgarian'"
      ]
     },
     "execution_count": 6,
     "metadata": {},
     "output_type": "execute_result"
    }
   ],
   "source": [
    "porter_word = stemmed_p[1]\n",
    "porter_word"
   ]
  },
  {
   "cell_type": "code",
   "execution_count": 7,
   "id": "ade8c52c",
   "metadata": {},
   "outputs": [
    {
     "data": {
      "text/plain": [
       "'calg'"
      ]
     },
     "execution_count": 7,
     "metadata": {},
     "output_type": "execute_result"
    }
   ],
   "source": [
    "lancaster_word = stemmed_l[1]\n",
    "lancaster_word"
   ]
  },
  {
   "cell_type": "markdown",
   "id": "eeb6a8d4",
   "metadata": {},
   "source": [
    "# REGEX"
   ]
  },
  {
   "cell_type": "code",
   "execution_count": 24,
   "id": "55f0a39e",
   "metadata": {},
   "outputs": [
    {
     "name": "stdout",
     "output_type": "stream",
     "text": [
      "['Mr.', 'Black', 'and', 'Mrs.', 'Brown', \"couldn't\", 'attend', 'the', 'lecture', 'by', 'Dr.', 'Gray', ',', 'but', 'Gov.', 'White', \"wasn't\", 'there', 'in', 'the', 'U.S.A.']\n"
     ]
    }
   ],
   "source": [
    "pattern = r''' (?x) # set flag to allow verbose regexps\n",
    "(?:[A-Z]\\.)+ # abbreviations, e.g. U.S.A.\n",
    "| (?:[A-Z][a-z]+\\.)+ # titles, e.g. Mr.\n",
    "| [A-za-z]+\\'[a-z]+  # contractions, e.g. wasn't\n",
    "| \\$?\\d+(?:\\.\\d+)?%? # currency and percentages, $12.40, 50%\n",
    "| \\w+(?:-\\w+)* # words with internal hyphens\n",
    "| \\.\\.\\. # ellipsis\n",
    "| [][.,;ââ?():-_%#â] # separate tokens\n",
    "'''\n",
    "\n",
    "shorttext = \"Mr. Black and Mrs. Brown couldn't attend the lecture by Dr. Gray, but Gov. White wasn't there in the U.S.A.\"\n",
    "\n",
    "print(nltk.regexp_tokenize(shorttext, pattern))"
   ]
  },
  {
   "cell_type": "code",
   "execution_count": null,
   "id": "2c55d308",
   "metadata": {},
   "outputs": [],
   "source": []
  },
  {
   "cell_type": "code",
   "execution_count": null,
   "id": "54db80c8",
   "metadata": {},
   "outputs": [],
   "source": []
  },
  {
   "cell_type": "code",
   "execution_count": null,
   "id": "5cb9b28a",
   "metadata": {},
   "outputs": [],
   "source": []
  }
 ],
 "metadata": {
  "kernelspec": {
   "display_name": "Python 3 (ipykernel)",
   "language": "python",
   "name": "python3"
  },
  "language_info": {
   "codemirror_mode": {
    "name": "ipython",
    "version": 3
   },
   "file_extension": ".py",
   "mimetype": "text/x-python",
   "name": "python",
   "nbconvert_exporter": "python",
   "pygments_lexer": "ipython3",
   "version": "3.10.9"
  }
 },
 "nbformat": 4,
 "nbformat_minor": 5
}
