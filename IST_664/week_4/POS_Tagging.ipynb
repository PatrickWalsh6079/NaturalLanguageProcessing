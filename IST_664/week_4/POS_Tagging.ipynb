{
 "cells": [
  {
   "cell_type": "code",
   "execution_count": 8,
   "id": "4ef1dcc5",
   "metadata": {},
   "outputs": [
    {
     "name": "stderr",
     "output_type": "stream",
     "text": [
      "[nltk_data] Downloading package gutenberg to\n",
      "[nltk_data]     C:\\Users\\Patrick\\AppData\\Roaming\\nltk_data...\n",
      "[nltk_data]   Package gutenberg is already up-to-date!\n",
      "[nltk_data] Downloading package punkt to\n",
      "[nltk_data]     C:\\Users\\Patrick\\AppData\\Roaming\\nltk_data...\n",
      "[nltk_data]   Package punkt is already up-to-date!\n",
      "[nltk_data] Downloading package averaged_perceptron_tagger to\n",
      "[nltk_data]     C:\\Users\\Patrick\\AppData\\Roaming\\nltk_data...\n",
      "[nltk_data]   Unzipping taggers\\averaged_perceptron_tagger.zip.\n"
     ]
    },
    {
     "data": {
      "text/plain": [
       "True"
      ]
     },
     "execution_count": 8,
     "metadata": {},
     "output_type": "execute_result"
    }
   ],
   "source": [
    "import nltk\n",
    "from nltk import FreqDist\n",
    "nltk.download('gutenberg')\n",
    "nltk.download('punkt')\n",
    "nltk.download('averaged_perceptron_tagger')"
   ]
  },
  {
   "cell_type": "code",
   "execution_count": 5,
   "id": "ce227ae3",
   "metadata": {},
   "outputs": [
    {
     "name": "stdout",
     "output_type": "stream",
     "text": [
      "['[The King James Bible]\\n\\nThe Old Testament of the King James Bible\\n\\nThe First Book of Moses:  Called Genesis\\n\\n\\n1:1 In the beginning God created the heaven and the earth.', '1:2 And the earth was without form, and void; and darkness was upon\\nthe face of the deep.']\n"
     ]
    }
   ],
   "source": [
    "file = nltk.corpus.gutenberg.fileids()[3]\n",
    "bible = nltk.corpus.gutenberg.raw(file)\n",
    "\n",
    "# But we should separate the text into sentences first\n",
    "textsplit = nltk.sent_tokenize(bible)\n",
    "print(textsplit[:2])"
   ]
  },
  {
   "cell_type": "code",
   "execution_count": 6,
   "id": "c777a3e0",
   "metadata": {},
   "outputs": [
    {
     "name": "stdout",
     "output_type": "stream",
     "text": [
      "[['[', 'The', 'King', 'James', 'Bible', ']', 'The', 'Old', 'Testament', 'of', 'the', 'King', 'James', 'Bible', 'The', 'First', 'Book', 'of', 'Moses', ':', 'Called', 'Genesis', '1:1', 'In', 'the', 'beginning', 'God', 'created', 'the', 'heaven', 'and', 'the', 'earth', '.'], ['1:2', 'And', 'the', 'earth', 'was', 'without', 'form', ',', 'and', 'void', ';', 'and', 'darkness', 'was', 'upon', 'the', 'face', 'of', 'the', 'deep', '.']]\n"
     ]
    }
   ],
   "source": [
    "# apply the word tokenizer to each sentence\n",
    "tokentext = [nltk.word_tokenize(sent) for sent in textsplit]\n",
    "print(tokentext[:2])"
   ]
  },
  {
   "cell_type": "code",
   "execution_count": 10,
   "id": "bd6390d3",
   "metadata": {},
   "outputs": [
    {
     "name": "stdout",
     "output_type": "stream",
     "text": [
      "[[('[', 'VB'), ('The', 'DT'), ('King', 'NNP'), ('James', 'NNP'), ('Bible', 'NNP'), (']', 'VBZ'), ('The', 'DT'), ('Old', 'NNP'), ('Testament', 'NNP'), ('of', 'IN'), ('the', 'DT'), ('King', 'NNP'), ('James', 'NNP'), ('Bible', 'NNP'), ('The', 'DT'), ('First', 'NNP'), ('Book', 'NNP'), ('of', 'IN'), ('Moses', 'NNS'), (':', ':'), ('Called', 'VBN'), ('Genesis', 'NNP'), ('1:1', 'CD'), ('In', 'IN'), ('the', 'DT'), ('beginning', 'NN'), ('God', 'NNP'), ('created', 'VBD'), ('the', 'DT'), ('heaven', 'NN'), ('and', 'CC'), ('the', 'DT'), ('earth', 'NN'), ('.', '.')], [('1:2', 'CD'), ('And', 'CC'), ('the', 'DT'), ('earth', 'NN'), ('was', 'VBD'), ('without', 'IN'), ('form', 'NN'), (',', ','), ('and', 'CC'), ('void', 'NN'), (';', ':'), ('and', 'CC'), ('darkness', 'NN'), ('was', 'VBD'), ('upon', 'IN'), ('the', 'DT'), ('face', 'NN'), ('of', 'IN'), ('the', 'DT'), ('deep', 'NN'), ('.', '.')]]\n"
     ]
    }
   ],
   "source": [
    "# use the Stanford POS tagger to tag each sentence tokens\n",
    "taggedtextStanford = [nltk.pos_tag(tokens) for tokens in tokentext]\n",
    "print(taggedtextStanford[:2])"
   ]
  },
  {
   "cell_type": "code",
   "execution_count": 13,
   "id": "416f83d5",
   "metadata": {},
   "outputs": [
    {
     "name": "stdout",
     "output_type": "stream",
     "text": [
      "[('[', 'VB'), ('The', 'DT'), ('King', 'NNP'), ('James', 'NNP'), ('Bible', 'NNP'), (']', 'VBZ'), ('The', 'DT'), ('Old', 'NNP'), ('Testament', 'NNP'), ('of', 'IN'), ('the', 'DT'), ('King', 'NNP'), ('James', 'NNP'), ('Bible', 'NNP'), ('The', 'DT'), ('First', 'NNP'), ('Book', 'NNP'), ('of', 'IN'), ('Moses', 'NNS'), (':', ':'), ('Called', 'VBN'), ('Genesis', 'NNP'), ('1:1', 'CD'), ('In', 'IN'), ('the', 'DT'), ('beginning', 'NN'), ('God', 'NNP'), ('created', 'VBD'), ('the', 'DT'), ('heaven', 'NN')]\n"
     ]
    }
   ],
   "source": [
    "taggedtextStanford_flat = [pair for sent in taggedtextStanford for pair in sent]\n",
    "print(taggedtextStanford_flat[:30])"
   ]
  },
  {
   "cell_type": "code",
   "execution_count": 14,
   "id": "bebc5b98",
   "metadata": {},
   "outputs": [
    {
     "name": "stdout",
     "output_type": "stream",
     "text": [
      "dict_keys(['VB', 'DT', 'NNP', 'VBZ', 'IN', 'NNS', ':', 'VBN', 'CD', 'NN', 'VBD', 'CC', '.', ',', 'EX', 'JJ', 'PRP', 'WDT', 'RB', 'VBG', 'PRP$', 'WP$', 'TO', 'JJR', 'VBP', 'MD', 'PDT', 'WRB', 'RP', 'WP', 'JJS', 'RBR', 'POS', 'RBS', 'NNPS', '(', ')', 'FW', 'UH', 'LS', \"''\", '$', 'SYM']) \n",
      "\n"
     ]
    }
   ],
   "source": [
    "tag_fd = nltk.FreqDist(tag for (word, tag) in taggedtextStanford_flat)\n",
    "print(tag_fd.keys(), '\\n')"
   ]
  },
  {
   "cell_type": "code",
   "execution_count": 15,
   "id": "dccf1a9b",
   "metadata": {},
   "outputs": [
    {
     "name": "stdout",
     "output_type": "stream",
     "text": [
      "NN 111022\n",
      "IN 110338\n",
      "DT 87398\n",
      ", 70573\n",
      "CC 58765\n",
      "PRP 58746\n",
      "NNP 53943\n",
      "VBD 39129\n",
      "NNS 37888\n",
      "CD 36158\n",
      "VB 35738\n",
      "JJ 32044\n",
      ". 29812\n",
      "RB 28519\n",
      ": 22846\n",
      "PRP$ 21016\n",
      "MD 17192\n",
      "VBN 16692\n",
      "VBP 16597\n",
      "TO 13573\n",
      "VBZ 11846\n",
      "WDT 8485\n",
      "VBG 6063\n",
      "RP 4679\n",
      "WRB 4035\n",
      "PDT 2931\n",
      "WP 2758\n",
      "POS 1820\n",
      "EX 1710\n",
      "JJS 1463\n",
      "JJR 885\n",
      "NNPS 653\n",
      "RBR 459\n",
      "WP$ 284\n",
      "( 221\n",
      ") 221\n",
      "RBS 139\n",
      "FW 69\n",
      "UH 69\n",
      "'' 15\n",
      "$ 9\n",
      "LS 8\n",
      "SYM 1\n"
     ]
    }
   ],
   "source": [
    "for tag,freq in tag_fd.most_common():\n",
    "    print (tag, freq)"
   ]
  },
  {
   "cell_type": "code",
   "execution_count": null,
   "id": "ff6965ba",
   "metadata": {},
   "outputs": [],
   "source": []
  }
 ],
 "metadata": {
  "kernelspec": {
   "display_name": "Python 3 (ipykernel)",
   "language": "python",
   "name": "python3"
  },
  "language_info": {
   "codemirror_mode": {
    "name": "ipython",
    "version": 3
   },
   "file_extension": ".py",
   "mimetype": "text/x-python",
   "name": "python",
   "nbconvert_exporter": "python",
   "pygments_lexer": "ipython3",
   "version": "3.10.9"
  }
 },
 "nbformat": 4,
 "nbformat_minor": 5
}
