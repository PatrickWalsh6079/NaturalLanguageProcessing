{
 "cells": [
  {
   "cell_type": "markdown",
   "id": "b331b12e",
   "metadata": {},
   "source": [
    "# Predict Gender Using Only Last Letter"
   ]
  },
  {
   "cell_type": "code",
   "execution_count": 1,
   "id": "088e5459",
   "metadata": {},
   "outputs": [
    {
     "name": "stdout",
     "output_type": "stream",
     "text": [
      "{'last_letter': 'k'}\n"
     ]
    }
   ],
   "source": [
    "import nltk\n",
    "\n",
    "# define a feature extraction function for each name\n",
    "def gender_features(word):\n",
    "    return{'last_letter': word[-1]}\n",
    "\n",
    "print(gender_features('Shrek'))"
   ]
  },
  {
   "cell_type": "code",
   "execution_count": 2,
   "id": "65529a5a",
   "metadata": {},
   "outputs": [
    {
     "name": "stdout",
     "output_type": "stream",
     "text": [
      "['Aamir', 'Aaron', 'Abbey', 'Abbie', 'Abbot', 'Abbott', 'Abby', 'Abdel', 'Abdul', 'Abdulkarim', 'Abdullah', 'Abe', 'Abel', 'Abelard', 'Abner', 'Abraham', 'Abram', 'Ace', 'Adair', 'Adam']\n",
      "['Abagael', 'Abagail', 'Abbe', 'Abbey', 'Abbi', 'Abbie', 'Abby', 'Abigael', 'Abigail', 'Abigale', 'Abra', 'Acacia', 'Ada', 'Adah', 'Adaline', 'Adara', 'Addie', 'Addis', 'Adel', 'Adela']\n"
     ]
    },
    {
     "name": "stderr",
     "output_type": "stream",
     "text": [
      "[nltk_data] Downloading package names to\n",
      "[nltk_data]     C:\\Users\\Patrick\\AppData\\Roaming\\nltk_data...\n",
      "[nltk_data]   Package names is already up-to-date!\n"
     ]
    }
   ],
   "source": [
    "# resource for male and female first names\n",
    "from nltk.corpus import names\n",
    "nltk.download('names')\n",
    "\n",
    "print(names.words('male.txt')[:20])\n",
    "print(names.words('female.txt')[:20])"
   ]
  },
  {
   "cell_type": "code",
   "execution_count": 3,
   "id": "4afe0943",
   "metadata": {},
   "outputs": [
    {
     "name": "stdout",
     "output_type": "stream",
     "text": [
      "7944\n",
      "[('Aamir', 'male'), ('Aaron', 'male'), ('Abbey', 'male'), ('Abbie', 'male'), ('Abbot', 'male'), ('Abbott', 'male'), ('Abby', 'male'), ('Abdel', 'male'), ('Abdul', 'male'), ('Abdulkarim', 'male'), ('Abdullah', 'male'), ('Abe', 'male'), ('Abel', 'male'), ('Abelard', 'male'), ('Abner', 'male'), ('Abraham', 'male'), ('Abram', 'male'), ('Ace', 'male'), ('Adair', 'male'), ('Adam', 'male')]\n",
      "[('Zena', 'female'), ('Zenia', 'female'), ('Zia', 'female'), ('Zilvia', 'female'), ('Zita', 'female'), ('Zitella', 'female'), ('Zoe', 'female'), ('Zola', 'female'), ('Zonda', 'female'), ('Zondra', 'female'), ('Zonnya', 'female'), ('Zora', 'female'), ('Zorah', 'female'), ('Zorana', 'female'), ('Zorina', 'female'), ('Zorine', 'female'), ('Zsa Zsa', 'female'), ('Zsazsa', 'female'), ('Zulema', 'female'), ('Zuzana', 'female')]\n"
     ]
    }
   ],
   "source": [
    "# make list of male and female names paired with gender\n",
    "namesgender = ([(name, 'male') for name in names.words('male.txt')] + [(name, 'female') for name in names.words('female.txt')])\n",
    "\n",
    "print(len(namesgender))\n",
    "print(namesgender[:20])\n",
    "print(namesgender[7924:])"
   ]
  },
  {
   "cell_type": "code",
   "execution_count": 4,
   "id": "20e903e1",
   "metadata": {},
   "outputs": [
    {
     "name": "stdout",
     "output_type": "stream",
     "text": [
      "[('Wandie', 'female'), ('Giacomo', 'male'), ('Emma', 'female'), ('Theodoric', 'male'), ('Melosa', 'female'), ('Keslie', 'female'), ('Correy', 'female'), ('Marion', 'male'), ('Bartel', 'male'), ('Ginni', 'female'), ('Mordecai', 'male'), ('Germana', 'female'), ('Chris', 'male'), ('Philippine', 'female'), ('Louie', 'male'), ('Joby', 'female'), ('Barth', 'male'), ('Aziz', 'male'), ('Reina', 'female'), ('Jonah', 'male')]\n"
     ]
    }
   ],
   "source": [
    "# put the list into random order\n",
    "import random\n",
    "\n",
    "random.shuffle(namesgender)\n",
    "print(namesgender[:20])"
   ]
  },
  {
   "cell_type": "code",
   "execution_count": 5,
   "id": "ce84b88b",
   "metadata": {},
   "outputs": [],
   "source": [
    "# separate the names into training and test\n",
    "train_names = namesgender[500:]\n",
    "test_names = namesgender[:500]"
   ]
  },
  {
   "cell_type": "code",
   "execution_count": 6,
   "id": "d2f76770",
   "metadata": {},
   "outputs": [
    {
     "name": "stdout",
     "output_type": "stream",
     "text": [
      "[({'last_letter': 'l'}, 'female'), ({'last_letter': 't'}, 'male'), ({'last_letter': 's'}, 'female'), ({'last_letter': 's'}, 'male'), ({'last_letter': 't'}, 'female'), ({'last_letter': 'e'}, 'female'), ({'last_letter': 'n'}, 'male'), ({'last_letter': 'e'}, 'male'), ({'last_letter': 'e'}, 'female'), ({'last_letter': 'e'}, 'female'), ({'last_letter': 'y'}, 'male'), ({'last_letter': 'e'}, 'female'), ({'last_letter': 'e'}, 'male'), ({'last_letter': 'e'}, 'male'), ({'last_letter': 'o'}, 'male'), ({'last_letter': 'e'}, 'female'), ({'last_letter': 'i'}, 'female'), ({'last_letter': 'l'}, 'male'), ({'last_letter': 'h'}, 'female'), ({'last_letter': 'l'}, 'female')]\n"
     ]
    }
   ],
   "source": [
    "# use our features to train a classify and test on the development test set\n",
    "train_set = [(gender_features(n), g) for (n, g) in train_names]\n",
    "test_set = [(gender_features(n), g) for (n, g) in test_names]\n",
    "\n",
    "print(train_set[:20])"
   ]
  },
  {
   "cell_type": "code",
   "execution_count": 7,
   "id": "f6c4020d",
   "metadata": {},
   "outputs": [
    {
     "name": "stdout",
     "output_type": "stream",
     "text": [
      "male\n",
      "female\n",
      "0.752\n"
     ]
    }
   ],
   "source": [
    "classifier = nltk.NaiveBayesClassifier.train(train_set)\n",
    "\n",
    "# classify new instances\n",
    "print(classifier.classify(gender_features('Neo')))\n",
    "print(classifier.classify(gender_features('Trinity')))\n",
    "\n",
    "# classify accuracy function runs the classifier on the test set and reports\n",
    "\n",
    "# comparisons between predicted labels and actual/gold labels\n",
    "print(nltk.classify.accuracy(classifier, test_set))"
   ]
  },
  {
   "cell_type": "code",
   "execution_count": 8,
   "id": "737f8dad",
   "metadata": {},
   "outputs": [
    {
     "name": "stdout",
     "output_type": "stream",
     "text": [
      "Most Informative Features\n",
      "             last_letter = 'k'              male : female =     44.6 : 1.0\n",
      "             last_letter = 'a'            female : male   =     34.5 : 1.0\n",
      "             last_letter = 'f'              male : female =     16.7 : 1.0\n",
      "             last_letter = 'p'              male : female =     11.9 : 1.0\n",
      "             last_letter = 'v'              male : female =     10.6 : 1.0\n",
      "             last_letter = 'd'              male : female =      9.8 : 1.0\n",
      "             last_letter = 'm'              male : female =      9.3 : 1.0\n",
      "             last_letter = 'o'              male : female =      8.0 : 1.0\n",
      "             last_letter = 'r'              male : female =      6.9 : 1.0\n",
      "             last_letter = 'g'              male : female =      5.5 : 1.0\n",
      "             last_letter = 'w'              male : female =      4.5 : 1.0\n",
      "             last_letter = 't'              male : female =      4.1 : 1.0\n",
      "             last_letter = 's'              male : female =      4.1 : 1.0\n",
      "             last_letter = 'z'              male : female =      4.0 : 1.0\n",
      "             last_letter = 'b'              male : female =      3.9 : 1.0\n",
      "             last_letter = 'i'            female : male   =      3.6 : 1.0\n",
      "             last_letter = 'u'              male : female =      3.3 : 1.0\n",
      "             last_letter = 'j'              male : female =      2.8 : 1.0\n",
      "             last_letter = 'n'              male : female =      2.1 : 1.0\n",
      "             last_letter = 'e'            female : male   =      1.8 : 1.0\n",
      "None\n"
     ]
    }
   ],
   "source": [
    "# this function available for naive bayes classifiers\n",
    "print(classifier.show_most_informative_features(20))"
   ]
  },
  {
   "cell_type": "code",
   "execution_count": 9,
   "id": "1aaab9a8",
   "metadata": {},
   "outputs": [
    {
     "name": "stdout",
     "output_type": "stream",
     "text": [
      "124\n"
     ]
    }
   ],
   "source": [
    "# define a function that will compare the classifier labels with the gold standard labels\n",
    "def geterrors(test):\n",
    "    errors = []\n",
    "    for (name, tag) in test:\n",
    "        guess = classifier.classify(gender_features(name))\n",
    "        if guess != tag:\n",
    "            errors.append( (tag, guess, name) )\n",
    "    return errors\n",
    "\n",
    "errors = geterrors(test_names)\n",
    "print(len(errors))"
   ]
  },
  {
   "cell_type": "code",
   "execution_count": 10,
   "id": "a6bb56c4",
   "metadata": {},
   "outputs": [
    {
     "name": "stdout",
     "output_type": "stream",
     "text": [
      "correct=female   guess=male     name=Ag                            \n",
      "correct=female   guess=male     name=Alis                          \n",
      "correct=female   guess=male     name=Ardelis                       \n",
      "correct=female   guess=male     name=Bird                          \n",
      "correct=female   guess=male     name=Calypso                       \n",
      "correct=female   guess=male     name=Carolan                       \n",
      "correct=female   guess=male     name=Carolann                      \n",
      "correct=female   guess=male     name=Charleen                      \n",
      "correct=female   guess=male     name=Charmion                      \n",
      "correct=female   guess=male     name=Clem                          \n",
      "correct=female   guess=male     name=Damaris                       \n",
      "correct=female   guess=male     name=Demeter                       \n",
      "correct=female   guess=male     name=Diann                         \n",
      "correct=female   guess=male     name=Ethelyn                       \n",
      "correct=female   guess=male     name=Fallon                        \n",
      "correct=female   guess=male     name=Frank                         \n",
      "correct=female   guess=male     name=Gayleen                       \n",
      "correct=female   guess=male     name=Harriet                       \n",
      "correct=female   guess=male     name=Honor                         \n",
      "correct=female   guess=male     name=Isis                          \n",
      "correct=female   guess=male     name=Janet                         \n",
      "correct=female   guess=male     name=Janifer                       \n",
      "correct=female   guess=male     name=Jean                          \n",
      "correct=female   guess=male     name=Karilynn                      \n",
      "correct=female   guess=male     name=Karin                         \n",
      "correct=female   guess=male     name=Kerstin                       \n",
      "correct=female   guess=male     name=Kristen                       \n",
      "correct=female   guess=male     name=Lillian                       \n",
      "correct=female   guess=male     name=Madelon                       \n",
      "correct=female   guess=male     name=Magdalen                      \n",
      "correct=female   guess=male     name=Marillin                      \n",
      "correct=female   guess=male     name=Moreen                        \n",
      "correct=female   guess=male     name=Nat                           \n",
      "correct=female   guess=male     name=Phillis                       \n",
      "correct=female   guess=male     name=Robin                         \n",
      "correct=female   guess=male     name=Rosaleen                      \n",
      "correct=female   guess=male     name=Roselin                       \n",
      "correct=female   guess=male     name=Wandis                        \n",
      "correct=female   guess=male     name=Yehudit                       \n",
      "correct=male     guess=female   name=Alfonse                       \n",
      "correct=male     guess=female   name=Aubrey                        \n",
      "correct=male     guess=female   name=Axel                          \n",
      "correct=male     guess=female   name=Bailie                        \n",
      "correct=male     guess=female   name=Bartel                        \n",
      "correct=male     guess=female   name=Barth                         \n",
      "correct=male     guess=female   name=Bartie                        \n",
      "correct=male     guess=female   name=Barty                         \n",
      "correct=male     guess=female   name=Basil                         \n",
      "correct=male     guess=female   name=Berkley                       \n",
      "correct=male     guess=female   name=Bill                          \n",
      "correct=male     guess=female   name=Burnaby                       \n",
      "correct=male     guess=female   name=Cal                           \n",
      "correct=male     guess=female   name=Casey                         \n",
      "correct=male     guess=female   name=Cecil                         \n",
      "correct=male     guess=female   name=Chane                         \n",
      "correct=male     guess=female   name=Charley                       \n",
      "correct=male     guess=female   name=Deane                         \n",
      "correct=male     guess=female   name=Durante                       \n",
      "correct=male     guess=female   name=Earl                          \n",
      "correct=male     guess=female   name=Emmy                          \n",
      "correct=male     guess=female   name=Fonzie                        \n",
      "correct=male     guess=female   name=Garth                         \n",
      "correct=male     guess=female   name=Gerri                         \n",
      "correct=male     guess=female   name=Giuseppe                      \n",
      "correct=male     guess=female   name=Godfrey                       \n",
      "correct=male     guess=female   name=Hall                          \n",
      "correct=male     guess=female   name=Hamel                         \n",
      "correct=male     guess=female   name=Hamish                        \n",
      "correct=male     guess=female   name=Helmuth                       \n",
      "correct=male     guess=female   name=Herschel                      \n",
      "correct=male     guess=female   name=Hewe                          \n",
      "correct=male     guess=female   name=Ike                           \n",
      "correct=male     guess=female   name=Jackie                        \n",
      "correct=male     guess=female   name=Jereme                        \n",
      "correct=male     guess=female   name=Jeremie                       \n",
      "correct=male     guess=female   name=Jerrie                        \n",
      "correct=male     guess=female   name=Jonah                         \n",
      "correct=male     guess=female   name=Kendall                       \n",
      "correct=male     guess=female   name=Kerry                         \n",
      "correct=male     guess=female   name=Knox                          \n",
      "correct=male     guess=female   name=Linoel                        \n",
      "correct=male     guess=female   name=Lorrie                        \n",
      "correct=male     guess=female   name=Louie                         \n",
      "correct=male     guess=female   name=Maurise                       \n",
      "correct=male     guess=female   name=Max                           \n",
      "correct=male     guess=female   name=Merrel                        \n",
      "correct=male     guess=female   name=Mordecai                      \n",
      "correct=male     guess=female   name=Mose                          \n",
      "correct=male     guess=female   name=Mugsy                         \n",
      "correct=male     guess=female   name=Neel                          \n",
      "correct=male     guess=female   name=Obie                          \n",
      "correct=male     guess=female   name=Ole                           \n",
      "correct=male     guess=female   name=Parrnell                      \n",
      "correct=male     guess=female   name=Peirce                        \n",
      "correct=male     guess=female   name=Pooh                          \n",
      "correct=male     guess=female   name=Quigly                        \n",
      "correct=male     guess=female   name=Rabbi                         \n",
      "correct=male     guess=female   name=Randell                       \n",
      "correct=male     guess=female   name=Raul                          \n",
      "correct=male     guess=female   name=Ravil                         \n",
      "correct=male     guess=female   name=Rodge                         \n",
      "correct=male     guess=female   name=Rodrique                      \n",
      "correct=male     guess=female   name=Rudy                          \n",
      "correct=male     guess=female   name=Sandy                         \n",
      "correct=male     guess=female   name=Sawyere                       \n",
      "correct=male     guess=female   name=Shea                          \n",
      "correct=male     guess=female   name=Sheffy                        \n",
      "correct=male     guess=female   name=Shelley                       \n",
      "correct=male     guess=female   name=Sloane                        \n",
      "correct=male     guess=female   name=Spence                        \n",
      "correct=male     guess=female   name=Stacy                         \n",
      "correct=male     guess=female   name=Sterne                        \n",
      "correct=male     guess=female   name=Tammie                        \n",
      "correct=male     guess=female   name=Tanney                        \n",
      "correct=male     guess=female   name=Timothee                      \n",
      "correct=male     guess=female   name=Uriah                         \n",
      "correct=male     guess=female   name=Vergil                        \n",
      "correct=male     guess=female   name=Wiley                         \n",
      "correct=male     guess=female   name=Willey                        \n",
      "correct=male     guess=female   name=Willie                        \n",
      "correct=male     guess=female   name=Worthy                        \n",
      "correct=male     guess=female   name=Zach                          \n",
      "correct=male     guess=female   name=Zachary                       \n",
      "correct=male     guess=female   name=Zippy                         \n"
     ]
    }
   ],
   "source": [
    "# define a function to print the errors\n",
    "def printerrors(errors):\n",
    "    for (tag, guess, name) in sorted(errors):\n",
    "        print('correct={:<8s} guess={:<8s} name={:<30s}'.format(tag, guess, name))\n",
    "        \n",
    "printerrors(errors)"
   ]
  },
  {
   "cell_type": "markdown",
   "id": "cb58b26c",
   "metadata": {},
   "source": [
    "# Predict Gender Using Last Two Letters"
   ]
  },
  {
   "cell_type": "code",
   "execution_count": 11,
   "id": "efff79a9",
   "metadata": {},
   "outputs": [
    {
     "name": "stdout",
     "output_type": "stream",
     "text": [
      "{'last_two': 'ek'}\n"
     ]
    }
   ],
   "source": [
    "# define a feature extraction function for each name\n",
    "def gender_features2(word):\n",
    "    return{'last_two': word[-2:]}\n",
    "\n",
    "print(gender_features2('Shrek'))"
   ]
  },
  {
   "cell_type": "code",
   "execution_count": 12,
   "id": "f0b8cd56",
   "metadata": {},
   "outputs": [
    {
     "name": "stdout",
     "output_type": "stream",
     "text": [
      "[({'last_two': 'al'}, 'female'), ({'last_two': 'tt'}, 'male'), ({'last_two': 'is'}, 'female'), ({'last_two': 'os'}, 'male'), ({'last_two': 'it'}, 'female'), ({'last_two': 'ne'}, 'female'), ({'last_two': 'in'}, 'male'), ({'last_two': 'ie'}, 'male'), ({'last_two': 'ee'}, 'female'), ({'last_two': 'ue'}, 'female'), ({'last_two': 'ky'}, 'male'), ({'last_two': 'be'}, 'female'), ({'last_two': 'ie'}, 'male'), ({'last_two': 'ie'}, 'male'), ({'last_two': 'io'}, 'male'), ({'last_two': 'ee'}, 'female'), ({'last_two': 'ri'}, 'female'), ({'last_two': 'il'}, 'male'), ({'last_two': 'ah'}, 'female'), ({'last_two': 'll'}, 'female')]\n"
     ]
    }
   ],
   "source": [
    "# use our features to train a classify and test on the development test set\n",
    "train_set = [(gender_features2(n), g) for (n, g) in train_names]\n",
    "test_set = [(gender_features2(n), g) for (n, g) in test_names]\n",
    "\n",
    "print(train_set[:20])"
   ]
  },
  {
   "cell_type": "code",
   "execution_count": 13,
   "id": "45c52ebf",
   "metadata": {},
   "outputs": [
    {
     "name": "stdout",
     "output_type": "stream",
     "text": [
      "male\n",
      "female\n",
      "0.784\n"
     ]
    }
   ],
   "source": [
    "classifier2 = nltk.NaiveBayesClassifier.train(train_set)\n",
    "\n",
    "# classify new instances\n",
    "print(classifier2.classify(gender_features2('Neo')))\n",
    "print(classifier2.classify(gender_features2('Trinity')))\n",
    "\n",
    "# classify accuracy function runs the classifier on the test set and reports\n",
    "\n",
    "# comparisons between predicted labels and actual/gold labels\n",
    "print(nltk.classify.accuracy(classifier2, test_set))"
   ]
  },
  {
   "cell_type": "code",
   "execution_count": 14,
   "id": "420178b9",
   "metadata": {},
   "outputs": [
    {
     "name": "stdout",
     "output_type": "stream",
     "text": [
      "Most Informative Features\n",
      "                last_two = 'na'           female : male   =    100.2 : 1.0\n",
      "                last_two = 'la'           female : male   =     74.8 : 1.0\n",
      "                last_two = 'ia'           female : male   =     39.6 : 1.0\n",
      "                last_two = 'sa'           female : male   =     36.5 : 1.0\n",
      "                last_two = 'rd'             male : female =     33.2 : 1.0\n",
      "                last_two = 'us'             male : female =     27.5 : 1.0\n",
      "                last_two = 'ra'           female : male   =     26.8 : 1.0\n",
      "                last_two = 'do'             male : female =     26.2 : 1.0\n",
      "                last_two = 'ta'           female : male   =     25.6 : 1.0\n",
      "                last_two = 'ld'             male : female =     25.1 : 1.0\n",
      "                last_two = 'rt'             male : female =     22.7 : 1.0\n",
      "                last_two = 'os'             male : female =     17.3 : 1.0\n",
      "                last_two = 'io'             male : female =     16.4 : 1.0\n",
      "                last_two = 'ch'             male : female =     15.0 : 1.0\n",
      "                last_two = 'ka'           female : male   =     14.6 : 1.0\n",
      "                last_two = 'ea'           female : male   =     13.8 : 1.0\n",
      "                last_two = 'ns'             male : female =     11.7 : 1.0\n",
      "                last_two = 'ya'           female : male   =     11.0 : 1.0\n",
      "                last_two = 'ff'             male : female =     10.6 : 1.0\n",
      "                last_two = 'rn'             male : female =     10.6 : 1.0\n",
      "None\n"
     ]
    }
   ],
   "source": [
    "# this function available for naive bayes classifiers\n",
    "print(classifier2.show_most_informative_features(20))"
   ]
  },
  {
   "cell_type": "code",
   "execution_count": 15,
   "id": "ec1ffc32",
   "metadata": {},
   "outputs": [
    {
     "name": "stdout",
     "output_type": "stream",
     "text": [
      "108\n"
     ]
    }
   ],
   "source": [
    "# define a function that will compare the classifier labels with the gold standard labels\n",
    "def geterrors(test):\n",
    "    errors = []\n",
    "    for (name, tag) in test:\n",
    "        guess = classifier2.classify(gender_features2(name))\n",
    "        if guess != tag:\n",
    "            errors.append( (tag, guess, name) )\n",
    "    return errors\n",
    "\n",
    "errors = geterrors(test_names)\n",
    "print(len(errors))"
   ]
  },
  {
   "cell_type": "code",
   "execution_count": 16,
   "id": "ec9639e1",
   "metadata": {},
   "outputs": [
    {
     "name": "stdout",
     "output_type": "stream",
     "text": [
      "correct=female   guess=male     name=Bird                          \n",
      "correct=female   guess=male     name=Calypso                       \n",
      "correct=female   guess=male     name=Carolan                       \n",
      "correct=female   guess=male     name=Charmion                      \n",
      "correct=female   guess=male     name=Clem                          \n",
      "correct=female   guess=male     name=Demeter                       \n",
      "correct=female   guess=male     name=Eve                           \n",
      "correct=female   guess=male     name=Fallon                        \n",
      "correct=female   guess=male     name=Frank                         \n",
      "correct=female   guess=male     name=Franky                        \n",
      "correct=female   guess=male     name=Honor                         \n",
      "correct=female   guess=male     name=Janifer                       \n",
      "correct=female   guess=male     name=Jean                          \n",
      "correct=female   guess=male     name=Karin                         \n",
      "correct=female   guess=male     name=Kerstin                       \n",
      "correct=female   guess=male     name=Lillian                       \n",
      "correct=female   guess=male     name=Lyndell                       \n",
      "correct=female   guess=male     name=Madelon                       \n",
      "correct=female   guess=male     name=Marillin                      \n",
      "correct=female   guess=male     name=Mei                           \n",
      "correct=female   guess=male     name=Nat                           \n",
      "correct=female   guess=male     name=Robin                         \n",
      "correct=female   guess=male     name=Roselin                       \n",
      "correct=female   guess=male     name=Tuesday                       \n",
      "correct=male     guess=female   name=Alfonse                       \n",
      "correct=male     guess=female   name=Aubrey                        \n",
      "correct=male     guess=female   name=Axel                          \n",
      "correct=male     guess=female   name=Aziz                          \n",
      "correct=male     guess=female   name=Bailie                        \n",
      "correct=male     guess=female   name=Bartel                        \n",
      "correct=male     guess=female   name=Barth                         \n",
      "correct=male     guess=female   name=Bartie                        \n",
      "correct=male     guess=female   name=Barty                         \n",
      "correct=male     guess=female   name=Basil                         \n",
      "correct=male     guess=female   name=Benedict                      \n",
      "correct=male     guess=female   name=Berkley                       \n",
      "correct=male     guess=female   name=Bryn                          \n",
      "correct=male     guess=female   name=Burnaby                       \n",
      "correct=male     guess=female   name=Cal                           \n",
      "correct=male     guess=female   name=Casey                         \n",
      "correct=male     guess=female   name=Cecil                         \n",
      "correct=male     guess=female   name=Chane                         \n",
      "correct=male     guess=female   name=Charley                       \n",
      "correct=male     guess=female   name=Chris                         \n",
      "correct=male     guess=female   name=Curtis                        \n",
      "correct=male     guess=female   name=Deane                         \n",
      "correct=male     guess=female   name=Durante                       \n",
      "correct=male     guess=female   name=Earl                          \n",
      "correct=male     guess=female   name=Emmit                         \n",
      "correct=male     guess=female   name=Emmy                          \n",
      "correct=male     guess=female   name=Fonzie                        \n",
      "correct=male     guess=female   name=Garth                         \n",
      "correct=male     guess=female   name=Gerri                         \n",
      "correct=male     guess=female   name=Glynn                         \n",
      "correct=male     guess=female   name=Godfrey                       \n",
      "correct=male     guess=female   name=Hamel                         \n",
      "correct=male     guess=female   name=Helmuth                       \n",
      "correct=male     guess=female   name=Herschel                      \n",
      "correct=male     guess=female   name=Hewe                          \n",
      "correct=male     guess=female   name=Jackie                        \n",
      "correct=male     guess=female   name=Jeremie                       \n",
      "correct=male     guess=female   name=Jerrie                        \n",
      "correct=male     guess=female   name=Jonah                         \n",
      "correct=male     guess=female   name=Kerry                         \n",
      "correct=male     guess=female   name=Lauren                        \n",
      "correct=male     guess=female   name=Linoel                        \n",
      "correct=male     guess=female   name=Lorrie                        \n",
      "correct=male     guess=female   name=Louie                         \n",
      "correct=male     guess=female   name=Louis                         \n",
      "correct=male     guess=female   name=Maurise                       \n",
      "correct=male     guess=female   name=Merrel                        \n",
      "correct=male     guess=female   name=Mose                          \n",
      "correct=male     guess=female   name=Mugsy                         \n",
      "correct=male     guess=female   name=Neel                          \n",
      "correct=male     guess=female   name=Obie                          \n",
      "correct=male     guess=female   name=Olag                          \n",
      "correct=male     guess=female   name=Ole                           \n",
      "correct=male     guess=female   name=Peirce                        \n",
      "correct=male     guess=female   name=Pooh                          \n",
      "correct=male     guess=female   name=Prentiss                      \n",
      "correct=male     guess=female   name=Quigly                        \n",
      "correct=male     guess=female   name=Rabbi                         \n",
      "correct=male     guess=female   name=Ravil                         \n",
      "correct=male     guess=female   name=Rodge                         \n",
      "correct=male     guess=female   name=Rodrique                      \n",
      "correct=male     guess=female   name=Rudy                          \n",
      "correct=male     guess=female   name=Sandy                         \n",
      "correct=male     guess=female   name=Sawyere                       \n",
      "correct=male     guess=female   name=Shea                          \n",
      "correct=male     guess=female   name=Sheffy                        \n",
      "correct=male     guess=female   name=Shelley                       \n",
      "correct=male     guess=female   name=Sloane                        \n",
      "correct=male     guess=female   name=Spence                        \n",
      "correct=male     guess=female   name=Stacy                         \n",
      "correct=male     guess=female   name=Sterne                        \n",
      "correct=male     guess=female   name=Tammie                        \n",
      "correct=male     guess=female   name=Tanney                        \n",
      "correct=male     guess=female   name=Timothee                      \n",
      "correct=male     guess=female   name=Uriah                         \n",
      "correct=male     guess=female   name=Vergil                        \n",
      "correct=male     guess=female   name=Waylen                        \n",
      "correct=male     guess=female   name=Wiley                         \n",
      "correct=male     guess=female   name=Willey                        \n",
      "correct=male     guess=female   name=Willie                        \n",
      "correct=male     guess=female   name=Worden                        \n",
      "correct=male     guess=female   name=Worthy                        \n",
      "correct=male     guess=female   name=Zachary                       \n",
      "correct=male     guess=female   name=Zippy                         \n"
     ]
    }
   ],
   "source": [
    "# define a function to print the errors\n",
    "def printerrors(errors):\n",
    "    for (tag, guess, name) in sorted(errors):\n",
    "        print('correct={:<8s} guess={:<8s} name={:<30s}'.format(tag, guess, name))\n",
    "        \n",
    "printerrors(errors)"
   ]
  },
  {
   "cell_type": "code",
   "execution_count": null,
   "id": "d41d5c42",
   "metadata": {},
   "outputs": [],
   "source": []
  }
 ],
 "metadata": {
  "kernelspec": {
   "display_name": "Python 3 (ipykernel)",
   "language": "python",
   "name": "python3"
  },
  "language_info": {
   "codemirror_mode": {
    "name": "ipython",
    "version": 3
   },
   "file_extension": ".py",
   "mimetype": "text/x-python",
   "name": "python",
   "nbconvert_exporter": "python",
   "pygments_lexer": "ipython3",
   "version": "3.10.9"
  }
 },
 "nbformat": 4,
 "nbformat_minor": 5
}
