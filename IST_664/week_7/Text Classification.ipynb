{
 "cells": [
  {
   "cell_type": "markdown",
   "id": "b7186405",
   "metadata": {},
   "source": [
    "# Text Classification: pos or neg"
   ]
  },
  {
   "cell_type": "code",
   "execution_count": 1,
   "id": "775ab4ad",
   "metadata": {},
   "outputs": [
    {
     "name": "stdout",
     "output_type": "stream",
     "text": [
      "['neg', 'pos']\n"
     ]
    },
    {
     "name": "stderr",
     "output_type": "stream",
     "text": [
      "[nltk_data] Downloading package movie_reviews to\n",
      "[nltk_data]     C:\\Users\\Patrick\\AppData\\Roaming\\nltk_data...\n",
      "[nltk_data]   Package movie_reviews is already up-to-date!\n"
     ]
    }
   ],
   "source": [
    "### classify documents based on keywords\n",
    "import nltk\n",
    "from nltk.corpus import movie_reviews\n",
    "import random\n",
    "nltk.download('movie_reviews')\n",
    "\n",
    "# movie reviews are labeled either positive or negative (by human annotators)\n",
    "print(movie_reviews.categories())"
   ]
  },
  {
   "cell_type": "code",
   "execution_count": 2,
   "id": "ef706c9b",
   "metadata": {},
   "outputs": [
    {
     "name": "stdout",
     "output_type": "stream",
     "text": [
      "2000\n"
     ]
    }
   ],
   "source": [
    "# for each document in movie_reviews, get its words and category (positive/negative)\n",
    "documents = [(list(movie_reviews.words(fileid)), category)\n",
    "             for category in movie_reviews.categories() for fileid in movie_reviews.fileids(category)]\n",
    "print(len(documents))"
   ]
  },
  {
   "cell_type": "code",
   "execution_count": 3,
   "id": "dbbebcc2",
   "metadata": {},
   "outputs": [
    {
     "name": "stdout",
     "output_type": "stream",
     "text": [
      "(['this', 'is', 'the', 'best', 'british', 'gangster', 'film', 'since', 'the', 'long', 'good', 'friday', '.', 'jon', 'bennet', '(', 'played', 'by', 'andrew', 'howard', ')', 'is', 'an', 'extremely', 'good', 'assassin', '.', 'as', 'such', 'he', 'is', 'probably', 'an', 'evil', 'man', 'but', 'it', 'does', 'not', 'worry', 'him', '.', 'he', 'has', 'become', 'an', 'unquestioning', 'weapon', '.', 'he', 'is', 'in', 'the', 'employ', 'of', 'a', 'kingpin', '(', 'david', 'calder', ')', 'far', 'more', 'evil', 'than', 'he', 'is', '.', 'but', 'even', 'assassins', 'have', 'innocent', 'pasts', '.', 'he', 'runs', 'into', 'an', 'old', 'from', 'school', 'days', 'and', 'he', 'is', 'married', 'to', 'a', 'mutual', 'girl', 'friend', 'from', 'school', '.', 'complicating', 'matters', 'is', 'that', 'they', 'live', 'near', 'where', 'he', 'had', 'a', 'recent', 'job', 'and', 'their', 'young', 'daughter', 'may', 'have', 'seen', 'him', 'at', 'the', 'crime', '.', 'a', 'big', 'piece', 'of', 'what', 'makes', 'this', 'film', 'work', 'is', 'the', 'depiction', 'of', 'the', 'kingpin', '.', 'calder', 'is', 'a', 'familiar', 'actor', 'in', 'britain', ',', 'though', 'not', 'frequently', 'seen', 'in', 'the', 'us', '.', 'he', 'was', 'seen', 'in', 'the', 'world', 'is', 'not', 'enough', '.', 'here', 'he', 'creates', 'one', 'of', 'the', 'best', 'screen', 'villains', 'in', 'recent', 'years', '.', 'he', 'is', 'at', 'once', 'seductive', 'and', 'repellent', 'like', 'a', 'beautiful', 'venomous', 'snake', '.', 'his', 'lair', 'is', 'underground', ',', 'apparently', 'in', 'a', 'sewer', ',', 'where', 'he', 'lives', 'like', 'the', 'king', 'of', 'sewer', 'rats', '.', 'it', 'is', 'the', 'kingpin', 'who', 'pulls', 'the', 'strings', 'that', 'will', 'control', 'bennet', \"'\", 's', 'life', '.', 'paul', 'sarossy', 'who', 'directs', 'spent', 'most', 'of', 'his', 'career', 'as', 'a', 'cinematographer', 'and', 'like', 'the', 'kingpin', \"'\", 's', 'lair', ',', 'he', 'has', 'molded', 'images', 'of', 'class', 'and', 'style', 'out', 'of', 'the', 'darkness', '.', 'by', 'using', 'semi', '-', 'darkness', 'and', 'letting', 'the', 'colors', 'of', 'deep', 'blue', 'and', 'black', 'dominate', 'every', 'scene', 'he', 'makes', 'the', 'film', 'visually', 'as', 'ominous', 'as', 'anything', 'in', 'this', 'nether', 'world', '.', 'this', 'is', 'a', 'world', 'that', 'is', 'cold', 'and', 'unfriendly', '.', 'sorossy', 'creates', 'a', 'world', 'of', 'violence', 'much', 'more', 'by', 'what', 'we', 'hear', 'than', 'what', 'we', 'see', '.', 'this', 'is', 'a', 'film', 'with', 'a', 'great', 'deal', 'of', 'physical', 'violence', 'occurring', 'just', 'out', 'of', 'reach', '.', 'we', 'see', 'very', 'little', 'but', 'we', 'hear', 'a', 'great', 'deal', 'more', 'and', 'we', 'imagine', 'more', 'than', 'that', '.', 'the', 'screenplay', 'is', 'by', 'peter', 'waddington', 'based', 'on', 'the', 'novel', 'by', 'neil', 'cross', ',', 'but', 'it', 'is', 'sarossy', \"'\", 's', 'film', 'all', 'the', 'way', '.', 'it', 'creates', 'indelible', 'images', 'of', 'evil', '.', 'i', 'rate', 'it', 'an', '8', 'on', 'the', '0', 'to', '10', 'scale', 'and', 'a', 'low', '+', '3', 'on', 'the', '-', '4', 'to', '+', '4', 'scale', '.', '(', 'i', 'do', 'hope', 'they', 'do', 'not', 'use', 'the', 'tagline', '\"', 'don', \"'\", 't', 'mess', 'with', 'mr', '.', 'in', '-', 'between', '.', '\"', ')'], 'pos')\n"
     ]
    }
   ],
   "source": [
    "random.shuffle(documents)\n",
    "# look at the first document - consists of a list of all the words in the review\n",
    "# followed by the category\n",
    "print(documents[0])"
   ]
  },
  {
   "cell_type": "code",
   "execution_count": 4,
   "id": "82ea5a60",
   "metadata": {},
   "outputs": [
    {
     "name": "stdout",
     "output_type": "stream",
     "text": [
      "39768\n"
     ]
    }
   ],
   "source": [
    "## use words from all documents to define the word vector for features\n",
    "# get all words from all movie_reviews and put into a frequency distribution\n",
    "all_words = nltk.FreqDist(w.lower() for w in movie_reviews.words())\n",
    "print(len(all_words))"
   ]
  },
  {
   "cell_type": "code",
   "execution_count": 5,
   "id": "805db4e1",
   "metadata": {},
   "outputs": [
    {
     "name": "stdout",
     "output_type": "stream",
     "text": [
      "[',', 'the', '.', 'a', 'and', 'of', 'to', \"'\", 'is', 'in', 's', '\"', 'it', 'that', '-', ')', '(', 'as', 'with', 'for', 'his', 'this', 'film', 'i', 'he', 'but', 'on', 'are', 't', 'by', 'be', 'one', 'movie', 'an', 'who', 'not', 'you', 'from', 'at', 'was', 'have', 'they', 'has', 'her', 'all', '?', 'there', 'like', 'so', 'out', 'about', 'up', 'more', 'what', 'when', 'which', 'or', 'she', 'their', ':', 'some', 'just', 'can', 'if', 'we', 'him', 'into', 'even', 'only', 'than', 'no', 'good', 'time', 'most', 'its', 'will', 'story', 'would', 'been', 'much', 'character', 'also', 'get', 'other', 'do', 'two', 'well', 'them', 'very', 'characters', ';', 'first', '--', 'after', 'see', '!', 'way', 'because', 'make', 'life']\n"
     ]
    }
   ],
   "source": [
    "# get the 2000 most frequently appearing keywords in the corpus\n",
    "word_items = all_words.most_common(2000)\n",
    "word_features = [word for (word, freq) in word_items] # just the words\n",
    "\n",
    "# look at the first 100 words\n",
    "print(word_features[:100])"
   ]
  },
  {
   "cell_type": "code",
   "execution_count": 6,
   "id": "cb7d53af",
   "metadata": {},
   "outputs": [
    {
     "name": "stdout",
     "output_type": "stream",
     "text": [
      "({'V_,': True, 'V_the': True, 'V_.': True, 'V_a': True, 'V_and': True, 'V_of': True, 'V_to': True, \"V_'\": True, 'V_is': True, 'V_in': True, 'V_s': True, 'V_\"': True, 'V_it': True, 'V_that': True, 'V_-': True, 'V_)': True, 'V_(': True, 'V_as': True, 'V_with': True, 'V_for': False, 'V_his': True, 'V_this': True, 'V_film': True, 'V_i': True, 'V_he': True, 'V_but': True, 'V_on': True, 'V_are': False, 'V_t': True, 'V_by': True, 'V_be': False, 'V_one': True, 'V_movie': False, 'V_an': True, 'V_who': True, 'V_not': True, 'V_you': False, 'V_from': True, 'V_at': True, 'V_was': True, 'V_have': True, 'V_they': True, 'V_has': True, 'V_her': False, 'V_all': True, 'V_?': False, 'V_there': False, 'V_like': True, 'V_so': False, 'V_out': True, 'V_about': False, 'V_up': False, 'V_more': True, 'V_what': True, 'V_when': False, 'V_which': False, 'V_or': False, 'V_she': False, 'V_their': True, 'V_:': False, 'V_some': False, 'V_just': True, 'V_can': False, 'V_if': False, 'V_we': True, 'V_him': True, 'V_into': True, 'V_even': True, 'V_only': False, 'V_than': True, 'V_no': False, 'V_good': True, 'V_time': False, 'V_most': True, 'V_its': False, 'V_will': True, 'V_story': False, 'V_would': False, 'V_been': False, 'V_much': True, 'V_character': False, 'V_also': False, 'V_get': False, 'V_other': False, 'V_do': True, 'V_two': False, 'V_well': False, 'V_them': False, 'V_very': True, 'V_characters': False, 'V_;': False, 'V_first': False, 'V_--': False, 'V_after': False, 'V_see': True, 'V_!': False, 'V_way': True, 'V_because': False, 'V_make': False, 'V_life': True, 'V_off': False, 'V_too': False, 'V_any': False, 'V_does': True, 'V_really': False, 'V_had': True, 'V_while': False, 'V_films': False, 'V_how': False, 'V_plot': False, 'V_little': True, 'V_where': True, 'V_people': False, 'V_over': False, 'V_could': False, 'V_then': False, 'V_me': False, 'V_scene': True, 'V_man': True, 'V_bad': False, 'V_my': False, 'V_never': False, 'V_being': False, 'V_best': True, 'V_these': False, 'V_don': True, 'V_new': False, 'V_doesn': False, 'V_scenes': False, 'V_many': False, 'V_director': False, 'V_such': True, 'V_know': False, 'V_were': False, 'V_movies': False, 'V_through': False, 'V_here': True, 'V_action': False, 'V_great': True, 'V_re': False, 'V_another': False, 'V_love': False, 'V_go': False, 'V_made': False, 'V_us': True, 'V_big': True, 'V_end': False, 'V_something': False, 'V_back': False, 'V_*': False, 'V_still': False, 'V_world': True, 'V_seems': False, 'V_work': True, 'V_those': False, 'V_makes': True, 'V_now': False, 'V_before': False, 'V_however': False, 'V_between': True, 'V_few': False, 'V_/': False, 'V_down': False, 'V_every': True, 'V_though': True, 'V_better': False, 'V_real': False, 'V_audience': False, 'V_enough': True, 'V_seen': True, 'V_take': False, 'V_around': False, 'V_both': False, 'V_going': False, 'V_year': False, 'V_performance': False, 'V_why': False, 'V_should': False, 'V_role': False, 'V_isn': False, 'V_same': False, 'V_old': True, 'V_gets': False, 'V_your': False, 'V_may': True, 'V_things': False, 'V_think': False, 'V_years': True, 'V_last': False, 'V_comedy': False, 'V_funny': False, 'V_actually': False, 'V_ve': False, 'V_long': True, 'V_look': False, 'V_almost': False, 'V_own': False, 'V_thing': False, 'V_fact': False, 'V_nothing': False, 'V_say': False, 'V_right': False, 'V_john': False, 'V_although': False, 'V_played': True, 'V_find': False, 'V_script': False, 'V_come': False, 'V_ever': False, 'V_cast': False, 'V_since': True, 'V_did': False, 'V_star': False, 'V_plays': False, 'V_young': True, 'V_show': False, 'V_comes': False, 'V_m': False, 'V_part': False, 'V_original': False, 'V_actors': False, 'V_screen': True, 'V_without': False, 'V_again': False, 'V_acting': False, 'V_three': False, 'V_day': False, 'V_each': False, 'V_point': False, 'V_lot': False, 'V_least': False, 'V_takes': False, 'V_guy': False, 'V_quite': False, 'V_himself': False, 'V_away': False, 'V_during': False, 'V_family': False, 'V_effects': False, 'V_course': False, 'V_goes': False, 'V_minutes': False, 'V_interesting': False, 'V_might': False, 'V_far': True, 'V_high': False, 'V_rather': False, 'V_once': True, 'V_must': False, 'V_anything': True, 'V_place': False, 'V_set': False, 'V_yet': False, 'V_watch': False, 'V_d': False, 'V_making': False, 'V_our': False, 'V_wife': False, 'V_hard': False, 'V_always': False, 'V_fun': False, 'V_didn': False, 'V_ll': False, 'V_seem': False, 'V_special': False, 'V_bit': False, 'V_times': False, 'V_trying': False, 'V_hollywood': False, 'V_instead': False, 'V_give': False, 'V_want': False, 'V_picture': False, 'V_kind': False, 'V_american': False, 'V_job': True, 'V_sense': False, 'V_woman': False, 'V_home': False, 'V_having': False, 'V_series': False, 'V_actor': True, 'V_probably': True, 'V_help': False, 'V_half': False, 'V_along': False, 'V_men': False, 'V_everything': False, 'V_pretty': False, 'V_becomes': False, 'V_sure': False, 'V_black': True, 'V_together': False, 'V_dialogue': False, 'V_money': False, 'V_become': True, 'V_gives': False, 'V_given': False, 'V_looking': False, 'V_whole': False, 'V_watching': False, 'V_father': False, 'V_`': False, 'V_feel': False, 'V_everyone': False, 'V_music': False, 'V_wants': False, 'V_sex': False, 'V_less': False, 'V_done': False, 'V_horror': False, 'V_got': False, 'V_death': False, 'V_perhaps': False, 'V_city': False, 'V_next': False, 'V_especially': False, 'V_play': False, 'V_girl': True, 'V_mind': False, 'V_10': True, 'V_moments': False, 'V_looks': False, 'V_completely': False, 'V_2': False, 'V_reason': False, 'V_mother': False, 'V_whose': False, 'V_line': False, 'V_night': False, 'V_human': False, 'V_until': False, 'V_rest': False, 'V_performances': False, 'V_different': False, 'V_evil': True, 'V_small': False, 'V_james': False, 'V_simply': False, 'V_couple': False, 'V_put': False, 'V_let': False, 'V_anyone': False, 'V_ending': False, 'V_case': False, 'V_several': False, 'V_dead': False, 'V_michael': False, 'V_left': False, 'V_thought': False, 'V_school': True, 'V_shows': False, 'V_humor': False, 'V_true': False, 'V_lost': False, 'V_written': False, 'V_itself': False, 'V_friend': True, 'V_entire': False, 'V_getting': False, 'V_town': False, 'V_turns': False, 'V_soon': False, 'V_someone': False, 'V_second': False, 'V_main': False, 'V_stars': False, 'V_found': False, 'V_use': True, 'V_problem': False, 'V_friends': False, 'V_tv': False, 'V_top': False, 'V_name': False, 'V_begins': False, 'V_called': False, 'V_based': True, 'V_comic': False, 'V_david': True, 'V_head': False, 'V_else': False, 'V_idea': False, 'V_either': False, 'V_wrong': False, 'V_unfortunately': False, 'V_later': False, 'V_final': False, 'V_hand': False, 'V_alien': False, 'V_house': False, 'V_group': False, 'V_full': False, 'V_used': False, 'V_tries': False, 'V_often': False, 'V_against': False, 'V_war': False, 'V_sequence': False, 'V_keep': False, 'V_turn': False, 'V_playing': False, 'V_boy': False, 'V_behind': False, 'V_named': False, 'V_certainly': False, 'V_live': True, 'V_believe': False, 'V_under': False, 'V_works': False, 'V_relationship': False, 'V_face': False, 'V_hour': False, 'V_run': False, 'V_style': True, 'V_said': False, 'V_despite': False, 'V_person': False, 'V_finally': False, 'V_shot': False, 'V_book': False, 'V_doing': False, 'V_tell': False, 'V_maybe': False, 'V_nice': False, 'V_son': False, 'V_perfect': False, 'V_side': False, 'V_seeing': False, 'V_able': False, 'V_finds': False, 'V_children': False, 'V_days': True, 'V_past': False, 'V_summer': False, 'V_camera': False, 'V_won': False, 'V_including': False, 'V_mr': True, 'V_kids': False, 'V_lives': True, 'V_directed': False, 'V_moment': False, 'V_game': False, 'V_running': False, 'V_fight': False, 'V_supposed': False, 'V_video': False, 'V_car': False, 'V_matter': False, 'V_kevin': False, 'V_joe': False, 'V_lines': False, 'V_worth': False, 'V_=': False, 'V_daughter': True, 'V_earth': False, 'V_starts': False, 'V_need': False, 'V_entertaining': False, 'V_white': False, 'V_start': False, 'V_writer': False, 'V_dark': False, 'V_short': False, 'V_self': False, 'V_worst': False, 'V_nearly': False, 'V_opening': False, 'V_try': False, 'V_upon': False, 'V_care': False, 'V_early': False, 'V_violence': True, 'V_throughout': False, 'V_team': False, 'V_production': False, 'V_example': False, 'V_beautiful': True, 'V_title': False, 'V_exactly': False, 'V_jack': False, 'V_review': False, 'V_major': False, 'V_drama': False, 'V_&': False, 'V_problems': False, 'V_sequences': False, 'V_obvious': False, 'V_version': False, 'V_screenplay': True, 'V_known': False, 'V_killer': False, 'V_wasn': False, 'V_robert': False, 'V_disney': False, 'V_already': False, 'V_close': False, 'V_classic': False, 'V_others': False, 'V_hit': False, 'V_kill': False, 'V_deep': True, 'V_five': False, 'V_order': False, 'V_act': False, 'V_simple': False, 'V_fine': False, 'V_themselves': False, 'V_heart': False, 'V_roles': False, 'V_jackie': False, 'V_direction': False, 'V_eyes': False, 'V_four': False, 'V_question': False, 'V_sort': False, 'V_sometimes': False, 'V_knows': False, 'V_supporting': False, 'V_coming': False, 'V_voice': False, 'V_women': False, 'V_truly': False, 'V_save': False, 'V_jokes': False, 'V_computer': False, 'V_child': False, 'V_o': False, 'V_boring': False, 'V_tom': False, 'V_level': False, 'V_1': False, 'V_body': False, 'V_guys': False, 'V_genre': False, 'V_brother': False, 'V_strong': False, 'V_stop': False, 'V_room': False, 'V_space': False, 'V_lee': False, 'V_ends': False, 'V_beginning': False, 'V_ship': False, 'V_york': False, 'V_attempt': False, 'V_thriller': False, 'V_scream': False, 'V_peter': True, 'V_aren': False, 'V_husband': False, 'V_fiction': False, 'V_happens': False, 'V_hero': False, 'V_novel': True, 'V_note': False, 'V_hope': True, 'V_king': True, 'V_yes': False, 'V_says': False, 'V_tells': False, 'V_quickly': False, 'V_romantic': False, 'V_dog': False, 'V_oscar': False, 'V_stupid': False, 'V_possible': False, 'V_saw': False, 'V_lead': False, 'V_career': True, 'V_murder': False, 'V_extremely': True, 'V_manages': False, 'V_god': False, 'V_mostly': False, 'V_wonder': False, 'V_particularly': False, 'V_future': False, 'V_fans': False, 'V_sound': False, 'V_worse': False, 'V_piece': True, 'V_involving': False, 'V_de': False, 'V_appears': False, 'V_planet': False, 'V_paul': True, 'V_involved': False, 'V_mean': False, 'V_none': False, 'V_taking': False, 'V_hours': False, 'V_laugh': False, 'V_police': False, 'V_sets': False, 'V_attention': False, 'V_co': False, 'V_hell': False, 'V_eventually': False, 'V_single': False, 'V_fall': False, 'V_falls': False, 'V_material': False, 'V_emotional': False, 'V_power': False, 'V_late': False, 'V_lack': False, 'V_dr': False, 'V_van': False, 'V_result': False, 'V_elements': False, 'V_meet': False, 'V_smith': False, 'V_science': False, 'V_experience': False, 'V_bring': False, 'V_wild': False, 'V_living': False, 'V_theater': False, 'V_interest': False, 'V_leads': False, 'V_word': False, 'V_feature': False, 'V_battle': False, 'V_girls': False, 'V_alone': False, 'V_obviously': False, 'V_george': False, 'V_within': False, 'V_usually': False, 'V_enjoy': False, 'V_guess': False, 'V_among': False, 'V_taken': False, 'V_feeling': False, 'V_laughs': False, 'V_aliens': False, 'V_talk': False, 'V_chance': False, 'V_talent': False, 'V_3': True, 'V_middle': False, 'V_number': False, 'V_easy': False, 'V_across': False, 'V_needs': False, 'V_attempts': False, 'V_happen': False, 'V_television': False, 'V_chris': False, 'V_deal': True, 'V_poor': False, 'V_form': False, 'V_girlfriend': False, 'V_viewer': False, 'V_release': False, 'V_killed': False, 'V_forced': False, 'V_whether': False, 'V_wonderful': False, 'V_feels': False, 'V_oh': False, 'V_tale': False, 'V_serious': False, 'V_expect': False, 'V_except': False, 'V_light': False, 'V_success': False, 'V_features': False, 'V_premise': False, 'V_happy': False, 'V_words': False, 'V_leave': False, 'V_important': False, 'V_meets': False, 'V_history': False, 'V_giving': False, 'V_crew': False, 'V_type': False, 'V_call': False, 'V_turned': False, 'V_released': False, 'V_parents': False, 'V_art': False, 'V_impressive': False, 'V_mission': False, 'V_working': False, 'V_seemed': False, 'V_score': False, 'V_told': False, 'V_recent': True, 'V_robin': False, 'V_basically': False, 'V_entertainment': False, 'V_america': False, 'V_$': False, 'V_surprise': False, 'V_apparently': True, 'V_easily': False, 'V_ryan': False, 'V_cool': False, 'V_stuff': False, 'V_cop': False, 'V_change': False, 'V_williams': False, 'V_crime': True, 'V_office': False, 'V_parts': False, 'V_somehow': False, 'V_sequel': False, 'V_william': False, 'V_cut': False, 'V_die': False, 'V_jones': False, 'V_credits': False, 'V_batman': False, 'V_suspense': False, 'V_brings': False, 'V_events': False, 'V_reality': False, 'V_whom': False, 'V_local': False, 'V_talking': False, 'V_difficult': False, 'V_using': True, 'V_went': False, 'V_writing': False, 'V_remember': False, 'V_near': True, 'V_straight': False, 'V_hilarious': False, 'V_ago': False, 'V_certain': False, 'V_ben': False, 'V_kid': False, 'V_wouldn': False, 'V_slow': False, 'V_blood': False, 'V_mystery': False, 'V_complete': False, 'V_red': False, 'V_popular': False, 'V_effective': False, 'V_am': False, 'V_fast': False, 'V_flick': False, 'V_due': False, 'V_runs': True, 'V_gone': False, 'V_return': False, 'V_presence': False, 'V_quality': False, 'V_dramatic': False, 'V_filmmakers': False, 'V_age': False, 'V_brothers': False, 'V_business': False, 'V_general': False, 'V_rock': False, 'V_sexual': False, 'V_present': False, 'V_surprisingly': False, 'V_anyway': False, 'V_uses': False, 'V_4': True, 'V_personal': False, 'V_figure': False, 'V_smart': False, 'V_ways': False, 'V_decides': False, 'V_annoying': False, 'V_begin': False, 'V_couldn': False, 'V_somewhat': False, 'V_shots': False, 'V_rich': False, 'V_minute': False, 'V_law': False, 'V_previous': False, 'V_jim': False, 'V_successful': False, 'V_harry': False, 'V_water': False, 'V_similar': False, 'V_absolutely': False, 'V_motion': False, 'V_former': False, 'V_strange': False, 'V_came': False, 'V_follow': False, 'V_read': False, 'V_project': False, 'V_million': False, 'V_secret': False, 'V_starring': False, 'V_clear': False, 'V_familiar': True, 'V_romance': False, 'V_intelligent': False, 'V_third': False, 'V_excellent': False, 'V_amazing': False, 'V_party': False, 'V_budget': False, 'V_eye': False, 'V_actress': False, 'V_prison': False, 'V_latest': False, 'V_means': False, 'V_company': False, 'V_towards': False, 'V_predictable': False, 'V_powerful': False, 'V_nor': False, 'V_bob': False, 'V_beyond': False, 'V_visual': False, 'V_leaves': False, 'V_r': False, 'V_nature': False, 'V_following': False, 'V_villain': False, 'V_leaving': False, 'V_animated': False, 'V_low': True, 'V_myself': False, 'V_b': False, 'V_bill': False, 'V_sam': False, 'V_filled': False, 'V_wars': False, 'V_questions': False, 'V_cinema': False, 'V_message': False, 'V_box': False, 'V_moving': False, 'V_herself': False, 'V_country': False, 'V_usual': False, 'V_martin': False, 'V_definitely': False, 'V_add': False, 'V_large': False, 'V_clever': False, 'V_create': False, 'V_felt': False, 'V_stories': False, 'V_brilliant': False, 'V_ones': False, 'V_giant': False, 'V_situation': False, 'V_murphy': False, 'V_break': False, 'V_opens': False, 'V_scary': False, 'V_doubt': False, 'V_drug': False, 'V_bunch': False, 'V_thinking': False, 'V_solid': False, 'V_effect': False, 'V_learn': False, 'V_move': False, 'V_force': False, 'V_potential': False, 'V_seriously': False, 'V_follows': False, 'V_above': False, 'V_saying': False, 'V_huge': False, 'V_class': True, 'V_plan': False, 'V_agent': False, 'V_created': False, 'V_unlike': False, 'V_pay': False, 'V_non': False, 'V_married': True, 'V_mark': False, 'V_sweet': False, 'V_perfectly': False, 'V_ex': False, 'V_realize': False, 'V_audiences': False, 'V_took': False, 'V_decent': False, 'V_likely': False, 'V_dream': False, 'V_view': False, 'V_scott': False, 'V_subject': False, 'V_understand': False, 'V_happened': False, 'V_enjoyable': False, 'V_studio': False, 'V_immediately': False, 'V_open': False, 'V_e': False, 'V_points': False, 'V_heard': False, 'V_viewers': False, 'V_cameron': False, 'V_truman': False, 'V_bruce': False, 'V_frank': False, 'V_private': False, 'V_stay': False, 'V_fails': False, 'V_impossible': False, 'V_cold': True, 'V_richard': False, 'V_overall': False, 'V_merely': False, 'V_exciting': False, 'V_mess': True, 'V_chase': False, 'V_free': False, 'V_ten': False, 'V_neither': False, 'V_wanted': False, 'V_gun': False, 'V_appear': False, 'V_carter': False, 'V_escape': False, 'V_ultimately': False, 'V_+': True, 'V_fan': False, 'V_inside': False, 'V_favorite': False, 'V_haven': False, 'V_modern': False, 'V_l': False, 'V_wedding': False, 'V_stone': False, 'V_trek': False, 'V_brought': False, 'V_trouble': False, 'V_otherwise': False, 'V_tim': False, 'V_5': False, 'V_allen': False, 'V_bond': False, 'V_society': False, 'V_liked': False, 'V_dumb': False, 'V_musical': False, 'V_stand': False, 'V_political': False, 'V_various': False, 'V_talented': False, 'V_particular': False, 'V_west': False, 'V_state': False, 'V_keeps': False, 'V_english': False, 'V_silly': False, 'V_u': False, 'V_situations': False, 'V_park': False, 'V_teen': False, 'V_rating': False, 'V_slightly': False, 'V_steve': False, 'V_truth': False, 'V_air': False, 'V_element': False, 'V_joke': False, 'V_spend': False, 'V_key': False, 'V_biggest': False, 'V_members': False, 'V_effort': False, 'V_government': False, 'V_focus': False, 'V_eddie': False, 'V_soundtrack': False, 'V_hands': False, 'V_earlier': False, 'V_chan': False, 'V_purpose': False, 'V_today': False, 'V_showing': False, 'V_memorable': False, 'V_six': False, 'V_cannot': False, 'V_max': False, 'V_offers': False, 'V_rated': False, 'V_mars': False, 'V_heavy': False, 'V_totally': False, 'V_control': True, 'V_credit': False, 'V_fi': False, 'V_woody': False, 'V_ideas': False, 'V_sci': False, 'V_wait': False, 'V_sit': False, 'V_female': False, 'V_ask': False, 'V_waste': False, 'V_terrible': False, 'V_depth': False, 'V_simon': False, 'V_aspect': False, 'V_list': False, 'V_mary': False, 'V_sister': False, 'V_animation': False, 'V_entirely': False, 'V_fear': False, 'V_steven': False, 'V_moves': False, 'V_actual': False, 'V_army': False, 'V_british': True, 'V_constantly': False, 'V_fire': False, 'V_convincing': False, 'V_setting': False, 'V_gave': False, 'V_tension': False, 'V_street': False, 'V_8': True, 'V_brief': False, 'V_ridiculous': False, 'V_cinematography': False, 'V_typical': False, 'V_nick': False, 'V_screenwriter': False, 'V_ability': False, 'V_spent': True, 'V_quick': False, 'V_violent': False, 'V_atmosphere': False, 'V_subtle': False, 'V_expected': False, 'V_fairly': False, 'V_seven': False, 'V_killing': False, 'V_tone': False, 'V_master': False, 'V_disaster': False, 'V_lots': False, 'V_thinks': False, 'V_song': False, 'V_cheap': False, 'V_suddenly': False, 'V_background': False, 'V_club': False, 'V_willis': False, 'V_whatever': False, 'V_highly': False, 'V_sees': False, 'V_complex': False, 'V_greatest': False, 'V_impact': False, 'V_beauty': False, 'V_front': False, 'V_humans': False, 'V_indeed': False, 'V_flat': False, 'V_grace': False, 'V_wrote': False, 'V_amusing': False, 'V_ii': False, 'V_mike': False, 'V_further': False, 'V_cute': False, 'V_dull': False, 'V_minor': False, 'V_recently': False, 'V_hate': False, 'V_outside': False, 'V_plenty': False, 'V_wish': False, 'V_godzilla': False, 'V_college': False, 'V_titanic': False, 'V_sounds': False, 'V_telling': False, 'V_sight': False, 'V_double': False, 'V_cinematic': False, 'V_queen': False, 'V_hold': False, 'V_meanwhile': False, 'V_awful': False, 'V_clearly': False, 'V_theme': False, 'V_hear': True, 'V_x': False, 'V_amount': False, 'V_baby': False, 'V_approach': False, 'V_dreams': False, 'V_shown': False, 'V_island': False, 'V_reasons': False, 'V_charm': False, 'V_miss': False, 'V_longer': False, 'V_common': False, 'V_sean': False, 'V_carry': False, 'V_believable': False, 'V_realistic': False, 'V_chemistry': False, 'V_possibly': False, 'V_casting': False, 'V_carrey': False, 'V_french': False, 'V_trailer': False, 'V_tough': False, 'V_produced': False, 'V_imagine': True, 'V_choice': False, 'V_ride': False, 'V_somewhere': False, 'V_hot': False, 'V_race': False, 'V_road': False, 'V_leader': False, 'V_thin': False, 'V_jerry': False, 'V_slowly': False, 'V_delivers': False, 'V_detective': False, 'V_brown': False, 'V_jackson': False, 'V_member': False, 'V_provide': False, 'V_president': False, 'V_puts': False, 'V_asks': False, 'V_critics': False, 'V_appearance': False, 'V_famous': False, 'V_okay': False, 'V_intelligence': False, 'V_energy': False, 'V_sent': False, 'V_spielberg': False, 'V_development': False, 'V_etc': False, 'V_language': False, 'V_blue': True, 'V_proves': False, 'V_vampire': False, 'V_seemingly': False, 'V_basic': False, 'V_caught': False, 'V_decide': False, 'V_opportunity': False, 'V_incredibly': False, 'V_images': True, 'V_band': False, 'V_j': False, 'V_writers': False, 'V_knew': False, 'V_interested': False, 'V_considering': False, 'V_boys': False, 'V_thanks': False, 'V_remains': False, 'V_climax': False, 'V_event': False, 'V_directing': False, 'V_conclusion': False, 'V_leading': False, 'V_ground': False, 'V_lies': False, 'V_forget': False, 'V_alive': False, 'V_tarzan': False, 'V_century': False, 'V_provides': False, 'V_trip': False, 'V_partner': False, 'V_central': False, 'V_tarantino': False, 'V_period': False, 'V_pace': False, 'V_yourself': False, 'V_worked': False, 'V_ready': False, 'V_date': False, 'V_thus': False, 'V_1998': False, 'V_terrific': False, 'V_write': False, 'V_average': False, 'V_onto': False, 'V_songs': False, 'V_occasionally': False, 'V_doctor': False, 'V_stands': False, 'V_hardly': False, 'V_monster': False, 'V_led': False, 'V_mysterious': False, 'V_details': False, 'V_wasted': False, 'V_apart': False, 'V_aside': False, 'V_store': False, 'V_billy': False, 'V_boss': False, 'V_travolta': False, 'V_producer': False, 'V_pull': False, 'V_consider': False, 'V_pictures': False, 'V_becoming': False, 'V_cage': False, 'V_loud': False, 'V_looked': False, 'V_officer': False, 'V_twenty': False, 'V_system': False, 'V_contains': False, 'V_julia': False, 'V_subplot': False, 'V_missing': False, 'V_personality': False, 'V_building': False, 'V_learns': False, 'V_hong': False, 'V_la': False, 'V_apartment': False, 'V_7': False, 'V_bizarre': False, 'V_powers': False, 'V_flaws': False, 'V_catch': False, 'V_lawyer': False, 'V_shoot': False, 'V_student': False, 'V_unique': False, 'V_000': False, 'V_admit': False, 'V_concept': False, 'V_needed': False, 'V_thrown': False, 'V_christopher': False, 'V_laughing': False, 'V_green': False, 'V_twists': False, 'V_matthew': False, 'V_touch': False, 'V_waiting': False, 'V_victim': False, 'V_cover': False, 'V_machine': False, 'V_danny': False, 'V_mention': False, 'V_search': False, 'V_1997': False, 'V_win': False, 'V_door': False, 'V_manner': False, 'V_train': False, 'V_saving': False, 'V_share': False, 'V_image': False, 'V_discovers': False, 'V_normal': False, 'V_cross': True, 'V_fox': False, 'V_returns': False, 'V_adult': False, 'V_adds': False, 'V_answer': False, 'V_adventure': False, 'V_lame': False, 'V_male': False, 'V_odd': False, 'V_singer': False, 'V_deserves': False, 'V_gore': False, 'V_states': False, 'V_include': False, 'V_equally': False, 'V_months': False, 'V_barely': False, 'V_directors': False, 'V_introduced': False, 'V_fashion': False, 'V_social': False, 'V_1999': False, 'V_news': False, 'V_hair': False, 'V_dance': False, 'V_innocent': True, 'V_camp': False, 'V_teacher': False, 'V_became': False, 'V_sad': False, 'V_witch': False, 'V_includes': False, 'V_nights': False, 'V_jason': False, 'V_julie': False, 'V_latter': False, 'V_food': False, 'V_jennifer': False, 'V_land': False, 'V_menace': False, 'V_rate': True, 'V_storyline': False, 'V_contact': False, 'V_jean': False, 'V_elizabeth': False, 'V_fellow': False, 'V_changes': False, 'V_henry': False, 'V_hill': False, 'V_pulp': False, 'V_gay': False, 'V_tried': False, 'V_surprised': False, 'V_literally': False, 'V_walk': False, 'V_standard': False, 'V_90': False, 'V_forward': False, 'V_wise': False, 'V_enjoyed': False, 'V_discover': False, 'V_pop': False, 'V_anderson': False, 'V_offer': False, 'V_recommend': False, 'V_public': False, 'V_drive': False, 'V_c': False, 'V_toy': False, 'V_charming': False, 'V_fair': False, 'V_chinese': False, 'V_rescue': False, 'V_terms': False, 'V_mouth': False, 'V_lucas': False, 'V_accident': False, 'V_dies': False, 'V_decided': False, 'V_edge': False, 'V_footage': False, 'V_culture': False, 'V_weak': False, 'V_presented': False, 'V_blade': False, 'V_younger': False, 'V_douglas': False, 'V_natural': False, 'V_born': False, 'V_generally': False, 'V_teenage': False, 'V_older': False, 'V_horrible': False, 'V_addition': False, 'V_sadly': False, 'V_creates': True, 'V_disturbing': False, 'V_roger': False, 'V_detail': False, 'V_devil': False, 'V_debut': False, 'V_track': False, 'V_developed': False, 'V_week': False, 'V_russell': False, 'V_attack': False, 'V_explain': False, 'V_rarely': False, 'V_fully': False, 'V_prove': False, 'V_exception': False, 'V_jeff': False, 'V_twist': False, 'V_gang': False, 'V_winning': False, 'V_jr': False, 'V_species': False, 'V_issues': False, 'V_fresh': False, 'V_rules': False, 'V_meaning': False, 'V_inspired': False, 'V_heroes': False, 'V_desperate': False, 'V_fighting': False, 'V_filmed': False, 'V_faces': False, 'V_alan': False, 'V_bright': False, 'V_ass': False, 'V_flying': False, 'V_kong': False, 'V_rush': False, 'V_forces': False, 'V_charles': False, 'V_numerous': False, 'V_emotions': False, 'V_involves': False, 'V_patrick': False, 'V_weird': False, 'V_apparent': False, 'V_information': False, 'V_revenge': False, 'V_jay': False, 'V_toward': False, 'V_surprising': False, 'V_twice': False, 'V_editing': False, 'V_calls': False, 'V_lose': False, 'V_vegas': False, 'V_stage': False, 'V_intended': False, 'V_gags': False, 'V_opinion': False, 'V_likes': False, 'V_crazy': False, 'V_owner': False, 'V_places': False, 'V_pair': False, 'V_genuine': False, 'V_epic': False, 'V_speak': False, 'V_throw': False, 'V_appeal': False, 'V_gibson': False, 'V_captain': False, 'V_military': False, 'V_20': False, 'V_blair': False, 'V_nowhere': False, 'V_length': False, 'V_nicely': False, 'V_cause': False, 'V_pass': False, 'V_episode': False, 'V_kiss': False, 'V_arnold': False, 'V_please': False, 'V_hasn': False, 'V_phone': False, 'V_filmmaking': False, 'V_formula': False, 'V_boyfriend': False, 'V_talents': False, 'V_creating': False, 'V_kelly': False, 'V_buy': False, 'V_wide': False, 'V_fantasy': False, 'V_mood': False, 'V_heads': False, 'V_pathetic': False, 'V_lacks': False, 'V_loved': False, 'V_asked': False, 'V_mrs': False, 'V_witty': False, 'V_shakespeare': False, 'V_mulan': False, 'V_generation': False, 'V_affair': False, 'V_pieces': False, 'V_task': False, 'V_rare': False, 'V_kept': False, 'V_cameo': False, 'V_fascinating': False, 'V_ed': False, 'V_fbi': False, 'V_burton': False, 'V_incredible': False, 'V_accent': False, 'V_artist': False, 'V_superior': False, 'V_academy': False, 'V_thomas': False, 'V_spirit': False, 'V_technical': False, 'V_confusing': False, 'V_poorly': False, 'V_target': False, 'V_lover': False, 'V_woo': False, 'V_mentioned': False, 'V_theaters': False, 'V_plane': False, 'V_confused': False, 'V_dennis': False, 'V_rob': False, 'V_appropriate': False, 'V_christmas': False, 'V_considered': False, 'V_legend': False, 'V_shame': False, 'V_soul': False, 'V_matt': False, 'V_campbell': False, 'V_process': False, 'V_bottom': False, 'V_sitting': False, 'V_brain': False, 'V_creepy': False, 'V_13': False, 'V_forever': False, 'V_dude': False, 'V_crap': False, 'V_superb': False, 'V_speech': False, 'V_ice': False, 'V_journey': False, 'V_masterpiece': False, 'V_intriguing': False, 'V_names': False, 'V_pick': False, 'V_speaking': False, 'V_virtually': False, 'V_award': False, 'V_worthy': False, 'V_marriage': False, 'V_deliver': False, 'V_cash': False, 'V_magic': False, 'V_respect': False, 'V_product': False, 'V_necessary': False, 'V_suppose': False, 'V_silent': False, 'V_pointless': False, 'V_station': False, 'V_affleck': False, 'V_dimensional': False, 'V_charlie': False, 'V_allows': False, 'V_avoid': False, 'V_meant': False, 'V_cops': False, 'V_attitude': False, 'V_relationships': False, 'V_hits': False, 'V_stephen': False, 'V_spends': False, 'V_relief': False, 'V_physical': True, 'V_count': False, 'V_reviews': False, 'V_appreciate': False, 'V_cliches': False, 'V_holds': False, 'V_pure': False, 'V_plans': False, 'V_limited': False, 'V_failed': False, 'V_pain': False, 'V_impression': False, 'V_unless': False, 'V_sub': False, 'V_[': False, 'V_total': False, 'V_creature': False, 'V_viewing': False, 'V_loves': False, 'V_princess': False, 'V_kate': False, 'V_rising': False, 'V_woods': False, 'V_baldwin': False, 'V_angry': False, 'V_drawn': False, 'V_step': False, 'V_matrix': False, 'V_themes': False, 'V_satire': False, 'V_arts': False, 'V_]': False, 'V_remake': False, 'V_wall': False, 'V_moral': False, 'V_color': False, 'V_ray': False, 'V_stuck': False, 'V_touching': False, 'V_wit': False, 'V_tony': False, 'V_hanks': False, 'V_continues': False, 'V_damn': False, 'V_nobody': False, 'V_cartoon': False, 'V_keeping': False, 'V_realized': False, 'V_criminal': False, 'V_unfunny': False, 'V_comedic': False, 'V_martial': False, 'V_disappointing': False, 'V_anti': False, 'V_graphic': False, 'V_stunning': False, 'V_actions': False, 'V_floor': False, 'V_emotion': False, 'V_soldiers': False, 'V_edward': False, 'V_comedies': False, 'V_driver': False, 'V_expectations': False, 'V_added': False, 'V_mad': False, 'V_angels': False, 'V_shallow': False, 'V_suspect': False, 'V_humorous': False, 'V_phantom': False, 'V_appealing': False, 'V_device': False, 'V_design': False, 'V_industry': False, 'V_reach': True, 'V_fat': False, 'V_blame': False, 'V_united': False, 'V_sign': False, 'V_portrayal': False, 'V_rocky': False, 'V_finale': False, 'V_grand': False, 'V_opposite': False, 'V_hotel': False, 'V_match': False, 'V_damme': False, 'V_speed': False, 'V_ok': False, 'V_loving': False, 'V_field': False, 'V_larry': False, 'V_urban': False, 'V_troopers': False, 'V_compared': False, 'V_apes': False, 'V_rose': False, 'V_falling': False, 'V_era': False, 'V_loses': False, 'V_adults': False, 'V_managed': False, 'V_dad': False, 'V_therefore': False, 'V_pg': False, 'V_results': False, 'V_guns': False, 'V_radio': False, 'V_lady': False, 'V_manage': False, 'V_spice': False, 'V_naked': False, 'V_started': False, 'V_intense': False, 'V_humanity': False, 'V_wonderfully': False, 'V_slasher': False, 'V_bland': False, 'V_imagination': False, 'V_walking': False, 'V_willing': False, 'V_horse': False, 'V_rent': False, 'V_mix': False, 'V_generated': False, 'V_g': False, 'V_utterly': False, 'V_scientist': False, 'V_washington': False, 'V_notice': False, 'V_players': False, 'V_teenagers': False, 'V_moore': False, 'V_board': False, 'V_price': False, 'V_frightening': False, 'V_tommy': False, 'V_spectacular': False, 'V_bored': False, 'V_jane': False, 'V_join': False, 'V_producers': False, 'V_johnny': False, 'V_zero': False, 'V_vampires': False, 'V_adaptation': False, 'V_dollars': False, 'V_parody': False, 'V_documentary': False, 'V_dvd': False, 'V_wayne': False, 'V_post': False, 'V_exist': False, 'V_matters': True, 'V_chosen': False, 'V_mel': False, 'V_attractive': False, 'V_plain': False, 'V_trust': False, 'V_safe': False, 'V_reading': False, 'V_hoping': False, 'V_protagonist': False, 'V_feelings': False, 'V_fate': False, 'V_finding': False, 'V_feet': False, 'V_visuals': False, 'V_spawn': False, 'V_compelling': False, 'V_hall': False, 'V_sympathetic': False, 'V_featuring': False, 'V_difference': False, 'V_professional': False, 'V_drugs': False, 'V_ford': False, 'V_shooting': False, 'V_gold': False, 'V_patch': False, 'V_build': False, 'V_boat': False, 'V_cruise': False, 'V_honest': False, 'V_media': False, 'V_flicks': False, 'V_bug': False, 'V_bringing': False, 'V_dangerous': False, 'V_watched': False, 'V_grant': False, 'V_smile': False, 'V_plus': False, 'V_shouldn': False, 'V_decision': False, 'V_visually': True, 'V_allow': False, 'V_starship': False, 'V_roberts': False, 'V_dying': False, 'V_portrayed': False, 'V_turning': False, 'V_believes': False, 'V_changed': False, 'V_shock': False, 'V_destroy': False, 'V_30': False, 'V_crowd': False, 'V_broken': False, 'V_tired': False, 'V_fail': False, 'V_south': False, 'V_died': False, 'V_cult': False, 'V_fake': False, 'V_vincent': False, 'V_identity': False, 'V_sexy': False, 'V_hunt': False, 'V_jedi': False, 'V_flynt': False, 'V_alex': False, 'V_engaging': False, 'V_serve': False, 'V_snake': True, 'V_yeah': False, 'V_expecting': False, 'V_100': False, 'V_decade': False, 'V_ups': False, 'V_constant': False, 'V_current': False, 'V_survive': False, 'V_jimmy': False, 'V_buddy': False, 'V_send': False, 'V_brooks': False, 'V_goofy': False, 'V_likable': False, 'V_humour': False, 'V_technology': False, 'V_files': False, 'V_babe': False, 'V_aspects': False, 'V_presents': False, 'V_kills': False, 'V_supposedly': False, 'V_eight': False, 'V_sandler': False, 'V_hospital': False, 'V_test': False, 'V_hidden': False, 'V_brian': False, 'V_books': False, 'V_promise': False, 'V_determined': False, 'V_professor': False, 'V_welcome': False, 'V_pleasure': False, 'V_succeeds': False, 'V_individual': False, 'V_annie': False, 'V_mob': False, 'V_ted': False, 'V_virus': False, 'V_content': False, 'V_gary': False, 'V_direct': False, 'V_contrived': False, 'V_carpenter': False, 'V_scale': True, 'V_sick': False, 'V_nasty': False, 'V_conflict': False, 'V_haunting': False, 'V_ghost': False, 'V_filmmaker': False, 'V_japanese': False, 'V_helps': False, 'V_fare': False, 'V_lucky': False, 'V_ultimate': False, 'V_window': False, 'V_support': False, 'V_goal': False, 'V_provided': False, 'V_genius': False, 'V_winner': False, 'V_taylor': False, 'V_fantastic': False, 'V_faith': False, 'V_lynch': False, 'V_fit': False, 'V_catherine': False, 'V_ms': False, 'V_paced': False, 'V_breaks': False, 'V_al': False, 'V_frame': False, 'V_travel': False, 'V_badly': False, 'V_available': False, 'V_cares': False, 'V_reeves': False, 'V_crash': False, 'V_driving': False, 'V_press': False, 'V_seagal': False, 'V_amy': False, 'V_9': False, 'V_headed': False, 'V_instance': False, 'V_excuse': False, 'V_offensive': False, 'V_narrative': False, 'V_fault': False, 'V_bus': False, 'V_f': False, 'V_extreme': False, 'V_miller': False, 'V_guilty': False, 'V_grows': False, 'V_overly': False, 'V_liners': False, 'V_forgotten': False, 'V_ahead': False, 'V_accept': False, 'V_porn': False, 'V_directly': False, 'V_helen': False, 'V_began': False, 'V_lord': False, 'V_folks': False, 'V_mediocre': False, 'V_bar': False, 'V_surface': False, 'V_super': False, 'V_failure': False, 'V_6': False, 'V_acted': False, 'V_quiet': False, 'V_laughable': False, 'V_sheer': False, 'V_security': False, 'V_emotionally': False, 'V_season': False, 'V_stuart': False, 'V_jail': False, 'V_deals': False, 'V_cheesy': False, 'V_court': False, 'V_beach': False, 'V_austin': False, 'V_model': False, 'V_outstanding': False, 'V_substance': False, 'V_nudity': False, 'V_slapstick': False, 'V_joan': False, 'V_reveal': False, 'V_placed': False, 'V_check': False, 'V_beast': False, 'V_hurt': False, 'V_bloody': False, 'V_acts': False, 'V_fame': False, 'V_meeting': False, 'V_nuclear': False, 'V_1996': False, 'V_strength': False, 'V_center': False, 'V_funniest': False, 'V_standing': False, 'V_damon': False, 'V_clich': False, 'V_position': False, 'V_desire': False, 'V_driven': False, 'V_seat': False, 'V_stock': False, 'V_wondering': False, 'V_realizes': False, 'V_dealing': False, 'V_taste': False, 'V_routine': False, 'V_comparison': False, 'V_cinematographer': True, 'V_seconds': False, 'V_singing': False, 'V_gangster': True, 'V_responsible': False, 'V_football': False, 'V_remarkable': False, 'V_hunting': False, 'V_adams': False, 'V_fly': False, 'V_suspects': False, 'V_treat': False, 'V_hopes': False, 'V_heaven': False, 'V_myers': False, 'V_struggle': False, 'V_costumes': False, 'V_beat': False, 'V_happening': False, 'V_skills': False, 'V_ugly': False, 'V_figures': False, 'V_thoroughly': False, 'V_ill': False, 'V_surprises': False, 'V_player': False, 'V_rival': False, 'V_guard': False, 'V_anthony': False, 'V_strike': False, 'V_community': False, 'V_streets': False, 'V_hopkins': False, 'V_ended': False, 'V_originally': False, 'V_sarah': False, 'V_creative': False, 'V_characterization': False, 'V_thankfully': False, 'V_growing': False, 'V_sharp': False, 'V_williamson': False, 'V_eccentric': False, 'V_explained': False, 'V_hey': False, 'V_claire': False, 'V_steal': False, 'V_inevitable': False, 'V_joel': False, 'V_core': False, 'V_weren': False, 'V_sorry': False, 'V_built': False, 'V_anne': False, 'V_breaking': False, 'V_villains': True, 'V_critic': False, 'V_lets': False, 'V_visit': False, 'V_followed': False}, 'pos')\n"
     ]
    }
   ],
   "source": [
    "# define features (keywords) of a document\n",
    "# each feature is 'contains(keyword)' and is true or false depending\n",
    "# on whether that keyword is in the document\n",
    "def document_features(document, word_features):\n",
    "    document_words = set(document)\n",
    "    features = {}\n",
    "    for word in word_features:\n",
    "        features['V_%s' % word] = (word in document_words)\n",
    "    return features\n",
    "\n",
    "# get features sets for a document, including keyword features and category feature\n",
    "featuresets = [(document_features(d, word_features), c) for (d,c) in documents]\n",
    "\n",
    "# the feature sets are 2000 words long - so this is optional\n",
    "print(featuresets[0])"
   ]
  },
  {
   "cell_type": "code",
   "execution_count": 7,
   "id": "7dea5c38",
   "metadata": {},
   "outputs": [
    {
     "name": "stdout",
     "output_type": "stream",
     "text": [
      "0.88\n"
     ]
    }
   ],
   "source": [
    "# training using naive Baysian classifier with a 95/5 split\n",
    "train_set, test_set = featuresets[100:], featuresets[:100]\n",
    "classifier = nltk.NaiveBayesClassifier.train(train_set)\n",
    "\n",
    "# evaluate the accuracy of the classifier\n",
    "print (nltk.classify.accuracy(classifier, test_set))\n",
    "# the accuracy result may vary since we randomized the documents"
   ]
  },
  {
   "cell_type": "code",
   "execution_count": 8,
   "id": "ba515c5a",
   "metadata": {},
   "outputs": [
    {
     "name": "stdout",
     "output_type": "stream",
     "text": [
      "Most Informative Features\n",
      "           V_outstanding = True              pos : neg    =     11.0 : 1.0\n",
      "                 V_mulan = True              pos : neg    =      9.0 : 1.0\n",
      "                V_seagal = True              neg : pos    =      8.2 : 1.0\n",
      "           V_wonderfully = True              pos : neg    =      7.5 : 1.0\n",
      "                 V_damon = True              pos : neg    =      7.0 : 1.0\n",
      "                V_wasted = True              neg : pos    =      6.1 : 1.0\n",
      "                 V_flynt = True              pos : neg    =      5.7 : 1.0\n",
      "                  V_lame = True              neg : pos    =      5.6 : 1.0\n",
      "                 V_awful = True              neg : pos    =      5.4 : 1.0\n",
      "                V_poorly = True              neg : pos    =      5.2 : 1.0\n",
      "            V_ridiculous = True              neg : pos    =      5.0 : 1.0\n",
      "                 V_waste = True              neg : pos    =      5.0 : 1.0\n",
      "                   V_era = True              pos : neg    =      4.5 : 1.0\n",
      "                 V_worst = True              neg : pos    =      4.5 : 1.0\n",
      "                 V_bland = True              neg : pos    =      4.1 : 1.0\n",
      "             V_pointless = True              neg : pos    =      4.0 : 1.0\n",
      "                V_allows = True              pos : neg    =      4.0 : 1.0\n",
      "             V_portrayal = True              pos : neg    =      4.0 : 1.0\n",
      "                 V_hanks = True              pos : neg    =      3.9 : 1.0\n",
      "                V_stupid = True              neg : pos    =      3.9 : 1.0\n",
      "              V_terrific = True              pos : neg    =      3.8 : 1.0\n",
      "             V_laughable = True              neg : pos    =      3.8 : 1.0\n",
      "                  V_dull = True              neg : pos    =      3.8 : 1.0\n",
      "               V_unfunny = True              neg : pos    =      3.8 : 1.0\n",
      "                  V_mess = True              neg : pos    =      3.7 : 1.0\n",
      "                V_boring = True              neg : pos    =      3.7 : 1.0\n",
      "             V_fantastic = True              pos : neg    =      3.7 : 1.0\n",
      "                  V_jedi = True              pos : neg    =      3.7 : 1.0\n",
      "             V_memorable = True              pos : neg    =      3.6 : 1.0\n",
      "              V_terrible = True              neg : pos    =      3.5 : 1.0\n",
      "None\n"
     ]
    }
   ],
   "source": [
    "# show which features of classifier are most informative\n",
    "print(classifier.show_most_informative_features(30))"
   ]
  },
  {
   "cell_type": "markdown",
   "id": "7e75de46",
   "metadata": {},
   "source": [
    "# Rerun with a different number of words"
   ]
  },
  {
   "cell_type": "code",
   "execution_count": 9,
   "id": "cd8f0dd7",
   "metadata": {},
   "outputs": [
    {
     "name": "stdout",
     "output_type": "stream",
     "text": [
      "[',', 'the', '.', 'a', 'and', 'of', 'to', \"'\", 'is', 'in', 's', '\"', 'it', 'that', '-', ')', '(', 'as', 'with', 'for', 'his', 'this', 'film', 'i', 'he', 'but', 'on', 'are', 't', 'by', 'be', 'one', 'movie', 'an', 'who', 'not', 'you', 'from', 'at', 'was', 'have', 'they', 'has', 'her', 'all', '?', 'there', 'like', 'so', 'out', 'about', 'up', 'more', 'what', 'when', 'which', 'or', 'she', 'their', ':', 'some', 'just', 'can', 'if', 'we', 'him', 'into', 'even', 'only', 'than', 'no', 'good', 'time', 'most', 'its', 'will', 'story', 'would', 'been', 'much', 'character', 'also', 'get', 'other', 'do', 'two', 'well', 'them', 'very', 'characters', ';', 'first', '--', 'after', 'see', '!', 'way', 'because', 'make', 'life']\n"
     ]
    }
   ],
   "source": [
    "# get the 500 most frequently appearing keywords in the corpus\n",
    "word_items = all_words.most_common(500)\n",
    "word_features = [word for (word, freq) in word_items] # just the words\n",
    "\n",
    "# look at the first 100 words\n",
    "print(word_features[:100])"
   ]
  },
  {
   "cell_type": "code",
   "execution_count": 10,
   "id": "a443767b",
   "metadata": {},
   "outputs": [
    {
     "name": "stdout",
     "output_type": "stream",
     "text": [
      "({'V_,': True, 'V_the': True, 'V_.': True, 'V_a': True, 'V_and': True, 'V_of': True, 'V_to': True, \"V_'\": True, 'V_is': True, 'V_in': True, 'V_s': True, 'V_\"': True, 'V_it': True, 'V_that': True, 'V_-': True, 'V_)': True, 'V_(': True, 'V_as': True, 'V_with': True, 'V_for': False, 'V_his': True, 'V_this': True, 'V_film': True, 'V_i': True, 'V_he': True, 'V_but': True, 'V_on': True, 'V_are': False, 'V_t': True, 'V_by': True, 'V_be': False, 'V_one': True, 'V_movie': False, 'V_an': True, 'V_who': True, 'V_not': True, 'V_you': False, 'V_from': True, 'V_at': True, 'V_was': True, 'V_have': True, 'V_they': True, 'V_has': True, 'V_her': False, 'V_all': True, 'V_?': False, 'V_there': False, 'V_like': True, 'V_so': False, 'V_out': True, 'V_about': False, 'V_up': False, 'V_more': True, 'V_what': True, 'V_when': False, 'V_which': False, 'V_or': False, 'V_she': False, 'V_their': True, 'V_:': False, 'V_some': False, 'V_just': True, 'V_can': False, 'V_if': False, 'V_we': True, 'V_him': True, 'V_into': True, 'V_even': True, 'V_only': False, 'V_than': True, 'V_no': False, 'V_good': True, 'V_time': False, 'V_most': True, 'V_its': False, 'V_will': True, 'V_story': False, 'V_would': False, 'V_been': False, 'V_much': True, 'V_character': False, 'V_also': False, 'V_get': False, 'V_other': False, 'V_do': True, 'V_two': False, 'V_well': False, 'V_them': False, 'V_very': True, 'V_characters': False, 'V_;': False, 'V_first': False, 'V_--': False, 'V_after': False, 'V_see': True, 'V_!': False, 'V_way': True, 'V_because': False, 'V_make': False, 'V_life': True, 'V_off': False, 'V_too': False, 'V_any': False, 'V_does': True, 'V_really': False, 'V_had': True, 'V_while': False, 'V_films': False, 'V_how': False, 'V_plot': False, 'V_little': True, 'V_where': True, 'V_people': False, 'V_over': False, 'V_could': False, 'V_then': False, 'V_me': False, 'V_scene': True, 'V_man': True, 'V_bad': False, 'V_my': False, 'V_never': False, 'V_being': False, 'V_best': True, 'V_these': False, 'V_don': True, 'V_new': False, 'V_doesn': False, 'V_scenes': False, 'V_many': False, 'V_director': False, 'V_such': True, 'V_know': False, 'V_were': False, 'V_movies': False, 'V_through': False, 'V_here': True, 'V_action': False, 'V_great': True, 'V_re': False, 'V_another': False, 'V_love': False, 'V_go': False, 'V_made': False, 'V_us': True, 'V_big': True, 'V_end': False, 'V_something': False, 'V_back': False, 'V_*': False, 'V_still': False, 'V_world': True, 'V_seems': False, 'V_work': True, 'V_those': False, 'V_makes': True, 'V_now': False, 'V_before': False, 'V_however': False, 'V_between': True, 'V_few': False, 'V_/': False, 'V_down': False, 'V_every': True, 'V_though': True, 'V_better': False, 'V_real': False, 'V_audience': False, 'V_enough': True, 'V_seen': True, 'V_take': False, 'V_around': False, 'V_both': False, 'V_going': False, 'V_year': False, 'V_performance': False, 'V_why': False, 'V_should': False, 'V_role': False, 'V_isn': False, 'V_same': False, 'V_old': True, 'V_gets': False, 'V_your': False, 'V_may': True, 'V_things': False, 'V_think': False, 'V_years': True, 'V_last': False, 'V_comedy': False, 'V_funny': False, 'V_actually': False, 'V_ve': False, 'V_long': True, 'V_look': False, 'V_almost': False, 'V_own': False, 'V_thing': False, 'V_fact': False, 'V_nothing': False, 'V_say': False, 'V_right': False, 'V_john': False, 'V_although': False, 'V_played': True, 'V_find': False, 'V_script': False, 'V_come': False, 'V_ever': False, 'V_cast': False, 'V_since': True, 'V_did': False, 'V_star': False, 'V_plays': False, 'V_young': True, 'V_show': False, 'V_comes': False, 'V_m': False, 'V_part': False, 'V_original': False, 'V_actors': False, 'V_screen': True, 'V_without': False, 'V_again': False, 'V_acting': False, 'V_three': False, 'V_day': False, 'V_each': False, 'V_point': False, 'V_lot': False, 'V_least': False, 'V_takes': False, 'V_guy': False, 'V_quite': False, 'V_himself': False, 'V_away': False, 'V_during': False, 'V_family': False, 'V_effects': False, 'V_course': False, 'V_goes': False, 'V_minutes': False, 'V_interesting': False, 'V_might': False, 'V_far': True, 'V_high': False, 'V_rather': False, 'V_once': True, 'V_must': False, 'V_anything': True, 'V_place': False, 'V_set': False, 'V_yet': False, 'V_watch': False, 'V_d': False, 'V_making': False, 'V_our': False, 'V_wife': False, 'V_hard': False, 'V_always': False, 'V_fun': False, 'V_didn': False, 'V_ll': False, 'V_seem': False, 'V_special': False, 'V_bit': False, 'V_times': False, 'V_trying': False, 'V_hollywood': False, 'V_instead': False, 'V_give': False, 'V_want': False, 'V_picture': False, 'V_kind': False, 'V_american': False, 'V_job': True, 'V_sense': False, 'V_woman': False, 'V_home': False, 'V_having': False, 'V_series': False, 'V_actor': True, 'V_probably': True, 'V_help': False, 'V_half': False, 'V_along': False, 'V_men': False, 'V_everything': False, 'V_pretty': False, 'V_becomes': False, 'V_sure': False, 'V_black': True, 'V_together': False, 'V_dialogue': False, 'V_money': False, 'V_become': True, 'V_gives': False, 'V_given': False, 'V_looking': False, 'V_whole': False, 'V_watching': False, 'V_father': False, 'V_`': False, 'V_feel': False, 'V_everyone': False, 'V_music': False, 'V_wants': False, 'V_sex': False, 'V_less': False, 'V_done': False, 'V_horror': False, 'V_got': False, 'V_death': False, 'V_perhaps': False, 'V_city': False, 'V_next': False, 'V_especially': False, 'V_play': False, 'V_girl': True, 'V_mind': False, 'V_10': True, 'V_moments': False, 'V_looks': False, 'V_completely': False, 'V_2': False, 'V_reason': False, 'V_mother': False, 'V_whose': False, 'V_line': False, 'V_night': False, 'V_human': False, 'V_until': False, 'V_rest': False, 'V_performances': False, 'V_different': False, 'V_evil': True, 'V_small': False, 'V_james': False, 'V_simply': False, 'V_couple': False, 'V_put': False, 'V_let': False, 'V_anyone': False, 'V_ending': False, 'V_case': False, 'V_several': False, 'V_dead': False, 'V_michael': False, 'V_left': False, 'V_thought': False, 'V_school': True, 'V_shows': False, 'V_humor': False, 'V_true': False, 'V_lost': False, 'V_written': False, 'V_itself': False, 'V_friend': True, 'V_entire': False, 'V_getting': False, 'V_town': False, 'V_turns': False, 'V_soon': False, 'V_someone': False, 'V_second': False, 'V_main': False, 'V_stars': False, 'V_found': False, 'V_use': True, 'V_problem': False, 'V_friends': False, 'V_tv': False, 'V_top': False, 'V_name': False, 'V_begins': False, 'V_called': False, 'V_based': True, 'V_comic': False, 'V_david': True, 'V_head': False, 'V_else': False, 'V_idea': False, 'V_either': False, 'V_wrong': False, 'V_unfortunately': False, 'V_later': False, 'V_final': False, 'V_hand': False, 'V_alien': False, 'V_house': False, 'V_group': False, 'V_full': False, 'V_used': False, 'V_tries': False, 'V_often': False, 'V_against': False, 'V_war': False, 'V_sequence': False, 'V_keep': False, 'V_turn': False, 'V_playing': False, 'V_boy': False, 'V_behind': False, 'V_named': False, 'V_certainly': False, 'V_live': True, 'V_believe': False, 'V_under': False, 'V_works': False, 'V_relationship': False, 'V_face': False, 'V_hour': False, 'V_run': False, 'V_style': True, 'V_said': False, 'V_despite': False, 'V_person': False, 'V_finally': False, 'V_shot': False, 'V_book': False, 'V_doing': False, 'V_tell': False, 'V_maybe': False, 'V_nice': False, 'V_son': False, 'V_perfect': False, 'V_side': False, 'V_seeing': False, 'V_able': False, 'V_finds': False, 'V_children': False, 'V_days': True, 'V_past': False, 'V_summer': False, 'V_camera': False, 'V_won': False, 'V_including': False, 'V_mr': True, 'V_kids': False, 'V_lives': True, 'V_directed': False, 'V_moment': False, 'V_game': False, 'V_running': False, 'V_fight': False, 'V_supposed': False, 'V_video': False, 'V_car': False, 'V_matter': False, 'V_kevin': False, 'V_joe': False, 'V_lines': False, 'V_worth': False, 'V_=': False, 'V_daughter': True, 'V_earth': False, 'V_starts': False, 'V_need': False, 'V_entertaining': False, 'V_white': False, 'V_start': False, 'V_writer': False, 'V_dark': False, 'V_short': False, 'V_self': False, 'V_worst': False, 'V_nearly': False, 'V_opening': False, 'V_try': False, 'V_upon': False, 'V_care': False, 'V_early': False, 'V_violence': True, 'V_throughout': False, 'V_team': False, 'V_production': False, 'V_example': False, 'V_beautiful': True, 'V_title': False, 'V_exactly': False, 'V_jack': False, 'V_review': False, 'V_major': False, 'V_drama': False, 'V_&': False, 'V_problems': False, 'V_sequences': False, 'V_obvious': False, 'V_version': False, 'V_screenplay': True, 'V_known': False, 'V_killer': False, 'V_wasn': False, 'V_robert': False, 'V_disney': False, 'V_already': False, 'V_close': False, 'V_classic': False, 'V_others': False, 'V_hit': False}, 'pos')\n"
     ]
    }
   ],
   "source": [
    "# define features (keywords) of a document\n",
    "# each feature is 'contains(keyword)' and is true or false depending\n",
    "# on whether that keyword is in the document\n",
    "def document_features(document, word_features):\n",
    "    document_words = set(document)\n",
    "    features = {}\n",
    "    for word in word_features:\n",
    "        features['V_%s' % word] = (word in document_words)\n",
    "    return features\n",
    "\n",
    "# get features sets for a document, including keyword features and category feature\n",
    "featuresets = [(document_features(d, word_features), c) for (d,c) in documents]\n",
    "\n",
    "# the feature sets are 2000 words long - so this is optional\n",
    "print(featuresets[0])"
   ]
  },
  {
   "cell_type": "code",
   "execution_count": 11,
   "id": "43b29d3a",
   "metadata": {},
   "outputs": [
    {
     "name": "stdout",
     "output_type": "stream",
     "text": [
      "0.72\n"
     ]
    }
   ],
   "source": [
    "# training using naive Baysian classifier with a 95/5 split\n",
    "train_set, test_set = featuresets[100:], featuresets[:100]\n",
    "classifier = nltk.NaiveBayesClassifier.train(train_set)\n",
    "\n",
    "# evaluate the accuracy of the classifier\n",
    "print (nltk.classify.accuracy(classifier, test_set))\n",
    "# the accuracy result may vary since we randomized the documents"
   ]
  },
  {
   "cell_type": "code",
   "execution_count": 12,
   "id": "0c28f118",
   "metadata": {},
   "outputs": [
    {
     "name": "stdout",
     "output_type": "stream",
     "text": [
      "Most Informative Features\n",
      "                 V_worst = True              neg : pos    =      4.5 : 1.0\n",
      "                    V_it = False             neg : pos    =      2.6 : 1.0\n",
      "              V_supposed = True              neg : pos    =      2.4 : 1.0\n",
      "               V_perfect = True              pos : neg    =      2.3 : 1.0\n",
      "                V_others = True              pos : neg    =      2.1 : 1.0\n",
      "                   V_war = True              pos : neg    =      2.0 : 1.0\n",
      "                 V_maybe = True              neg : pos    =      2.0 : 1.0\n",
      "                   V_bad = True              neg : pos    =      2.0 : 1.0\n",
      "                     V_= = True              neg : pos    =      1.9 : 1.0\n",
      "                  V_true = True              pos : neg    =      1.9 : 1.0\n",
      "          V_performances = True              pos : neg    =      1.9 : 1.0\n",
      "              V_american = True              pos : neg    =      1.8 : 1.0\n",
      "             V_different = True              pos : neg    =      1.7 : 1.0\n",
      "         V_unfortunately = True              neg : pos    =      1.7 : 1.0\n",
      "                    V_as = False             neg : pos    =      1.7 : 1.0\n",
      "            V_throughout = True              pos : neg    =      1.7 : 1.0\n",
      "             V_beautiful = True              pos : neg    =      1.7 : 1.0\n",
      "                    V_to = False             neg : pos    =      1.7 : 1.0\n",
      "                 V_looks = True              neg : pos    =      1.7 : 1.0\n",
      "            V_especially = True              pos : neg    =      1.7 : 1.0\n",
      "                V_script = True              neg : pos    =      1.7 : 1.0\n",
      "                 V_known = True              pos : neg    =      1.6 : 1.0\n",
      "                 V_works = True              pos : neg    =      1.6 : 1.0\n",
      "                V_reason = True              neg : pos    =      1.6 : 1.0\n",
      "                  V_have = False             pos : neg    =      1.6 : 1.0\n",
      "                V_begins = True              pos : neg    =      1.6 : 1.0\n",
      "                  V_wasn = True              neg : pos    =      1.6 : 1.0\n",
      "                     V_` = True              pos : neg    =      1.6 : 1.0\n",
      "                  V_both = True              pos : neg    =      1.6 : 1.0\n",
      "                V_family = True              pos : neg    =      1.6 : 1.0\n",
      "None\n"
     ]
    }
   ],
   "source": [
    "# show which features of classifier are most informative\n",
    "print(classifier.show_most_informative_features(30))"
   ]
  },
  {
   "cell_type": "code",
   "execution_count": null,
   "id": "0384fe1c",
   "metadata": {},
   "outputs": [],
   "source": []
  }
 ],
 "metadata": {
  "kernelspec": {
   "display_name": "Python 3 (ipykernel)",
   "language": "python",
   "name": "python3"
  },
  "language_info": {
   "codemirror_mode": {
    "name": "ipython",
    "version": 3
   },
   "file_extension": ".py",
   "mimetype": "text/x-python",
   "name": "python",
   "nbconvert_exporter": "python",
   "pygments_lexer": "ipython3",
   "version": "3.10.9"
  }
 },
 "nbformat": 4,
 "nbformat_minor": 5
}
