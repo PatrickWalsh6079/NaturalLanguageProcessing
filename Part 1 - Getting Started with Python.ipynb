{
 "cells": [
  {
   "cell_type": "code",
   "execution_count": 1,
   "id": "a92888d3",
   "metadata": {},
   "outputs": [
    {
     "name": "stdout",
     "output_type": "stream",
     "text": [
      "hello\n"
     ]
    }
   ],
   "source": [
    "print('hello')"
   ]
  },
  {
   "cell_type": "code",
   "execution_count": 3,
   "id": "d6191348",
   "metadata": {},
   "outputs": [],
   "source": [
    "person = \"Jose\""
   ]
  },
  {
   "cell_type": "code",
   "execution_count": 4,
   "id": "b7c1dbae",
   "metadata": {},
   "outputs": [
    {
     "name": "stdout",
     "output_type": "stream",
     "text": [
      "My name is Jose \n"
     ]
    }
   ],
   "source": [
    "print(\"My name is {} \".format(person))"
   ]
  },
  {
   "cell_type": "code",
   "execution_count": 5,
   "id": "df76021f",
   "metadata": {},
   "outputs": [
    {
     "name": "stdout",
     "output_type": "stream",
     "text": [
      "My name is Jose\n"
     ]
    }
   ],
   "source": [
    "print(f\"My name is {person}\")"
   ]
  },
  {
   "cell_type": "code",
   "execution_count": 7,
   "id": "11421126",
   "metadata": {},
   "outputs": [],
   "source": [
    "my_list = [0,1,2]"
   ]
  },
  {
   "cell_type": "code",
   "execution_count": 8,
   "id": "43f7a66d",
   "metadata": {},
   "outputs": [
    {
     "name": "stdout",
     "output_type": "stream",
     "text": [
      "My number is 0\n"
     ]
    }
   ],
   "source": [
    "print(f\"My number is {my_list[0]}\")"
   ]
  },
  {
   "cell_type": "markdown",
   "id": "d1706f95",
   "metadata": {},
   "source": [
    "Tuple Unpacking"
   ]
  },
  {
   "cell_type": "code",
   "execution_count": 11,
   "id": "20b85391",
   "metadata": {},
   "outputs": [],
   "source": [
    "library = [('Author','Topic','Pages'), ('Twain','Rafting in the Water Alone','601'), ('Feynman','Physics','95'), ('Hamilton','Mythology','144')]"
   ]
  },
  {
   "cell_type": "code",
   "execution_count": 12,
   "id": "fb3d997d",
   "metadata": {},
   "outputs": [
    {
     "data": {
      "text/plain": [
       "[('Author', 'Topic', 'Pages'),\n",
       " ('Twain', 'Rafting in the Water Alone', '601'),\n",
       " ('Feynman', 'Physics', '95'),\n",
       " ('Hamilton', 'Mythology', '144')]"
      ]
     },
     "execution_count": 12,
     "metadata": {},
     "output_type": "execute_result"
    }
   ],
   "source": [
    "library"
   ]
  },
  {
   "cell_type": "code",
   "execution_count": 20,
   "id": "2af5953b",
   "metadata": {},
   "outputs": [
    {
     "name": "stdout",
     "output_type": "stream",
     "text": [
      "Author     Topic                          Pages     \n",
      "Twain      Rafting in the Water Alone     601       \n",
      "Feynman    Physics                        95        \n",
      "Hamilton   Mythology                      144       \n"
     ]
    }
   ],
   "source": [
    "for author,topic,pages in library:\n",
    "    print(f\"{author:{10}} {topic:{30}} {pages:{10}}\")"
   ]
  },
  {
   "cell_type": "markdown",
   "id": "0e9c6b8d",
   "metadata": {},
   "source": [
    "Datetime"
   ]
  },
  {
   "cell_type": "markdown",
   "id": "537ae41c",
   "metadata": {},
   "source": [
    "Use strftime.org to find time formatting options"
   ]
  },
  {
   "cell_type": "code",
   "execution_count": 21,
   "id": "00e1579e",
   "metadata": {},
   "outputs": [],
   "source": [
    "from datetime import datetime"
   ]
  },
  {
   "cell_type": "code",
   "execution_count": 22,
   "id": "e95796b4",
   "metadata": {},
   "outputs": [],
   "source": [
    "today = datetime(year=2022,month=7,day=12)"
   ]
  },
  {
   "cell_type": "code",
   "execution_count": 24,
   "id": "7345b042",
   "metadata": {},
   "outputs": [
    {
     "name": "stdout",
     "output_type": "stream",
     "text": [
      "today: 2022-07-12 00:00:00\n"
     ]
    }
   ],
   "source": [
    "print(f\"today: {today}\")"
   ]
  },
  {
   "cell_type": "code",
   "execution_count": 26,
   "id": "d78554b2",
   "metadata": {},
   "outputs": [
    {
     "name": "stdout",
     "output_type": "stream",
     "text": [
      "today: July 12, 2022\n"
     ]
    }
   ],
   "source": [
    "print(f\"today: {today:%B %d, %Y}\")"
   ]
  },
  {
   "cell_type": "code",
   "execution_count": null,
   "id": "bb603603",
   "metadata": {},
   "outputs": [],
   "source": []
  }
 ],
 "metadata": {
  "kernelspec": {
   "display_name": "Python 3 (ipykernel)",
   "language": "python",
   "name": "python3"
  },
  "language_info": {
   "codemirror_mode": {
    "name": "ipython",
    "version": 3
   },
   "file_extension": ".py",
   "mimetype": "text/x-python",
   "name": "python",
   "nbconvert_exporter": "python",
   "pygments_lexer": "ipython3",
   "version": "3.7.13"
  }
 },
 "nbformat": 4,
 "nbformat_minor": 5
}
