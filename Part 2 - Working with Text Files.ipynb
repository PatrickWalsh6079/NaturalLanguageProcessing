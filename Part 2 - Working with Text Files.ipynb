{
 "cells": [
  {
   "cell_type": "markdown",
   "id": "bdaff558",
   "metadata": {},
   "source": [
    "# Create a Text File"
   ]
  },
  {
   "cell_type": "markdown",
   "id": "fcab0664",
   "metadata": {},
   "source": [
    "This formatting only works for Jupter notebooks"
   ]
  },
  {
   "cell_type": "code",
   "execution_count": 5,
   "id": "9e970d43",
   "metadata": {},
   "outputs": [
    {
     "name": "stdout",
     "output_type": "stream",
     "text": [
      "Writing test.txt\n"
     ]
    }
   ],
   "source": [
    "%%writefile test.txt\n",
    "Hello, this is a quick test file.\n",
    "This is the second line of the file."
   ]
  },
  {
   "cell_type": "code",
   "execution_count": 19,
   "id": "3d105d21",
   "metadata": {},
   "outputs": [
    {
     "data": {
      "text/plain": [
       "'C:\\\\Users\\\\pwalsh\\\\Downloads\\\\NLP_course'"
      ]
     },
     "execution_count": 19,
     "metadata": {},
     "output_type": "execute_result"
    }
   ],
   "source": [
    "pwd"
   ]
  },
  {
   "cell_type": "code",
   "execution_count": 20,
   "id": "8c5d9e30",
   "metadata": {},
   "outputs": [],
   "source": [
    "# create text file wrapper object\n",
    "my_file = open('test.txt')"
   ]
  },
  {
   "cell_type": "code",
   "execution_count": 21,
   "id": "f3268dd3",
   "metadata": {},
   "outputs": [
    {
     "data": {
      "text/plain": [
       "<_io.TextIOWrapper name='test.txt' mode='r' encoding='cp1256'>"
      ]
     },
     "execution_count": 21,
     "metadata": {},
     "output_type": "execute_result"
    }
   ],
   "source": [
    "# show that file is in open state\n",
    "my_file"
   ]
  },
  {
   "cell_type": "code",
   "execution_count": 27,
   "id": "5b4ebebd",
   "metadata": {},
   "outputs": [
    {
     "data": {
      "text/plain": [
       "''"
      ]
     },
     "execution_count": 27,
     "metadata": {},
     "output_type": "execute_result"
    }
   ],
   "source": [
    "# print contents of file\n",
    "my_file.read()"
   ]
  },
  {
   "cell_type": "code",
   "execution_count": 29,
   "id": "291452dc",
   "metadata": {},
   "outputs": [
    {
     "data": {
      "text/plain": [
       "'Hello, this is a quick test file.\\nThis is the second line of the file.\\n'"
      ]
     },
     "execution_count": 29,
     "metadata": {},
     "output_type": "execute_result"
    }
   ],
   "source": [
    "# reset cursor to beginning of text file\n",
    "my_file.seek(0)\n",
    "# print contents of file\n",
    "my_file.read()"
   ]
  },
  {
   "cell_type": "code",
   "execution_count": 31,
   "id": "463860ac",
   "metadata": {},
   "outputs": [
    {
     "data": {
      "text/plain": [
       "0"
      ]
     },
     "execution_count": 31,
     "metadata": {},
     "output_type": "execute_result"
    }
   ],
   "source": [
    "# reset cursor to beginning of text file\n",
    "my_file.seek(0)"
   ]
  },
  {
   "cell_type": "code",
   "execution_count": 32,
   "id": "f73fc9ce",
   "metadata": {},
   "outputs": [
    {
     "name": "stdout",
     "output_type": "stream",
     "text": [
      "Hello, this is a quick test file.\n",
      "This is the second line of the file.\n",
      "\n"
     ]
    }
   ],
   "source": [
    "content = my_file.read()\n",
    "print(content)"
   ]
  },
  {
   "cell_type": "code",
   "execution_count": 35,
   "id": "6d664923",
   "metadata": {},
   "outputs": [
    {
     "data": {
      "text/plain": [
       "'Hello, this is a quick test file.\\nThis is the second line of the file.\\n'"
      ]
     },
     "execution_count": 35,
     "metadata": {},
     "output_type": "execute_result"
    }
   ],
   "source": [
    "# does not require cursor reset or print() statement\n",
    "content"
   ]
  },
  {
   "cell_type": "code",
   "execution_count": 36,
   "id": "80e4ecf3",
   "metadata": {},
   "outputs": [],
   "source": [
    "# close file wrapper object\n",
    "my_file.close()"
   ]
  },
  {
   "cell_type": "markdown",
   "id": "f45e242d",
   "metadata": {},
   "source": [
    "Readlines() method to read each line from file with \\n as delimiter"
   ]
  },
  {
   "cell_type": "code",
   "execution_count": 41,
   "id": "832fc867",
   "metadata": {},
   "outputs": [],
   "source": [
    "# create text file wrapper object\n",
    "my_file = open('test.txt')"
   ]
  },
  {
   "cell_type": "code",
   "execution_count": 42,
   "id": "75df543e",
   "metadata": {},
   "outputs": [],
   "source": [
    "# prints file contents as list\n",
    "my_lines = my_file.readlines()"
   ]
  },
  {
   "cell_type": "code",
   "execution_count": 46,
   "id": "f47241e1",
   "metadata": {},
   "outputs": [
    {
     "name": "stdout",
     "output_type": "stream",
     "text": [
      "H\n",
      "T\n"
     ]
    }
   ],
   "source": [
    "for line in my_lines:\n",
    "    print(line[0])"
   ]
  },
  {
   "cell_type": "code",
   "execution_count": 47,
   "id": "bcecb84c",
   "metadata": {},
   "outputs": [
    {
     "name": "stdout",
     "output_type": "stream",
     "text": [
      "Hello,\n",
      "This\n"
     ]
    }
   ],
   "source": [
    "for line in my_lines:\n",
    "    print(line.split()[0])"
   ]
  },
  {
   "cell_type": "code",
   "execution_count": 48,
   "id": "d828ae28",
   "metadata": {},
   "outputs": [],
   "source": [
    "# open file in write mode\n",
    "# r = read\n",
    "# w = write\n",
    "# w+ = read + write\n",
    "my_file = open('test.txt', 'w+')  # CAUTION! Overwrites contents of file"
   ]
  },
  {
   "cell_type": "code",
   "execution_count": 49,
   "id": "25f9b605",
   "metadata": {},
   "outputs": [
    {
     "data": {
      "text/plain": [
       "''"
      ]
     },
     "execution_count": 49,
     "metadata": {},
     "output_type": "execute_result"
    }
   ],
   "source": [
    "my_file.read()"
   ]
  },
  {
   "cell_type": "code",
   "execution_count": 50,
   "id": "e1327da9",
   "metadata": {},
   "outputs": [
    {
     "data": {
      "text/plain": [
       "17"
      ]
     },
     "execution_count": 50,
     "metadata": {},
     "output_type": "execute_result"
    }
   ],
   "source": [
    "my_file.write('This is NEW text!')"
   ]
  },
  {
   "cell_type": "code",
   "execution_count": 53,
   "id": "1d28843a",
   "metadata": {},
   "outputs": [
    {
     "data": {
      "text/plain": [
       "0"
      ]
     },
     "execution_count": 53,
     "metadata": {},
     "output_type": "execute_result"
    }
   ],
   "source": [
    "# reset cursor to beginning of text file\n",
    "my_file.seek(0)"
   ]
  },
  {
   "cell_type": "code",
   "execution_count": 54,
   "id": "4d9a19e1",
   "metadata": {},
   "outputs": [
    {
     "data": {
      "text/plain": [
       "'This is NEW text!'"
      ]
     },
     "execution_count": 54,
     "metadata": {},
     "output_type": "execute_result"
    }
   ],
   "source": [
    "my_file.read()"
   ]
  },
  {
   "cell_type": "code",
   "execution_count": 55,
   "id": "90bd825d",
   "metadata": {},
   "outputs": [],
   "source": [
    "my_file.close()"
   ]
  },
  {
   "cell_type": "code",
   "execution_count": 64,
   "id": "626548d9",
   "metadata": {},
   "outputs": [],
   "source": [
    "# a+ = open in append mode\n",
    "# will create new file if file does not exist, unlike opening in 'r' mode\n",
    "my_file = open('whoops.txt', 'a+')"
   ]
  },
  {
   "cell_type": "code",
   "execution_count": 60,
   "id": "595a7b85",
   "metadata": {},
   "outputs": [
    {
     "data": {
      "text/plain": [
       "27"
      ]
     },
     "execution_count": 60,
     "metadata": {},
     "output_type": "execute_result"
    }
   ],
   "source": [
    "my_file.write('My first line in a+ opening')"
   ]
  },
  {
   "cell_type": "code",
   "execution_count": 61,
   "id": "37cb7d50",
   "metadata": {},
   "outputs": [],
   "source": [
    "my_file.close()"
   ]
  },
  {
   "cell_type": "code",
   "execution_count": 62,
   "id": "b08d245b",
   "metadata": {},
   "outputs": [],
   "source": [
    "newfile = open('whoops.txt')"
   ]
  },
  {
   "cell_type": "code",
   "execution_count": 63,
   "id": "533817c5",
   "metadata": {},
   "outputs": [
    {
     "data": {
      "text/plain": [
       "'My first line in a+ opening'"
      ]
     },
     "execution_count": 63,
     "metadata": {},
     "output_type": "execute_result"
    }
   ],
   "source": [
    "newfile.read()"
   ]
  },
  {
   "cell_type": "code",
   "execution_count": 66,
   "id": "e7ad4661",
   "metadata": {},
   "outputs": [
    {
     "ename": "UnsupportedOperation",
     "evalue": "not writable",
     "output_type": "error",
     "traceback": [
      "\u001b[1;31m---------------------------------------------------------------------------\u001b[0m",
      "\u001b[1;31mUnsupportedOperation\u001b[0m                      Traceback (most recent call last)",
      "\u001b[1;32m~\\AppData\\Local\\Temp\\ipykernel_23224\\3329196395.py\u001b[0m in \u001b[0;36m<module>\u001b[1;34m\u001b[0m\n\u001b[0;32m      1\u001b[0m \u001b[1;31m# cannot write to since file is opened in 'r' mode\u001b[0m\u001b[1;33m\u001b[0m\u001b[1;33m\u001b[0m\u001b[1;33m\u001b[0m\u001b[0m\n\u001b[1;32m----> 2\u001b[1;33m \u001b[0mnewfile\u001b[0m\u001b[1;33m.\u001b[0m\u001b[0mwrite\u001b[0m\u001b[1;33m(\u001b[0m\u001b[1;34m'Try to write something with only read permissions'\u001b[0m\u001b[1;33m)\u001b[0m\u001b[1;33m\u001b[0m\u001b[1;33m\u001b[0m\u001b[0m\n\u001b[0m",
      "\u001b[1;31mUnsupportedOperation\u001b[0m: not writable"
     ]
    }
   ],
   "source": [
    "# cannot write to since file is opened in 'r' mode\n",
    "newfile.write('Try to write something with only read permissions')"
   ]
  },
  {
   "cell_type": "code",
   "execution_count": 67,
   "id": "82d7e1f4",
   "metadata": {},
   "outputs": [],
   "source": [
    "newfile.close()"
   ]
  },
  {
   "cell_type": "code",
   "execution_count": 68,
   "id": "fb3f64ee",
   "metadata": {},
   "outputs": [],
   "source": [
    "my_file = open('whoops.txt', mode='a+')"
   ]
  },
  {
   "cell_type": "code",
   "execution_count": 69,
   "id": "5358f40d",
   "metadata": {},
   "outputs": [
    {
     "data": {
      "text/plain": [
       "49"
      ]
     },
     "execution_count": 69,
     "metadata": {},
     "output_type": "execute_result"
    }
   ],
   "source": [
    "my_file.write('This is an added line, because I used the a+ mode')"
   ]
  },
  {
   "cell_type": "code",
   "execution_count": 70,
   "id": "f868db29",
   "metadata": {},
   "outputs": [
    {
     "data": {
      "text/plain": [
       "0"
      ]
     },
     "execution_count": 70,
     "metadata": {},
     "output_type": "execute_result"
    }
   ],
   "source": [
    "my_file.seek(0)"
   ]
  },
  {
   "cell_type": "code",
   "execution_count": 71,
   "id": "522f82ae",
   "metadata": {},
   "outputs": [
    {
     "data": {
      "text/plain": [
       "'My first line in a+ openingThis is an added line, because I used the a+ mode'"
      ]
     },
     "execution_count": 71,
     "metadata": {},
     "output_type": "execute_result"
    }
   ],
   "source": [
    "my_file.read()"
   ]
  },
  {
   "cell_type": "code",
   "execution_count": 72,
   "id": "0b72c8ff",
   "metadata": {},
   "outputs": [
    {
     "data": {
      "text/plain": [
       "42"
      ]
     },
     "execution_count": 72,
     "metadata": {},
     "output_type": "execute_result"
    }
   ],
   "source": [
    "my_file.write('\\nThis is a REAL added line with line break')"
   ]
  },
  {
   "cell_type": "code",
   "execution_count": 79,
   "id": "8d488382",
   "metadata": {},
   "outputs": [
    {
     "data": {
      "text/plain": [
       "0"
      ]
     },
     "execution_count": 79,
     "metadata": {},
     "output_type": "execute_result"
    }
   ],
   "source": [
    "my_file.seek(0)"
   ]
  },
  {
   "cell_type": "code",
   "execution_count": 80,
   "id": "66c3e8e0",
   "metadata": {},
   "outputs": [
    {
     "name": "stdout",
     "output_type": "stream",
     "text": [
      "My first line in a+ openingThis is an added line, because I used the a+ mode\n",
      "This is a REAL added line with line break\n"
     ]
    }
   ],
   "source": [
    "print(my_file.read())"
   ]
  },
  {
   "cell_type": "markdown",
   "id": "e7658281",
   "metadata": {},
   "source": [
    "Open files without having to use .close() method"
   ]
  },
  {
   "cell_type": "code",
   "execution_count": 81,
   "id": "c42edaa0",
   "metadata": {},
   "outputs": [],
   "source": [
    "with open('whoops.txt', 'r') as mynewfile:\n",
    "    my_variable = mynewfile.readlines()"
   ]
  },
  {
   "cell_type": "code",
   "execution_count": 83,
   "id": "59433288",
   "metadata": {},
   "outputs": [
    {
     "data": {
      "text/plain": [
       "['My first line in a+ openingThis is an added line, because I used the a+ mode\\n',\n",
       " 'This is a REAL added line with line break']"
      ]
     },
     "execution_count": 83,
     "metadata": {},
     "output_type": "execute_result"
    }
   ],
   "source": [
    "my_variable"
   ]
  },
  {
   "cell_type": "code",
   "execution_count": null,
   "id": "0531935b",
   "metadata": {},
   "outputs": [],
   "source": []
  }
 ],
 "metadata": {
  "kernelspec": {
   "display_name": "Python 3 (ipykernel)",
   "language": "python",
   "name": "python3"
  },
  "language_info": {
   "codemirror_mode": {
    "name": "ipython",
    "version": 3
   },
   "file_extension": ".py",
   "mimetype": "text/x-python",
   "name": "python",
   "nbconvert_exporter": "python",
   "pygments_lexer": "ipython3",
   "version": "3.7.13"
  }
 },
 "nbformat": 4,
 "nbformat_minor": 5
}
