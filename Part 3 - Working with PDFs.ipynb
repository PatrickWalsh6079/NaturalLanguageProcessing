{
 "cells": [
  {
   "cell_type": "markdown",
   "id": "f8c44aca",
   "metadata": {},
   "source": [
    "# PyPDF2 library made to extract text from PDFs"
   ]
  },
  {
   "attachments": {
    "image.png": {
     "image/png": "[encoded data removed]"
    }
   },
   "cell_type": "markdown",
   "id": "ed9d449c",
   "metadata": {},
   "source": [
    "![image.png](attachment:image.png)"
   ]
  },
  {
   "cell_type": "code",
   "execution_count": 2,
   "id": "5edd78ad",
   "metadata": {},
   "outputs": [],
   "source": [
    "import PyPDF2"
   ]
  },
  {
   "cell_type": "code",
   "execution_count": 3,
   "id": "2bb46326",
   "metadata": {},
   "outputs": [
    {
     "data": {
      "text/plain": [
       "'C:\\\\Users\\\\pwalsh\\\\Downloads\\\\NLP_course'"
      ]
     },
     "execution_count": 3,
     "metadata": {},
     "output_type": "execute_result"
    }
   ],
   "source": [
    "pwd"
   ]
  },
  {
   "cell_type": "code",
   "execution_count": 5,
   "id": "b1a67492",
   "metadata": {},
   "outputs": [],
   "source": [
    "# rb = reading line binary method. Used for PDFs\n",
    "myfile = open('./UPDATED_NLP_COURSE/00-Python-Text-Basics/US_Declaration.pdf', mode='rb')"
   ]
  },
  {
   "cell_type": "code",
   "execution_count": 7,
   "id": "ea91d1d4",
   "metadata": {},
   "outputs": [],
   "source": [
    "# create pdf reader object\n",
    "pdf_reader = PyPDF2.PdfFileReader(myfile)"
   ]
  },
  {
   "cell_type": "code",
   "execution_count": 8,
   "id": "9e8c7445",
   "metadata": {},
   "outputs": [
    {
     "data": {
      "text/plain": [
       "5"
      ]
     },
     "execution_count": 8,
     "metadata": {},
     "output_type": "execute_result"
    }
   ],
   "source": [
    "pdf_reader.numPages"
   ]
  },
  {
   "cell_type": "code",
   "execution_count": 9,
   "id": "4d1be201",
   "metadata": {},
   "outputs": [],
   "source": [
    "page_one = pdf_reader.getPage(0)"
   ]
  },
  {
   "cell_type": "code",
   "execution_count": 16,
   "id": "f5e0d1f0",
   "metadata": {},
   "outputs": [
    {
     "data": {
      "text/plain": [
       "\"Declaration of Independence\\nIN CONGRESS, July 4, 1776.  The unanimous Declaration of the thirteen united States of America,  When in the Course of human events, it becomes necessary for one people to dissolve thepolitical bands which have connected them with another, and to assume among the powers of theearth, the separate and equal station to which the Laws of Nature and of Nature's God entitlethem, a decent respect to the opinions of mankind requires that they should declare the causeswhich impel them to the separation. We hold these truths to be self-evident, that all men are created equal, that they are endowed bytheir Creator with certain unalienable Rights, that among these are Life, Liberty and the pursuitof Happiness.— \\x14That to secure these rights, Governments are instituted among Men, derivingtheir just powers from the consent of the governed,—  \\x14That whenever any Form of Governmentbecomes destructive of these ends, it is the Right of the People to alter or to abolish it, and toinstitute new Government, laying its foundation on such principles and organizing its powers insuch form, as to them shall seem most likely to effect their Safety and Happiness. Prudence,indeed, will dictate that Governments long established should not be changed for light andtransient causes; and accordingly all experience hath shewn, that mankind are more disposed tosuffer, while evils are sufferable, than to right themselves by abolishing the forms to which theyare accustomed. But when a long train of abuses and usurpations, pursuing invariably the sameObject evinces a design to reduce them under absolute Despotism, it is their right, it is their duty,to throw off such Government, and to provide new Guards for their future securit y.— \\x14Such has been the patient sufferance of these Colonies; and such is now the necessity which constrainsthem to alter their former Systems of Government. The history of the present King of GreatBritain is a history of repeated injuries and usurpations, all having in direct object theestablishment of an absolute Tyranny over these States. To prove this, let Facts be submitted to acandid world. He has refused his Assent to Laws, the most wholesome and necessary for thepublic good.He has forbidden his Governors to pass Laws of immediate and pressingimportance, unless suspended in their operation till his Assent should be obtained;and when so suspended, he has utterly neglected to attend to them.He has refused to pass other Laws for the accommodation of large districts ofpeople, unless those people would relinquish the right of Representation in theLegislature, a right inestimable to them and formidable to tyrants only. He has called together legislative bodies at places unusual, uncomfortable, and distantfrom the depository of their public Records, for the sole purpose of fatiguing them intocompliance with his measures.\""
      ]
     },
     "execution_count": 16,
     "metadata": {},
     "output_type": "execute_result"
    }
   ],
   "source": [
    "page_one.extract_text()"
   ]
  },
  {
   "cell_type": "code",
   "execution_count": 17,
   "id": "7a05ac78",
   "metadata": {},
   "outputs": [
    {
     "name": "stdout",
     "output_type": "stream",
     "text": [
      "Declaration of Independence\n",
      "IN CONGRESS, July 4, 1776.  The unanimous Declaration of the thirteen united States of America,  When in the Course of human events, it becomes necessary for one people to dissolve thepolitical bands which have connected them with another, and to assume among the powers of theearth, the separate and equal station to which the Laws of Nature and of Nature's God entitlethem, a decent respect to the opinions of mankind requires that they should declare the causeswhich impel them to the separation. We hold these truths to be self-evident, that all men are created equal, that they are endowed bytheir Creator with certain unalienable Rights, that among these are Life, Liberty and the pursuitof Happiness.— \u0014That to secure these rights, Governments are instituted among Men, derivingtheir just powers from the consent of the governed,—  \u0014That whenever any Form of Governmentbecomes destructive of these ends, it is the Right of the People to alter or to abolish it, and toinstitute new Government, laying its foundation on such principles and organizing its powers insuch form, as to them shall seem most likely to effect their Safety and Happiness. Prudence,indeed, will dictate that Governments long established should not be changed for light andtransient causes; and accordingly all experience hath shewn, that mankind are more disposed tosuffer, while evils are sufferable, than to right themselves by abolishing the forms to which theyare accustomed. But when a long train of abuses and usurpations, pursuing invariably the sameObject evinces a design to reduce them under absolute Despotism, it is their right, it is their duty,to throw off such Government, and to provide new Guards for their future securit y.— \u0014Such has been the patient sufferance of these Colonies; and such is now the necessity which constrainsthem to alter their former Systems of Government. The history of the present King of GreatBritain is a history of repeated injuries and usurpations, all having in direct object theestablishment of an absolute Tyranny over these States. To prove this, let Facts be submitted to acandid world. He has refused his Assent to Laws, the most wholesome and necessary for thepublic good.He has forbidden his Governors to pass Laws of immediate and pressingimportance, unless suspended in their operation till his Assent should be obtained;and when so suspended, he has utterly neglected to attend to them.He has refused to pass other Laws for the accommodation of large districts ofpeople, unless those people would relinquish the right of Representation in theLegislature, a right inestimable to them and formidable to tyrants only. He has called together legislative bodies at places unusual, uncomfortable, and distantfrom the depository of their public Records, for the sole purpose of fatiguing them intocompliance with his measures.\n"
     ]
    }
   ],
   "source": [
    "# print with formatting\n",
    "print(page_one.extract_text())"
   ]
  },
  {
   "cell_type": "code",
   "execution_count": 18,
   "id": "8d8678f6",
   "metadata": {},
   "outputs": [],
   "source": [
    "mytext = page_one.extractText()"
   ]
  },
  {
   "cell_type": "code",
   "execution_count": 19,
   "id": "30293523",
   "metadata": {},
   "outputs": [],
   "source": [
    "myfile.close()"
   ]
  },
  {
   "cell_type": "code",
   "execution_count": 21,
   "id": "1039b93e",
   "metadata": {},
   "outputs": [],
   "source": [
    "f = open('./UPDATED_NLP_COURSE/00-Python-Text-Basics/US_Declaration.pdf', mode='rb')"
   ]
  },
  {
   "cell_type": "code",
   "execution_count": 22,
   "id": "b20ca0fa",
   "metadata": {},
   "outputs": [],
   "source": [
    "pdf_reader = PyPDF2.PdfFileReader(f)"
   ]
  },
  {
   "cell_type": "code",
   "execution_count": 23,
   "id": "885490ac",
   "metadata": {},
   "outputs": [],
   "source": [
    "first_page = pdf_reader.getPage(0)"
   ]
  },
  {
   "cell_type": "code",
   "execution_count": 24,
   "id": "3b922c4e",
   "metadata": {},
   "outputs": [],
   "source": [
    "pdf_writer = PyPDF2.PdfFileWriter()"
   ]
  },
  {
   "cell_type": "code",
   "execution_count": 26,
   "id": "913e5a21",
   "metadata": {},
   "outputs": [],
   "source": [
    "pdf_writer.addPage(first_page)"
   ]
  },
  {
   "cell_type": "code",
   "execution_count": 28,
   "id": "52d9bd8c",
   "metadata": {},
   "outputs": [],
   "source": [
    "# wb = write binary. Used for PDFs\n",
    "pdf_output = open('MY_BRAND_NEW.pdf', 'wb')"
   ]
  },
  {
   "cell_type": "code",
   "execution_count": 29,
   "id": "54fccaac",
   "metadata": {},
   "outputs": [],
   "source": [
    "pdf_writer.write(pdf_output)"
   ]
  },
  {
   "cell_type": "code",
   "execution_count": 30,
   "id": "058914c3",
   "metadata": {},
   "outputs": [],
   "source": [
    "pdf_output.close()"
   ]
  },
  {
   "cell_type": "code",
   "execution_count": 31,
   "id": "bf63b004",
   "metadata": {},
   "outputs": [],
   "source": [
    "f.close()"
   ]
  },
  {
   "cell_type": "code",
   "execution_count": 32,
   "id": "82a668f5",
   "metadata": {},
   "outputs": [],
   "source": [
    "brand_new = open('MY_BRAND_NEW.pdf', 'rb')"
   ]
  },
  {
   "cell_type": "code",
   "execution_count": 34,
   "id": "789da8cd",
   "metadata": {},
   "outputs": [],
   "source": [
    "pdf_reader = PyPDF2.PdfFileReader(brand_new)"
   ]
  },
  {
   "cell_type": "code",
   "execution_count": 36,
   "id": "9eb2d200",
   "metadata": {},
   "outputs": [
    {
     "data": {
      "text/plain": [
       "1"
      ]
     },
     "execution_count": 36,
     "metadata": {},
     "output_type": "execute_result"
    }
   ],
   "source": [
    "pdf_reader.numPages"
   ]
  },
  {
   "cell_type": "code",
   "execution_count": 41,
   "id": "cdf027fd",
   "metadata": {},
   "outputs": [],
   "source": [
    "f = open('./UPDATED_NLP_COURSE/00-Python-Text-Basics/US_Declaration.pdf', mode='rb')\n",
    "\n",
    "pdf_text = [0]\n",
    "pdf_reader = PyPDF2.PdfFileReader(f)\n",
    "\n",
    "for p in range(pdf_reader.numPages):\n",
    "    page = pdf_reader.getPage(p)\n",
    "    pdf_text.append(page.extract_text())\n",
    "f.close()"
   ]
  },
  {
   "cell_type": "code",
   "execution_count": 42,
   "id": "4a24945c",
   "metadata": {},
   "outputs": [
    {
     "data": {
      "text/plain": [
       "[0,\n",
       " \"Declaration of Independence\\nIN CONGRESS, July 4, 1776.  The unanimous Declaration of the thirteen united States of America,  When in the Course of human events, it becomes necessary for one people to dissolve thepolitical bands which have connected them with another, and to assume among the powers of theearth, the separate and equal station to which the Laws of Nature and of Nature's God entitlethem, a decent respect to the opinions of mankind requires that they should declare the causeswhich impel them to the separation. We hold these truths to be self-evident, that all men are created equal, that they are endowed bytheir Creator with certain unalienable Rights, that among these are Life, Liberty and the pursuitof Happiness.— \\x14That to secure these rights, Governments are instituted among Men, derivingtheir just powers from the consent of the governed,—  \\x14That whenever any Form of Governmentbecomes destructive of these ends, it is the Right of the People to alter or to abolish it, and toinstitute new Government, laying its foundation on such principles and organizing its powers insuch form, as to them shall seem most likely to effect their Safety and Happiness. Prudence,indeed, will dictate that Governments long established should not be changed for light andtransient causes; and accordingly all experience hath shewn, that mankind are more disposed tosuffer, while evils are sufferable, than to right themselves by abolishing the forms to which theyare accustomed. But when a long train of abuses and usurpations, pursuing invariably the sameObject evinces a design to reduce them under absolute Despotism, it is their right, it is their duty,to throw off such Government, and to provide new Guards for their future securit y.— \\x14Such has been the patient sufferance of these Colonies; and such is now the necessity which constrainsthem to alter their former Systems of Government. The history of the present King of GreatBritain is a history of repeated injuries and usurpations, all having in direct object theestablishment of an absolute Tyranny over these States. To prove this, let Facts be submitted to acandid world. He has refused his Assent to Laws, the most wholesome and necessary for thepublic good.He has forbidden his Governors to pass Laws of immediate and pressingimportance, unless suspended in their operation till his Assent should be obtained;and when so suspended, he has utterly neglected to attend to them.He has refused to pass other Laws for the accommodation of large districts ofpeople, unless those people would relinquish the right of Representation in theLegislature, a right inestimable to them and formidable to tyrants only. He has called together legislative bodies at places unusual, uncomfortable, and distantfrom the depository of their public Records, for the sole purpose of fatiguing them intocompliance with his measures.\",\n",
       " 'He has dissolved Re presentative Ho uses repeatedly , for opposing wit h manly\\nfirmness his invasions on the rights of the people.\\nHe has refused for a long time, after such dissolutions, to cause others to be\\nelected; whereby the Leg islative powers, incapable of Annihilation, have returned\\nto the People at lar ge for their exe rcise; the State r emaining in the me an time\\nexposed to all the dangers of invasion from without, and convulsions within.\\nHe has endeavou red to prevent the  population of these  States; for that pur pose\\nobstructing the L aws for Natural ization of Foreig ners; refusing  to pass others to\\nencourage their migrations hither, and raising the conditions of new\\nAppropriations of  Lands.\\nHe has obstructed the Administration of Justice, by refusing his Assent to Laws\\nfor establishing  Judiciary pow ers.\\nHe has made Judge s dependent on his Wil l alone, for the te nure of their off ices,\\nand the amount and  payment of t heir salaries.\\nHe has erected  a multitude of New  Offices, and se nt hither swarms of  Officers to\\nharrass our people, and eat out their substance.\\nHe has kept among us, in times of peace, Standing Armies without the Consent of\\nour legislature s.\\nHe has affected to render the Military independent of a nd superior to the Civil power.\\nHe has combined with others to subject us to a jurisdiction foreign to our\\nconstitution, and unacknowledged by our laws; giving his Assent to their Acts of\\npretended Legislation:\\nFor Quartering  large bodies of  armed troops amon g us:\\nFor protecting them, by a mock Trial, from punishment for any  Murders which\\nthey should c ommit on the Inha bitants of these Sta tes:\\nFor cutting off our Trade with all parts of the world:\\nFor imposing Taxe s on us without our Con sent: For deprivi ng us in many  cases,\\nof t he b enef its of T rial by J ury:\\nFor transporting us beyond Seas to be tried for pretended of fences\\nFor abolishing the free System of English L aws in a neighbouring Province,\\nestablishing therein an Arbitrary government, and e nlarging its Boundaries so as',\n",
       " 'to render it at onc e an example and fi t instrument for intr oducing the same\\nabsolute rule into  these Colonies:\\nFor taking away our Charters, abolishing our most valuable L aws, and altering\\nfundamentally  the Forms of our G overnments:\\nFor suspending  our own Leg islatures, and de claring themse lves invested with\\npower to legislate for us in all cases whatsoever.\\nHe has abdicated Government here, by declar ing us out of his Protection and\\nwaging War ag ainst us.\\nHe has plundered our seas, ravaged our Coasts, burnt our towns, and destroy ed the\\nlives of our people.\\nHe is at this time transporting large Armies of foreign Mercenaries to compleat\\nthe works of death, desolation and tyranny , already begun with circumstances of\\nCruelty & pe rfidy scar cely para lleled in the most ba rbarous ages,  and totally\\nunworthy of the Head of a civilized nation.\\nHe has constrained our fellow Citizens taken Captive on the high Seas to bear\\nArms against their Country, to become the executioners of their friends and\\nBrethren, or to  fall themselves by  their Hands.\\nHe has excited domestic insurrections amongst us, and has endeavoured to bring\\non the inhabitants of our frontiers, the merciless Indian Savages, whose known\\nrule of warfare, is an undistinguished destruction of all ages, sexes and conditions. \\nIn every  stage of these O ppressions We have  Petitioned for Redr ess in the most humble  terms:\\nOur repeated Pe titions have been a nswered only  by repeate d injury. A Pr ince whose char acter is\\nthus marked by every ac t which may define a Tyra nt, is unfit to be the ruler of a free people. \\nNor have We been wanting in attentions to our Brittish brethren. We have warned them from\\ntime to time  of attemp ts by th eir legi slature t o extend an  unwarra ntable jur isdiction  over us. We\\nhave reminded them of the circumstances of our emigration and settlement here. We have\\nappealed to their native justice and magnanimity, and we have c onjured them by the ties of our\\ncommon kindred to disavow these usurpations, which, would inevitably interrupt our\\nconnections and correspondence. They too have bee n deaf to the voice of justice and of\\nconsanguinity. We must, therefore, acquiesce in the necessity , which denounces our Separation,\\nand hold them, as we hold the rest of mankind, Enemies in War, in Peace Friends. \\nWe, therefore, t he Representativ es of the united Sta tes of America, i n General Congr ess,\\nAssembled, appealing to the Supreme Judge of the world for the rectitude of our intentions, do,\\nin the Name, and by Authority of the g ood People of these Colonies, solemnly publish and\\ndeclare, That th ese United Colonie s are, and of Rig ht ought to be Fre e and Indepe ndent States;\\nthat they are Absolved from all Allegiance to the British Crown, and that a ll political connection',\n",
       " 'between them and the State of Great Britain, is and ought to be totally dissolved; and that as Freeand Independent States, they have full Power to levy War, conclude Peace, contract Alliances,establish Commerce, and to do all other Acts and Things which Independent States may of rightdo. And for the support of this Declaration, with a firm reliance on the protection of divineProvidence, we mutually pledge to each other our Lives, our Fortunes and our sacred Honor.[The 56 signatures on the Declaration were arranged in six columns: ] [Column 1] Georgia:   Button Gwinnett   Lyman Hall   George Walton [Column 2] North Carolina:   William Hooper   Joseph Hewes   John Penn South Carolina:   Edward Rutledge   Thomas Heyward, Jr.  Thomas Lynch, Jr.  Arthur Middleton [Column 3] Massachusetts:   John Hancock Maryland:   Samuel Chase   William Paca   Thomas Stone   Charles Carroll of Carrollton Virginia:   George Wythe   Richard Henry Lee   Thomas Jefferson   Benjamin Harrison   Thomas Nelson, Jr.   Francis Lightfoot Lee   Carter Braxton [Column 4] Pennsylvania:  Robert Morris   Benjamin Rush   Benjamin Franklin   John Morton',\n",
       " '   George Clymer   James Smith   George Taylor   James Wilson   George Ross Delaware:   Caesar Rodney   George Read   Thomas McKean [Column 5] New York:   William Floyd   Philip Livingston   Francis Lewis   Lewis Morris New Jersey:   Richard Stockton   John Witherspoon   Francis Hopkinson   John Hart   Abraham Clark [Column 6] New Hampshire:   Josiah Bartlett   William Whipple Massachusetts:   Samuel Adams   John Adams   Robert Treat Paine   Elbridge Gerry Rhode Island:   Stephen Hopkins   William Ellery Connecticut:   Roger Sherman   Samuel Huntington   William Williams   Oliver Wolcott New Hampshire: Matthew Thornton ']"
      ]
     },
     "execution_count": 42,
     "metadata": {},
     "output_type": "execute_result"
    }
   ],
   "source": [
    "pdf_text"
   ]
  },
  {
   "cell_type": "code",
   "execution_count": 43,
   "id": "bcecab20",
   "metadata": {},
   "outputs": [
    {
     "data": {
      "text/plain": [
       "6"
      ]
     },
     "execution_count": 43,
     "metadata": {},
     "output_type": "execute_result"
    }
   ],
   "source": [
    "len(pdf_text)"
   ]
  },
  {
   "cell_type": "code",
   "execution_count": 44,
   "id": "00086889",
   "metadata": {},
   "outputs": [
    {
     "name": "stdout",
     "output_type": "stream",
     "text": [
      "0\n",
      "\n",
      "\n",
      "\n",
      "\n",
      "\n",
      "\n",
      "Declaration of Independence\n",
      "IN CONGRESS, July 4, 1776.  The unanimous Declaration of the thirteen united States of America,  When in the Course of human events, it becomes necessary for one people to dissolve thepolitical bands which have connected them with another, and to assume among the powers of theearth, the separate and equal station to which the Laws of Nature and of Nature's God entitlethem, a decent respect to the opinions of mankind requires that they should declare the causeswhich impel them to the separation. We hold these truths to be self-evident, that all men are created equal, that they are endowed bytheir Creator with certain unalienable Rights, that among these are Life, Liberty and the pursuitof Happiness.— \u0014That to secure these rights, Governments are instituted among Men, derivingtheir just powers from the consent of the governed,—  \u0014That whenever any Form of Governmentbecomes destructive of these ends, it is the Right of the People to alter or to abolish it, and toinstitute new Government, laying its foundation on such principles and organizing its powers insuch form, as to them shall seem most likely to effect their Safety and Happiness. Prudence,indeed, will dictate that Governments long established should not be changed for light andtransient causes; and accordingly all experience hath shewn, that mankind are more disposed tosuffer, while evils are sufferable, than to right themselves by abolishing the forms to which theyare accustomed. But when a long train of abuses and usurpations, pursuing invariably the sameObject evinces a design to reduce them under absolute Despotism, it is their right, it is their duty,to throw off such Government, and to provide new Guards for their future securit y.— \u0014Such has been the patient sufferance of these Colonies; and such is now the necessity which constrainsthem to alter their former Systems of Government. The history of the present King of GreatBritain is a history of repeated injuries and usurpations, all having in direct object theestablishment of an absolute Tyranny over these States. To prove this, let Facts be submitted to acandid world. He has refused his Assent to Laws, the most wholesome and necessary for thepublic good.He has forbidden his Governors to pass Laws of immediate and pressingimportance, unless suspended in their operation till his Assent should be obtained;and when so suspended, he has utterly neglected to attend to them.He has refused to pass other Laws for the accommodation of large districts ofpeople, unless those people would relinquish the right of Representation in theLegislature, a right inestimable to them and formidable to tyrants only. He has called together legislative bodies at places unusual, uncomfortable, and distantfrom the depository of their public Records, for the sole purpose of fatiguing them intocompliance with his measures.\n",
      "\n",
      "\n",
      "\n",
      "\n",
      "\n",
      "\n",
      "He has dissolved Re presentative Ho uses repeatedly , for opposing wit h manly\n",
      "firmness his invasions on the rights of the people.\n",
      "He has refused for a long time, after such dissolutions, to cause others to be\n",
      "elected; whereby the Leg islative powers, incapable of Annihilation, have returned\n",
      "to the People at lar ge for their exe rcise; the State r emaining in the me an time\n",
      "exposed to all the dangers of invasion from without, and convulsions within.\n",
      "He has endeavou red to prevent the  population of these  States; for that pur pose\n",
      "obstructing the L aws for Natural ization of Foreig ners; refusing  to pass others to\n",
      "encourage their migrations hither, and raising the conditions of new\n",
      "Appropriations of  Lands.\n",
      "He has obstructed the Administration of Justice, by refusing his Assent to Laws\n",
      "for establishing  Judiciary pow ers.\n",
      "He has made Judge s dependent on his Wil l alone, for the te nure of their off ices,\n",
      "and the amount and  payment of t heir salaries.\n",
      "He has erected  a multitude of New  Offices, and se nt hither swarms of  Officers to\n",
      "harrass our people, and eat out their substance.\n",
      "He has kept among us, in times of peace, Standing Armies without the Consent of\n",
      "our legislature s.\n",
      "He has affected to render the Military independent of a nd superior to the Civil power.\n",
      "He has combined with others to subject us to a jurisdiction foreign to our\n",
      "constitution, and unacknowledged by our laws; giving his Assent to their Acts of\n",
      "pretended Legislation:\n",
      "For Quartering  large bodies of  armed troops amon g us:\n",
      "For protecting them, by a mock Trial, from punishment for any  Murders which\n",
      "they should c ommit on the Inha bitants of these Sta tes:\n",
      "For cutting off our Trade with all parts of the world:\n",
      "For imposing Taxe s on us without our Con sent: For deprivi ng us in many  cases,\n",
      "of t he b enef its of T rial by J ury:\n",
      "For transporting us beyond Seas to be tried for pretended of fences\n",
      "For abolishing the free System of English L aws in a neighbouring Province,\n",
      "establishing therein an Arbitrary government, and e nlarging its Boundaries so as\n",
      "\n",
      "\n",
      "\n",
      "\n",
      "\n",
      "\n",
      "to render it at onc e an example and fi t instrument for intr oducing the same\n",
      "absolute rule into  these Colonies:\n",
      "For taking away our Charters, abolishing our most valuable L aws, and altering\n",
      "fundamentally  the Forms of our G overnments:\n",
      "For suspending  our own Leg islatures, and de claring themse lves invested with\n",
      "power to legislate for us in all cases whatsoever.\n",
      "He has abdicated Government here, by declar ing us out of his Protection and\n",
      "waging War ag ainst us.\n",
      "He has plundered our seas, ravaged our Coasts, burnt our towns, and destroy ed the\n",
      "lives of our people.\n",
      "He is at this time transporting large Armies of foreign Mercenaries to compleat\n",
      "the works of death, desolation and tyranny , already begun with circumstances of\n",
      "Cruelty & pe rfidy scar cely para lleled in the most ba rbarous ages,  and totally\n",
      "unworthy of the Head of a civilized nation.\n",
      "He has constrained our fellow Citizens taken Captive on the high Seas to bear\n",
      "Arms against their Country, to become the executioners of their friends and\n",
      "Brethren, or to  fall themselves by  their Hands.\n",
      "He has excited domestic insurrections amongst us, and has endeavoured to bring\n",
      "on the inhabitants of our frontiers, the merciless Indian Savages, whose known\n",
      "rule of warfare, is an undistinguished destruction of all ages, sexes and conditions. \n",
      "In every  stage of these O ppressions We have  Petitioned for Redr ess in the most humble  terms:\n",
      "Our repeated Pe titions have been a nswered only  by repeate d injury. A Pr ince whose char acter is\n",
      "thus marked by every ac t which may define a Tyra nt, is unfit to be the ruler of a free people. \n",
      "Nor have We been wanting in attentions to our Brittish brethren. We have warned them from\n",
      "time to time  of attemp ts by th eir legi slature t o extend an  unwarra ntable jur isdiction  over us. We\n",
      "have reminded them of the circumstances of our emigration and settlement here. We have\n",
      "appealed to their native justice and magnanimity, and we have c onjured them by the ties of our\n",
      "common kindred to disavow these usurpations, which, would inevitably interrupt our\n",
      "connections and correspondence. They too have bee n deaf to the voice of justice and of\n",
      "consanguinity. We must, therefore, acquiesce in the necessity , which denounces our Separation,\n",
      "and hold them, as we hold the rest of mankind, Enemies in War, in Peace Friends. \n",
      "We, therefore, t he Representativ es of the united Sta tes of America, i n General Congr ess,\n",
      "Assembled, appealing to the Supreme Judge of the world for the rectitude of our intentions, do,\n",
      "in the Name, and by Authority of the g ood People of these Colonies, solemnly publish and\n",
      "declare, That th ese United Colonie s are, and of Rig ht ought to be Fre e and Indepe ndent States;\n",
      "that they are Absolved from all Allegiance to the British Crown, and that a ll political connection\n",
      "\n",
      "\n",
      "\n",
      "\n",
      "\n",
      "\n",
      "between them and the State of Great Britain, is and ought to be totally dissolved; and that as Freeand Independent States, they have full Power to levy War, conclude Peace, contract Alliances,establish Commerce, and to do all other Acts and Things which Independent States may of rightdo. And for the support of this Declaration, with a firm reliance on the protection of divineProvidence, we mutually pledge to each other our Lives, our Fortunes and our sacred Honor.[The 56 signatures on the Declaration were arranged in six columns: ] [Column 1] Georgia:   Button Gwinnett   Lyman Hall   George Walton [Column 2] North Carolina:   William Hooper   Joseph Hewes   John Penn South Carolina:   Edward Rutledge   Thomas Heyward, Jr.  Thomas Lynch, Jr.  Arthur Middleton [Column 3] Massachusetts:   John Hancock Maryland:   Samuel Chase   William Paca   Thomas Stone   Charles Carroll of Carrollton Virginia:   George Wythe   Richard Henry Lee   Thomas Jefferson   Benjamin Harrison   Thomas Nelson, Jr.   Francis Lightfoot Lee   Carter Braxton [Column 4] Pennsylvania:  Robert Morris   Benjamin Rush   Benjamin Franklin   John Morton\n",
      "\n",
      "\n",
      "\n",
      "\n",
      "\n",
      "\n",
      "   George Clymer   James Smith   George Taylor   James Wilson   George Ross Delaware:   Caesar Rodney   George Read   Thomas McKean [Column 5] New York:   William Floyd   Philip Livingston   Francis Lewis   Lewis Morris New Jersey:   Richard Stockton   John Witherspoon   Francis Hopkinson   John Hart   Abraham Clark [Column 6] New Hampshire:   Josiah Bartlett   William Whipple Massachusetts:   Samuel Adams   John Adams   Robert Treat Paine   Elbridge Gerry Rhode Island:   Stephen Hopkins   William Ellery Connecticut:   Roger Sherman   Samuel Huntington   William Williams   Oliver Wolcott New Hampshire: Matthew Thornton \n",
      "\n",
      "\n",
      "\n",
      "\n",
      "\n",
      "\n"
     ]
    }
   ],
   "source": [
    "for page in pdf_text:\n",
    "    print(page)\n",
    "    print('\\n')\n",
    "    print('\\n')\n",
    "    print('\\n')"
   ]
  },
  {
   "cell_type": "code",
   "execution_count": null,
   "id": "98d58d79",
   "metadata": {},
   "outputs": [],
   "source": []
  }
 ],
 "metadata": {
  "kernelspec": {
   "display_name": "Python 3 (ipykernel)",
   "language": "python",
   "name": "python3"
  },
  "language_info": {
   "codemirror_mode": {
    "name": "ipython",
    "version": 3
   },
   "file_extension": ".py",
   "mimetype": "text/x-python",
   "name": "python",
   "nbconvert_exporter": "python",
   "pygments_lexer": "ipython3",
   "version": "3.7.13"
  }
 },
 "nbformat": 4,
 "nbformat_minor": 5
}
