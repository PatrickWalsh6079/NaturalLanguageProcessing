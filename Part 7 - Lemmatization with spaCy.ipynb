{
 "cells": [
  {
   "cell_type": "markdown",
   "id": "7a32aa29",
   "metadata": {},
   "source": [
    "# Lemmatization\n",
    "In contrast to stemming, lemmatization looks beyond word reduction, and considers a language's full vocabulary to apply a *morphological analysis* to words. The lemma of 'was' is 'be' and the lemma of 'mice' is 'mouse'. Further, the lemma of 'meeting' might be 'meet' or 'meeting' depending on its use in a sentence."
   ]
  },
  {
   "cell_type": "code",
   "execution_count": 1,
   "id": "16bdf3dd",
   "metadata": {},
   "outputs": [],
   "source": [
    "import spacy"
   ]
  },
  {
   "cell_type": "code",
   "execution_count": 2,
   "id": "d1f98063",
   "metadata": {},
   "outputs": [],
   "source": [
    "nlp = spacy.load('en')"
   ]
  },
  {
   "cell_type": "code",
   "execution_count": 3,
   "id": "6945a305",
   "metadata": {},
   "outputs": [],
   "source": [
    "doc1 = nlp(u\"I am a runner running in a race because I love to run since I ran today.\")"
   ]
  },
  {
   "cell_type": "code",
   "execution_count": 9,
   "id": "992c54bf",
   "metadata": {},
   "outputs": [
    {
     "name": "stdout",
     "output_type": "stream",
     "text": [
      "I \t\t PRON \t\t 561228191312463089 \t\t -PRON-\n",
      "am \t\t VERB \t\t 10382539506755952630 \t\t be\n",
      "a \t\t DET \t\t 11901859001352538922 \t\t a\n",
      "runner \t\t NOUN \t\t 12640964157389618806 \t\t runner\n",
      "running \t\t VERB \t\t 12767647472892411841 \t\t run\n",
      "in \t\t ADP \t\t 3002984154512732771 \t\t in\n",
      "a \t\t DET \t\t 11901859001352538922 \t\t a\n",
      "race \t\t NOUN \t\t 8048469955494714898 \t\t race\n",
      "because \t\t ADP \t\t 16950148841647037698 \t\t because\n",
      "I \t\t PRON \t\t 561228191312463089 \t\t -PRON-\n",
      "love \t\t VERB \t\t 3702023516439754181 \t\t love\n",
      "to \t\t PART \t\t 3791531372978436496 \t\t to\n",
      "run \t\t VERB \t\t 12767647472892411841 \t\t run\n",
      "since \t\t ADP \t\t 10066841407251338481 \t\t since\n",
      "I \t\t PRON \t\t 561228191312463089 \t\t -PRON-\n",
      "ran \t\t VERB \t\t 12767647472892411841 \t\t run\n",
      "today \t\t NOUN \t\t 11042482332948150395 \t\t today\n",
      ". \t\t PUNCT \t\t 12646065887601541794 \t\t .\n"
     ]
    }
   ],
   "source": [
    "# print word, part-of-speech, lemma number from language library, and lemma of word\n",
    "for token in doc1:\n",
    "    print(token.text,'\\t\\t',token.pos_,'\\t\\t',token.lemma,'\\t\\t',token.lemma_)"
   ]
  },
  {
   "cell_type": "code",
   "execution_count": 10,
   "id": "0658e7c1",
   "metadata": {},
   "outputs": [],
   "source": [
    "# format the output\n",
    "def show_lemmas(text):\n",
    "    for token in text:\n",
    "        print(f'{token.text:{12}} {token.pos_:{6}} {token.lemma:<{22}} {token.lemma_}')"
   ]
  },
  {
   "cell_type": "code",
   "execution_count": 11,
   "id": "dd9f2e05",
   "metadata": {},
   "outputs": [],
   "source": [
    "doc2 = nlp(u\"I saw ten mice today!\")"
   ]
  },
  {
   "cell_type": "code",
   "execution_count": 12,
   "id": "d4ffdcf0",
   "metadata": {},
   "outputs": [
    {
     "name": "stdout",
     "output_type": "stream",
     "text": [
      "I            PRON   561228191312463089     -PRON-\n",
      "saw          VERB   11925638236994514241   see\n",
      "ten          NUM    7970704286052693043    ten\n",
      "mice         NOUN   1384165645700560590    mouse\n",
      "today        NOUN   11042482332948150395   today\n",
      "!            PUNCT  17494803046312582752   !\n"
     ]
    }
   ],
   "source": [
    "show_lemmas(doc2)"
   ]
  },
  {
   "cell_type": "code",
   "execution_count": null,
   "id": "cac43741",
   "metadata": {},
   "outputs": [],
   "source": []
  }
 ],
 "metadata": {
  "kernelspec": {
   "display_name": "Python 3 (ipykernel)",
   "language": "python",
   "name": "python3"
  },
  "language_info": {
   "codemirror_mode": {
    "name": "ipython",
    "version": 3
   },
   "file_extension": ".py",
   "mimetype": "text/x-python",
   "name": "python",
   "nbconvert_exporter": "python",
   "pygments_lexer": "ipython3",
   "version": "3.7.13"
  }
 },
 "nbformat": 4,
 "nbformat_minor": 5
}
