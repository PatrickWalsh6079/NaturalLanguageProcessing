{
 "cells": [
  {
   "cell_type": "markdown",
   "id": "f615c5d6",
   "metadata": {},
   "source": [
    "# Stop Words\n",
    "Words like \"a\" and \"the\" appear so frequently that they don't require tagging as thoroughly as nouns, verbs and modifiers. We call these *stop words*, and they can be filtered from the text to be processed. spaCy holds a built-in list of some 305 English stop words."
   ]
  },
  {
   "cell_type": "code",
   "execution_count": 1,
   "id": "b2c6d937",
   "metadata": {},
   "outputs": [],
   "source": [
    "import spacy"
   ]
  },
  {
   "cell_type": "code",
   "execution_count": 2,
   "id": "877c1f16",
   "metadata": {},
   "outputs": [],
   "source": [
    "nlp = spacy.load('en')"
   ]
  },
  {
   "cell_type": "code",
   "execution_count": 3,
   "id": "b6f2b787",
   "metadata": {},
   "outputs": [
    {
     "name": "stdout",
     "output_type": "stream",
     "text": [
      "{'somewhere', 'herself', 'say', 'about', 'beyond', 'anything', 'themselves', 'whom', 'without', 'but', 'get', 'always', 'now', 'others', 'yourselves', 'being', 'under', 'show', 'already', 'among', 'few', 'might', 'sometime', 'front', 'her', 'two', 'per', 'whereafter', 'its', 'whither', 'thereby', 'would', 'except', 'ca', 'as', 'him', 'where', 'nine', 'have', 'whereupon', 'toward', 'was', 'along', 'yours', 'any', 'often', 'via', 'too', 'though', 'during', 'this', 'well', 'most', 'various', 'their', 'is', 'doing', 'may', 'thence', 'last', 'due', 'that', 'empty', 'enough', 'hundred', 'must', 'a', 'while', 'noone', 'out', 'hence', 'they', 'using', 'nothing', 'someone', 'move', 'you', 'unless', 'therefore', 'upon', 'within', 'top', 'by', 'everyone', 'to', 'several', 'thereafter', 'which', 'ourselves', 'when', 'of', 'until', 'only', 'wherever', 'between', 'however', 'itself', 'six', 'fifty', 'onto', 'whole', 'amount', 'latter', 'am', 'should', 'after', 'does', 'how', 'seeming', 'she', 'anyway', 'see', 'who', 'such', 'fifteen', 'has', 'give', 'at', 'our', 'ever', 'us', 'twelve', 'almost', 'take', 'moreover', 'whether', 'hereafter', 'meanwhile', 'why', 'go', 'the', 'serious', 'whenever', 'whereby', 'anywhere', 'some', 'even', 'nobody', 'towards', 'done', 'other', 'myself', 'off', 'own', 'side', 'will', 'nevertheless', 'my', 'least', 'either', 'ours', 'rather', 'what', 'once', 'and', 'over', 'here', 'really', 'eleven', 'so', 'more', 'used', 'before', 'latterly', 'beside', 'mine', 'much', 'no', 'throughout', 'then', 'namely', 'anyhow', 'whence', 'one', 'made', 'above', 'seemed', 'through', 'again', 'against', 'just', 'same', 'since', 'if', 'became', 'he', 'together', 'many', 'never', 'everywhere', 'third', 'elsewhere', 'sometimes', 'indeed', 'whereas', 'make', 'perhaps', 'five', 'did', 'further', 'whoever', 'part', 'forty', 'keep', 'whose', 'hereby', 'can', 'next', 're', 'becomes', 'also', 'below', 'both', 'herein', 'we', 'otherwise', 'those', 'thus', 'three', 'mostly', 'wherein', 'could', 'full', 'eight', 'seem', 'call', 'seems', 'quite', 'me', 'anyone', 'cannot', 'afterwards', 'yourself', 'beforehand', 'another', 'it', 'these', 'every', 'becoming', 'do', 'an', 'everything', 'first', 'none', 'than', 'therein', 'something', 'formerly', 'into', 'or', 'ten', 'there', 'thereupon', 'are', 'with', 'down', 'amongst', 'back', 'hers', 'around', 'nor', 'somehow', 'less', 'your', 'each', 'alone', 'i', 'not', 'else', 'put', 'from', 'himself', 'become', 'behind', 'his', 'for', 'please', 'in', 'nowhere', 'still', 'hereupon', 'bottom', 'were', 'all', 'been', 'former', 'twenty', 'them', 'whatever', 'up', 'four', 'be', 'name', 'on', 'regarding', 'sixty', 'yet', 'thru', 'neither', 'very', 'besides', 'because', 'across', 'although', 'had'}\n"
     ]
    }
   ],
   "source": [
    "print(nlp.Defaults.stop_words)"
   ]
  },
  {
   "cell_type": "code",
   "execution_count": 4,
   "id": "8cd8a4e2",
   "metadata": {},
   "outputs": [
    {
     "data": {
      "text/plain": [
       "305"
      ]
     },
     "execution_count": 4,
     "metadata": {},
     "output_type": "execute_result"
    }
   ],
   "source": [
    "len(nlp.Defaults.stop_words)"
   ]
  },
  {
   "cell_type": "code",
   "execution_count": 5,
   "id": "5c26c4e5",
   "metadata": {},
   "outputs": [
    {
     "data": {
      "text/plain": [
       "True"
      ]
     },
     "execution_count": 5,
     "metadata": {},
     "output_type": "execute_result"
    }
   ],
   "source": [
    "nlp.vocab['is'].is_stop"
   ]
  },
  {
   "cell_type": "code",
   "execution_count": 6,
   "id": "19fa7d51",
   "metadata": {},
   "outputs": [
    {
     "data": {
      "text/plain": [
       "False"
      ]
     },
     "execution_count": 6,
     "metadata": {},
     "output_type": "execute_result"
    }
   ],
   "source": [
    "nlp.vocab['mystery'].is_stop"
   ]
  },
  {
   "cell_type": "markdown",
   "id": "82b1af50",
   "metadata": {},
   "source": [
    "## Manually add words to list of stop words"
   ]
  },
  {
   "cell_type": "code",
   "execution_count": 7,
   "id": "62fbf0f2",
   "metadata": {},
   "outputs": [
    {
     "data": {
      "text/plain": [
       "False"
      ]
     },
     "execution_count": 7,
     "metadata": {},
     "output_type": "execute_result"
    }
   ],
   "source": [
    "nlp.vocab['btw'].is_stop"
   ]
  },
  {
   "cell_type": "code",
   "execution_count": 8,
   "id": "8c7f6a8b",
   "metadata": {},
   "outputs": [],
   "source": [
    "nlp.Defaults.stop_words.add('btw')\n",
    "nlp.vocab['btw'].is_stop = True"
   ]
  },
  {
   "cell_type": "code",
   "execution_count": 9,
   "id": "815fcd23",
   "metadata": {},
   "outputs": [
    {
     "data": {
      "text/plain": [
       "True"
      ]
     },
     "execution_count": 9,
     "metadata": {},
     "output_type": "execute_result"
    }
   ],
   "source": [
    "nlp.vocab['btw'].is_stop"
   ]
  },
  {
   "cell_type": "markdown",
   "id": "03fd419b",
   "metadata": {},
   "source": [
    "## Remove words from list of stop words"
   ]
  },
  {
   "cell_type": "code",
   "execution_count": 10,
   "id": "387b31f9",
   "metadata": {},
   "outputs": [],
   "source": [
    "nlp.Defaults.stop_words.remove('btw')\n",
    "nlp.vocab['btw'].is_stop = False"
   ]
  },
  {
   "cell_type": "code",
   "execution_count": 11,
   "id": "63f98628",
   "metadata": {},
   "outputs": [
    {
     "data": {
      "text/plain": [
       "False"
      ]
     },
     "execution_count": 11,
     "metadata": {},
     "output_type": "execute_result"
    }
   ],
   "source": [
    "nlp.vocab['btw'].is_stop"
   ]
  },
  {
   "cell_type": "code",
   "execution_count": null,
   "id": "7074d051",
   "metadata": {},
   "outputs": [],
   "source": []
  }
 ],
 "metadata": {
  "kernelspec": {
   "display_name": "Python 3 (ipykernel)",
   "language": "python",
   "name": "python3"
  },
  "language_info": {
   "codemirror_mode": {
    "name": "ipython",
    "version": 3
   },
   "file_extension": ".py",
   "mimetype": "text/x-python",
   "name": "python",
   "nbconvert_exporter": "python",
   "pygments_lexer": "ipython3",
   "version": "3.7.13"
  }
 },
 "nbformat": 4,
 "nbformat_minor": 5
}
